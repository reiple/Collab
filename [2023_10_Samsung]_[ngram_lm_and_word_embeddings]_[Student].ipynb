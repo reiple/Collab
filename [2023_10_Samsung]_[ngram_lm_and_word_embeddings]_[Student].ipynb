{
  "nbformat": 4,
  "nbformat_minor": 0,
  "metadata": {
    "colab": {
      "provenance": [],
      "gpuType": "T4",
      "toc_visible": true,
      "include_colab_link": true
    },
    "kernelspec": {
      "name": "python3",
      "display_name": "Python 3"
    },
    "language_info": {
      "name": "python"
    },
    "accelerator": "GPU"
  },
  "cells": [
    {
      "cell_type": "markdown",
      "metadata": {
        "id": "view-in-github",
        "colab_type": "text"
      },
      "source": [
        "<a href=\"https://colab.research.google.com/github/reiple/Collab/blob/main/%5B2023_10_Samsung%5D_%5Bngram_lm_and_word_embeddings%5D_%5BStudent%5D.ipynb\" target=\"_parent\"><img src=\"https://colab.research.google.com/assets/colab-badge.svg\" alt=\"Open In Colab\"/></a>"
      ]
    },
    {
      "cell_type": "markdown",
      "source": [
        "# N-gram Language Model & Word Embeddings"
      ],
      "metadata": {
        "id": "qop7zzfgFGzN"
      }
    },
    {
      "cell_type": "code",
      "source": [
        "import tqdm\n",
        "\n",
        "# We use PyTorch\n",
        "import torch\n",
        "import torch.nn as nn\n",
        "import torch.nn.functional as F\n",
        "import torch.optim as optim\n",
        "\n",
        "torch.manual_seed(1)"
      ],
      "metadata": {
        "id": "xmY5iFTOszVT",
        "colab": {
          "base_uri": "https://localhost:8080/"
        },
        "outputId": "4e437535-8395-470e-eb21-b80d11aa73e1"
      },
      "execution_count": 1,
      "outputs": [
        {
          "output_type": "execute_result",
          "data": {
            "text/plain": [
              "<torch._C.Generator at 0x7bd6907c80d0>"
            ]
          },
          "metadata": {},
          "execution_count": 1
        }
      ]
    },
    {
      "cell_type": "code",
      "source": [
        "# Gensim\n",
        "#!pip install gensim==3.8.3\n",
        "import gensim.downloader as api"
      ],
      "metadata": {
        "id": "a8zGt9lNFgtu"
      },
      "execution_count": 2,
      "outputs": []
    },
    {
      "cell_type": "markdown",
      "source": [
        "### 1.1 Loading text"
      ],
      "metadata": {
        "id": "sUMxI61c82fM"
      }
    },
    {
      "cell_type": "code",
      "source": [
        "!wget https://raw.githubusercontent.com/karpathy/char-rnn/master/data/tinyshakespeare/input.txt -O shakespeare.txt\n",
        "shakespeare = open(\"shakespeare.txt\").readlines()\n",
        "\n"
      ],
      "metadata": {
        "id": "VbxqwBw2kNlY",
        "colab": {
          "base_uri": "https://localhost:8080/"
        },
        "outputId": "316fbc58-8122-42e3-8dfb-3ebca716d78a"
      },
      "execution_count": 3,
      "outputs": [
        {
          "output_type": "stream",
          "name": "stdout",
          "text": [
            "--2023-10-10 06:00:12--  https://raw.githubusercontent.com/karpathy/char-rnn/master/data/tinyshakespeare/input.txt\n",
            "Resolving raw.githubusercontent.com (raw.githubusercontent.com)... 185.199.108.133, 185.199.109.133, 185.199.110.133, ...\n",
            "Connecting to raw.githubusercontent.com (raw.githubusercontent.com)|185.199.108.133|:443... connected.\n",
            "HTTP request sent, awaiting response... 200 OK\n",
            "Length: 1115394 (1.1M) [text/plain]\n",
            "Saving to: ‘shakespeare.txt’\n",
            "\n",
            "shakespeare.txt     100%[===================>]   1.06M  --.-KB/s    in 0.05s   \n",
            "\n",
            "2023-10-10 06:00:12 (22.0 MB/s) - ‘shakespeare.txt’ saved [1115394/1115394]\n",
            "\n"
          ]
        }
      ]
    },
    {
      "cell_type": "code",
      "source": [
        "# First lines\n",
        "shakespeare[:10]"
      ],
      "metadata": {
        "colab": {
          "base_uri": "https://localhost:8080/"
        },
        "id": "vyuh1eV2UYla",
        "outputId": "fda69475-4013-4012-a6aa-ca2ec2c6579c"
      },
      "execution_count": 4,
      "outputs": [
        {
          "output_type": "execute_result",
          "data": {
            "text/plain": [
              "['First Citizen:\\n',\n",
              " 'Before we proceed any further, hear me speak.\\n',\n",
              " '\\n',\n",
              " 'All:\\n',\n",
              " 'Speak, speak.\\n',\n",
              " '\\n',\n",
              " 'First Citizen:\\n',\n",
              " 'You are all resolved rather to die than to famish?\\n',\n",
              " '\\n',\n",
              " 'All:\\n']"
            ]
          },
          "metadata": {},
          "execution_count": 4
        }
      ]
    },
    {
      "cell_type": "code",
      "source": [
        "# last lines\n",
        "shakespeare[-10:]"
      ],
      "metadata": {
        "colab": {
          "base_uri": "https://localhost:8080/"
        },
        "id": "oQ1f0X4cUZR4",
        "outputId": "38a10e13-6ad4-4d3a-fef3-ee8e9589f620"
      },
      "execution_count": 5,
      "outputs": [
        {
          "output_type": "execute_result",
          "data": {
            "text/plain": [
              "[\"It is a sleepy language and thou speak'st\\n\",\n",
              " 'Out of thy sleep. What is it thou didst say?\\n',\n",
              " 'This is a strange repose, to be asleep\\n',\n",
              " 'With eyes wide open; standing, speaking, moving,\\n',\n",
              " 'And yet so fast asleep.\\n',\n",
              " '\\n',\n",
              " 'ANTONIO:\\n',\n",
              " 'Noble Sebastian,\\n',\n",
              " \"Thou let'st thy fortune sleep--die, rather; wink'st\\n\",\n",
              " 'Whiles thou art waking.\\n']"
            ]
          },
          "metadata": {},
          "execution_count": 5
        }
      ]
    },
    {
      "cell_type": "code",
      "source": [
        "len(shakespeare)"
      ],
      "metadata": {
        "colab": {
          "base_uri": "https://localhost:8080/"
        },
        "id": "o27rGcebUUFI",
        "outputId": "8c1e64fa-313d-45e8-b45b-33dbc6bd4e4b"
      },
      "execution_count": 6,
      "outputs": [
        {
          "output_type": "execute_result",
          "data": {
            "text/plain": [
              "40000"
            ]
          },
          "metadata": {},
          "execution_count": 6
        }
      ]
    },
    {
      "cell_type": "code",
      "source": [
        "word_to_ix = {\"hello\": 0, \"world\": 1}\n",
        "embeds = nn.Embedding(2, 5)  # 2 words in vocab, 5 dimensional embeddings\n",
        "lookup_tensor = torch.tensor([word_to_ix[\"hello\"]], dtype=torch.long)\n",
        "hello_embed = embeds(lookup_tensor)\n",
        "print(hello_embed)"
      ],
      "metadata": {
        "id": "YH5zJjbdE8Ei",
        "colab": {
          "base_uri": "https://localhost:8080/"
        },
        "outputId": "fc3ae6fb-2800-4176-dda2-be05d901b9e1"
      },
      "execution_count": 7,
      "outputs": [
        {
          "output_type": "stream",
          "name": "stdout",
          "text": [
            "tensor([[ 0.6614,  0.2669,  0.0617,  0.6213, -0.4519]],\n",
            "       grad_fn=<EmbeddingBackward0>)\n"
          ]
        }
      ]
    },
    {
      "cell_type": "code",
      "source": [
        "# We will use Shakespeare Sonnet 2\n",
        "text_data = ' '.join(shakespeare[:10000]).split()\n",
        "# we should tokenize the input, but we will ignore that for now"
      ],
      "metadata": {
        "id": "fMJuGJDuHb5n"
      },
      "execution_count": 8,
      "outputs": []
    },
    {
      "cell_type": "code",
      "source": [
        "print(text_data[:20])"
      ],
      "metadata": {
        "colab": {
          "base_uri": "https://localhost:8080/"
        },
        "id": "8kzsKUbuU7Rc",
        "outputId": "52291ca7-3b89-45c6-e33d-18ae9c4d481b"
      },
      "execution_count": 9,
      "outputs": [
        {
          "output_type": "stream",
          "name": "stdout",
          "text": [
            "['First', 'Citizen:', 'Before', 'we', 'proceed', 'any', 'further,', 'hear', 'me', 'speak.', 'All:', 'Speak,', 'speak.', 'First', 'Citizen:', 'You', 'are', 'all', 'resolved', 'rather']\n"
          ]
        }
      ]
    },
    {
      "cell_type": "markdown",
      "source": [
        "### 1.2 Training trigram model"
      ],
      "metadata": {
        "id": "msR73LxM9XO8"
      }
    },
    {
      "cell_type": "code",
      "source": [
        "# Hyperparams\n",
        "CONTEXT_SIZE = 2\n",
        "EMBEDDING_DIM = 10"
      ],
      "metadata": {
        "id": "-HIVLiVXS7Rd"
      },
      "execution_count": 10,
      "outputs": []
    },
    {
      "cell_type": "code",
      "source": [
        "\n",
        "\n",
        "# build a list of tuples.\n",
        "# Each tuple is ([ word_i-CONTEXT_SIZE, ..., word_i-1 ], target word)\n",
        "all_ngrams = [\n",
        "    (\n",
        "        [text_data[i - CONTEXT_SIZE + j] for j in range(CONTEXT_SIZE)],\n",
        "        text_data[i]\n",
        "    )\n",
        "    for i in range(CONTEXT_SIZE, len(text_data))\n",
        "]\n",
        "\n"
      ],
      "metadata": {
        "id": "iHeNJDNzGQ_6"
      },
      "execution_count": 11,
      "outputs": []
    },
    {
      "cell_type": "code",
      "source": [
        "# Exercise: Print the first 3, just so you can see what they look like.\n",
        "print(all_ngrams[:3])"
      ],
      "metadata": {
        "id": "jtVsLmO2_0BS",
        "colab": {
          "base_uri": "https://localhost:8080/"
        },
        "outputId": "8188231d-39d9-4367-8af9-79189ca58d51"
      },
      "execution_count": 12,
      "outputs": [
        {
          "output_type": "stream",
          "name": "stdout",
          "text": [
            "[(['First', 'Citizen:'], 'Before'), (['Citizen:', 'Before'], 'we'), (['Before', 'we'], 'proceed')]\n"
          ]
        }
      ]
    },
    {
      "cell_type": "code",
      "source": [
        "# Exercise: How many ngrams are there in total?\n",
        "total_ngrams = len(all_ngrams)\n",
        "print(f\"Total ngrams: {total_ngrams}\")"
      ],
      "metadata": {
        "id": "Fvfk1U0WMvX2",
        "colab": {
          "base_uri": "https://localhost:8080/"
        },
        "outputId": "88b5b6b2-5c50-4436-effd-e17a2912df73"
      },
      "execution_count": 13,
      "outputs": [
        {
          "output_type": "stream",
          "name": "stdout",
          "text": [
            "Total ngrams: 48249\n"
          ]
        }
      ]
    },
    {
      "cell_type": "code",
      "source": [
        "# Exercise: How many 1-grams (unique words) are there in total?\n",
        "vocab = set(text_data)\n",
        "unique_words = len(vocab)\n",
        "print(f\"Total 1-grams (unique words): {unique_words}\")"
      ],
      "metadata": {
        "id": "sImc04gdMvX2",
        "colab": {
          "base_uri": "https://localhost:8080/"
        },
        "outputId": "f48efb1c-a850-48d3-cc59-8d5d9ec1d4bb"
      },
      "execution_count": 14,
      "outputs": [
        {
          "output_type": "stream",
          "name": "stdout",
          "text": [
            "Total 1-grams (unique words): 9798\n"
          ]
        }
      ]
    },
    {
      "cell_type": "code",
      "source": [
        "# Exercise: Using the 1-gram words, create a vocabulary dictionary the maps word to idx\n",
        "word_to_ix = {word: idx for idx, word in enumerate(vocab)}\n",
        "print(f\"Vocabulary mapping: {word_to_ix}\")"
      ],
      "metadata": {
        "id": "hqElxTLNMvX2",
        "colab": {
          "base_uri": "https://localhost:8080/"
        },
        "outputId": "1c5fc02e-1780-427e-d87c-16403185703b"
      },
      "execution_count": 15,
      "outputs": [
        {
          "output_type": "stream",
          "name": "stdout",
          "text": [
            "Vocabulary mapping: {'exercise,': 0, \"establish'd\": 1, 'subject.': 2, 'ghost,': 3, 'joyfully': 4, 'nurse.': 5, 'humble': 6, 'libels': 7, 'people:': 8, \"o'erleap\": 9, 'raiment': 10, 'gave': 11, 'report.': 12, 'Back,': 13, 'turn': 14, 'Falsely': 15, 'apprehension': 16, 'prescription': 17, 'envied': 18, 'yond': 19, 'pursuing': 20, 'tribunes,--': 21, 'enforcement': 22, 'obstinate.': 23, 'then,': 24, 'know--as': 25, 'cushion': 26, 'likes': 27, 'that:': 28, 'chop': 29, 'bodies': 30, 'canst': 31, 'jealous': 32, 'bow': 33, 'lift': 34, 'refuse': 35, 'instant': 36, 'remorse': 37, 'nothing': 38, 'it,--as,': 39, 'time': 40, 'behalf': 41, 'Smile': 42, 'sharp-provided': 43, 'razed': 44, 'Thyself': 45, 'Ludlow.': 46, 'vent.': 47, 'place,': 48, 'turns': 49, \"war's\": 50, 'little,': 51, 'big': 52, \"poor'st\": 53, 'Aufidius': 54, 'Stand': 55, 'dog!': 56, 'which': 57, 'occupation': 58, 'treading:': 59, 'substitute': 60, 'Spread': 61, \"school'd\": 62, 'disgrace': 63, 'Sir': 64, 'malign': 65, 'declines;': 66, 'often': 67, 'prophesy': 68, 'form,': 69, 'French': 70, 'Making': 71, 'pleasure?': 72, 'usury,': 73, 'coronation?': 74, 'expedient': 75, 'infant': 76, 'herself': 77, \"doves'\": 78, 'yield!': 79, 'divers': 80, 'declines,': 81, 'swift-winged': 82, 'others.': 83, \"lordship's\": 84, 'offices': 85, 'lads;': 86, \"vanish'd:\": 87, 'glad': 88, 'thou?': 89, 'death,': 90, 'Rome;': 91, \"aery's\": 92, 'amiss;': 93, 'thee;': 94, 'Hastings': 95, 'alone.': 96, 'thus': 97, 'fabric,': 98, 'villain,': 99, 'cause,': 100, 'senseless--obstinate,': 101, 'sort,': 102, 'France,': 103, 'beholding,': 104, 'fathers': 105, 'Titus,': 106, 'endeavours': 107, 'life;': 108, 'Deserve': 109, 'guard,': 110, 'Since': 111, 'going': 112, 'face,': 113, 'fall.': 114, 'small': 115, 'singly': 116, 'ladies': 117, 'guarded:': 118, 'apology:': 119, 'Anne,': 120, 'witchcraft': 121, 'infringe': 122, 'mournfully:': 123, 'tribunes;': 124, 'From': 125, 'purpose.': 126, 'knees,': 127, 'kings': 128, 'Harp': 129, 'faint': 130, 'And': 131, \"gall'd\": 132, 'afoot.': 133, 'unto.': 134, 'to-day,': 135, 'havoc,': 136, 'forward,': 137, 'preferments,': 138, 'soaring': 139, 'heavy': 140, 'citizens,': 141, 'about': 142, 'The': 143, 'give,': 144, 'one': 145, 'to-night.': 146, 'subtle,': 147, \"ta'en!\": 148, 'worthily': 149, 'movers': 150, 'privilege': 151, 'ever': 152, 'purpose,': 153, 'marrying': 154, 'Hob': 155, 'inhabit,': 156, 'prevent': 157, 'bosoms': 158, 'grind': 159, 'factions': 160, 'All': 161, 'burned': 162, 'respected;': 163, 'costard': 164, 'seeing': 165, 'to-day?': 166, \"Shall's\": 167, 'Envied': 168, 'indirect': 169, 'haver:': 170, 'behavior.': 171, 'you!': 172, 'execute': 173, 'baits': 174, 'affords.': 175, 'bad,': 176, 'Titus': 177, 'Holding': 178, 'desperation': 179, 'revolt': 180, \"man's?\": 181, 'Hercules,': 182, 'fellow:': 183, \"stuff'd\": 184, \"retail'd\": 185, 'served,': 186, \"obey'd\": 187, 'smiles;': 188, \"strew'st\": 189, 'potch': 190, 'valour': 191, 'watchful': 192, 'imprisonment?': 193, 'cautelous': 194, \"mellow'd\": 195, 'occasion,': 196, 'advantage,': 197, 'virtue': 198, 'grub.': 199, 'No,': 200, 'harsh': 201, 'Away,': 202, 'tedious,': 203, \"'Forgive\": 204, 'fearful': 205, 'father;': 206, 'start': 207, 'no!': 208, 'enemies': 209, 'she:': 210, 'heavens!': 211, \"sleep's\": 212, 'grove:': 213, 'ended,': 214, 'like!': 215, 'unbuild': 216, 'title!': 217, 'error': 218, 'boys:': 219, 'intended': 220, 'stop': 221, 'fitness': 222, 'lineaments,': 223, \"comes't\": 224, 'Welcome!': 225, 'becomes': 226, 'shout': 227, 'gates.': 228, 'Incapable': 229, 'pearl,': 230, \"'Tis\": 231, 'bedfellow.': 232, 'thence;': 233, 'doubtless.': 234, 'sparingly,': 235, 'speaks,': 236, 'patricians,': 237, 'allowance': 238, 'left,': 239, 'am,': 240, 'follow:': 241, 'ghastly': 242, 'shallow': 243, 'so!': 244, \"I'd\": 245, 'safe,': 246, 'If': 247, 'fort:': 248, 'Roman,': 249, 'Both': 250, 'worthier': 251, 'Worth': 252, \"do't;\": 253, 'stealing': 254, 'cement,': 255, \"claim'd\": 256, \"Nay,'tis\": 257, \"splinter'd,\": 258, 'domestic': 259, 'Please': 260, 'perceive': 261, 'lamentations': 262, 'coward!': 263, 'treacherous,': 264, 'Jacks?': 265, 'valiantness': 266, 'tatter': 267, 'clothes': 268, \"Think'st\": 269, \"'Good\": 270, 'tongue.': 271, 'forbad': 272, 'dukes': 273, 'numb': 274, 'consulship?': 275, 'Anon': 276, 'Humbly': 277, 'threshold.': 278, \"kneel'd\": 279, 'dallies': 280, 'country.': 281, 'banners': 282, 'met,': 283, 'prophecies': 284, 'pleaders': 285, 'two': 286, 'wither': 287, 'cardinal,': 288, 'blunt': 289, 'counterfeit': 290, 'harm': 291, 'deliver,': 292, 'like': 293, 'noon-tide': 294, \"king'?\": 295, 'statutes': 296, 'condemned,': 297, 'purge': 298, 'foremost;': 299, 'curses.': 300, 'Filling': 301, 'greediness': 302, 'affection': 303, 'silent,': 304, 'field?': 305, \"appear'd\": 306, 'heavens': 307, 'grants': 308, \"another's\": 309, 'Ha!': 310, 'base:': 311, 'prayers.': 312, 'say,': 313, 'fought;': 314, 'boats': 315, \"swear,'tis\": 316, 'prince?': 317, 'penitent.': 318, 'cannibally': 319, \"mean'st\": 320, \"do't,\": 321, 'suppliants': 322, 'Sin,': 323, 'malice,': 324, 'lord-ship': 325, 'maintain': 326, 'defenders;': 327, 'construction.': 328, 'words': 329, 'commandment': 330, 'feet,': 331, 'gates:': 332, 'Antium?': 333, 'that': 334, 'no': 335, 'wounds!': 336, 'confidence': 337, 'Are': 338, 'call': 339, 'Catesby:': 340, 'strokes': 341, 'dispositions,': 342, 'enough.': 343, 'Hail,': 344, 'bless': 345, 'lots': 346, \"We'll\": 347, \"upon's.\": 348, 'George.': 349, \"brother's\": 350, 'terror': 351, 'sovereign': 352, 'live.': 353, 'deep.': 354, \"daub'd\": 355, 'crafts!': 356, 'unburnt,': 357, 'Edward': 358, 'welcome,': 359, 'redeem': 360, 'stout': 361, \"Whoop'd\": 362, 'straw,': 363, 'prey': 364, 'Unseparable,': 365, 'Down:': 366, 'balm': 367, 'zealous': 368, \"'t\": 369, 'they?': 370, 'causer': 371, 'blood-suckers!': 372, 'wandering': 373, \"'Thanks,\": 374, 'servant,': 375, 'yesterday;': 376, 'goes,': 377, 'soundly.': 378, 'strength': 379, 'Ratcliff': 380, 'slightly': 381, 'bend': 382, 'conditions,': 383, 'greasy': 384, 'Publius': 385, 'commoners,': 386, 'caused': 387, 'lives:': 388, 'not--on': 389, \"'s,\": 390, 'pikes.': 391, 'Hercules': 392, \"look'd\": 393, 'thyself': 394, 'shower': 395, 'now!': 396, 'Takes': 397, 'chosen:': 398, 'done;': 399, 'finger.': 400, 'bade': 401, 'breathes;': 402, 'charitable': 403, 'lesser': 404, 'forgive,': 405, 'estimation;': 406, 'Foes': 407, 'demerits': 408, 'be': 409, 'heavier.': 410, 'lenity.': 411, 'crept': 412, 'persuaded;': 413, 'sleeps?': 414, 'light,': 415, 'comfort,': 416, 'shouts': 417, 'comfort.': 418, 'tribes?': 419, 'private;': 420, 'harms': 421, 'matter': 422, 'hunt': 423, \"'your\": 424, 'ennoble': 425, 'brave': 426, 'folds-in': 427, 'Hast': 428, 'imagine.': 429, 'fools': 430, 'hadst': 431, 'Ere': 432, 'state?': 433, 'hair,': 434, 'Albeit': 435, 'Englishman': 436, 'obsequiously': 437, \"task'd\": 438, 'doubt--that': 439, 'to:': 440, 'dwells;': 441, 'distraught': 442, 'Gloucester?': 443, 'shake': 444, 'Beat': 445, 'Crosby': 446, 'heaviest': 447, 'toge': 448, 'years': 449, \"pawn'd\": 450, 'Awaked': 451, 'haught': 452, 'once;': 453, 'bows,': 454, 'interchange': 455, 'weep,': 456, \"ungovern'd\": 457, 'melt': 458, 'agreeing': 459, 'herd?': 460, 'Then': 461, 'pair': 462, 'abjects,': 463, 'reply.': 464, 'G': 465, 'Convenient': 466, 'pick': 467, 'Self': 468, 'mind.': 469, 'unhappiness!': 470, \"world's\": 471, 'melancholy.': 472, 'interjoin': 473, 'true:': 474, \"drink'st\": 475, 'vouch': 476, 'unreasonably:': 477, 'hurt': 478, 'crows.': 479, 'injured': 480, 'empty': 481, 'love;': 482, 'many;': 483, 'here:': 484, 'Assist.': 485, 'realm.': 486, \"mew'd,\": 487, 'serpent': 488, 'unwept!': 489, 'followers': 490, 'lament': 491, 'When,': 492, 'affections,': 493, 'temperately;': 494, \"slave's\": 495, 'need,': 496, 'Shore!': 497, 'nod:': 498, 'himself,--which': 499, 'Richard!': 500, 'harlot': 501, 'carping': 502, 'another,': 503, 'joint-servant': 504, 'Dorset,': 505, 'manacles': 506, 'Buckingham;': 507, 'melt,': 508, 'farther': 509, 'beheld--': 510, 'unactive,': 511, \"for's\": 512, 'advanced': 513, 'temples': 514, 'damage': 515, 'disgracious': 516, 'either': 517, 'deep': 518, 'Speak,': 519, 'hoarded': 520, 'Great': 521, 'constant': 522, 'enter.': 523, 'deposed,': 524, 'Tiber': 525, 'Catesby.': 526, 'must:': 527, 'Third': 528, 'sun;': 529, 'know': 530, 'pedlar:': 531, 'are.': 532, 'fell': 533, 'dews,': 534, 'dragon:': 535, 'aediles': 536, 'learned': 537, 'brood,': 538, 'charms': 539, 'pace': 540, 'face.': 541, 'Tabours': 542, 'melted': 543, 'Offended': 544, 'mould': 545, 'publicly,': 546, 'last': 547, 'much': 548, 'Thus': 549, 'Wrench': 550, 'away;': 551, 'matter;': 552, 'Told': 553, 'Into': 554, 'Mildly!': 555, 'itself.': 556, 'hither': 557, 'cobbled': 558, 'kin,': 559, 'troth,': 560, 'miscarries': 561, 'pieces,': 562, 'neglect': 563, 'sleep.': 564, 'forsooth,': 565, 'Ah,': 566, 'Marcius,': 567, 'free,': 568, \"prevail'd\": 569, 'fly:': 570, 'asleep:': 571, 'CATESBY:': 572, \"sir,'tis\": 573, 'determine:': 574, 'case,': 575, 'moment,': 576, 'course,': 577, 'became': 578, 'dull': 579, 'event.': 580, 'necessary': 581, 'title,': 582, \"Who's\": 583, 'painted': 584, 'hours': 585, 'that.': 586, 'wine!': 587, 'Oh': 588, 'true.': 589, 'weapons,': 590, 'proudest': 591, \"bosom's\": 592, 'Tewksbury?': 593, 'come': 594, 'prevented:': 595, 'beast': 596, 'nose': 597, 'sprang': 598, 'thought.': 599, 'dangerously': 600, 'blood,': 601, 'think': 602, \"t'other,\": 603, 'till,': 604, 'Love,': 605, 'helm;': 606, 'oaks': 607, 'beard,': 608, 'while:': 609, 'nation': 610, 'undone,': 611, 'fast;': 612, 'Stanley.': 613, 'bencher': 614, 'offend': 615, 'Whilst,': 616, 'respect,': 617, 'war:': 618, 'surname;': 619, 'afflicts': 620, 'cabin': 621, 'making': 622, 'Coriolanus,': 623, 'early': 624, 'omitted,': 625, 'Duke': 626, 'woful': 627, 'laid': 628, 'designments': 629, 'Talkers': 630, 'pride:': 631, 'truer': 632, 'voices:': 633, 'children': 634, 'apish': 635, 'False-boding': 636, 'imagine,': 637, 'spider,': 638, 'Cushions,': 639, \"ask'd,\": 640, 'subjects:': 641, 'mild,': 642, 'Where?': 643, 'bidding.': 644, 'voice,': 645, 'smooth': 646, 'thee--keep': 647, 'swifter': 648, 'sea.': 649, 'dream.': 650, 'thee!': 651, 'earnest': 652, 'you,': 653, \"beauty's\": 654, 'hap': 655, \"'Come\": 656, 'of!': 657, 'drum': 658, 'Pomfret.': 659, 'held;': 660, 'oft': 661, 'provide': 662, 'above,': 663, 'particular': 664, 'mortal,': 665, 'answer:': 666, 'fills': 667, 'sat': 668, 'Grecian': 669, 'MARCIUS': 670, 'mayor,': 671, 'bran': 672, 'garland:': 673, 'Preoccupied': 674, 'request?': 675, 'child!': 676, 'endure': 677, 'slave,': 678, 'work.': 679, 'dreamt': 680, 'Then,': 681, 'bootless': 682, \"'Be\": 683, 'brief,': 684, 'multiplying': 685, 'chests': 686, 'bald,': 687, 'it': 688, 'miscarry.': 689, 'protest,': 690, 'humour,': 691, 'Hail': 692, 'power.': 693, 'rages': 694, 'integrity': 695, 'displace': 696, 'sear': 697, 'ensnareth': 698, 'thought,': 699, 'dew': 700, 'growth': 701, 'freezeth:': 702, 'pain': 703, 'sourly': 704, 'enmity:': 705, 'number': 706, 'hind;': 707, 'coxcombs': 708, 'chide': 709, 'afterward': 710, 'necessity': 711, 'plebeians,': 712, 'Both:': 713, 'better:': 714, 'wanteth': 715, 'channel': 716, 'Struck': 717, 'shame,': 718, 'Because': 719, 'dreaded': 720, 'placed': 721, 'accompany': 722, 'dukedom': 723, 'shining': 724, 'betide': 725, 'deeds': 726, \"distress'd,\": 727, 'wherein': 728, 'bled': 729, 'humility;': 730, 'embrace:': 731, 'to-day:': 732, 'counsel,': 733, 'Above': 734, 'points': 735, 'afraid': 736, 'false.': 737, 'Penker;': 738, 'Roman:': 739, 'Lord': 740, 'Full': 741, 'daggers:': 742, 'pouring': 743, \"lack'd\": 744, 'Mend': 745, 'dispatch': 746, 'Tyrannical': 747, 'quarrel': 748, 'top': 749, 'sugar': 750, 'Children:': 751, 'calmness': 752, 'burnt': 753, 'maids': 754, 'Holloa': 755, 'Caius,': 756, 'hopeless': 757, 'ye': 758, 'mirth.': 759, 'Plantagenet.': 760, 'digest': 761, 'loathed': 762, 'title:': 763, \"on't.\": 764, 'tribunes,': 765, 'earldom': 766, 'nurse,': 767, 'adventure': 768, 'yours,': 769, 'verified': 770, 'joy.': 771, 'popular': 772, 'trenches': 773, 'Win': 774, 'denying': 775, 'knew': 776, 'readiness,': 777, 'recorder.': 778, 'Iniquity,': 779, 'freelier': 780, 'wonderful,': 781, 'trades': 782, 'playfellow': 783, 'delay.': 784, 'stored': 785, 'thrust': 786, 'atonement': 787, 'certain': 788, 'acquaintance,': 789, 'house!': 790, 'abusing': 791, \"stand'st\": 792, 'price': 793, 'desperately': 794, 'any': 795, 'going:': 796, 'incline': 797, 'White-Friars;': 798, \"prolong'd.\": 799, 'stands,': 800, \"o'er-press'd\": 801, 'shake,': 802, \"friends,'\": 803, 'rob': 804, 'from': 805, \"insurrection's\": 806, 'drink.': 807, 'Bring': 808, 'fair,': 809, 'vantage': 810, 'marvellous': 811, 'life!': 812, 'cross-row': 813, 'that?': 814, 'Outlive': 815, 'minded': 816, 'earls,': 817, 'disobeys.': 818, 'send;': 819, 'king.': 820, 'rates;': 821, 'rarest': 822, 'babies': 823, 'give.': 824, 'Wash': 825, 'beat,': 826, 'pout': 827, 'frighted,': 828, 'Blush,': 829, 'committed': 830, 'ought': 831, 'virtues': 832, 'instant,': 833, 'prosperous': 834, 'grow': 835, 'lies.': 836, 'fame.': 837, 'burst': 838, \"seem'd,\": 839, 'Chide': 840, 'blended,': 841, \"Lead'st\": 842, 'Shed': 843, 'pardon;': 844, 'mercy': 845, 'beam': 846, 'bonny': 847, 'hers!': 848, 'prayer': 849, 'pratest,': 850, 'how': 851, 'Must,': 852, 'some,': 853, 'granted': 854, 'takes': 855, 'cracking': 856, 'Lo,': 857, 'knowest': 858, 'single': 859, 'can': 860, 'zeal.': 861, 'rain,': 862, 'twelve-month': 863, 'testy': 864, 'forsook': 865, 'loyal': 866, 'cambric': 867, 'deputy': 868, 'glory,': 869, 'Countess': 870, 'growth.': 871, 'foe': 872, 'lamentations.': 873, 'meekness': 874, 'strongest': 875, \"Were't\": 876, 'Unto': 877, 'rabble': 878, 'God-den,': 879, 'day:': 880, \"show'd;'\": 881, 'tenderness': 882, 'kinder': 883, 'anger,': 884, 'Edward,': 885, 'vantage.': 886, 'ages': 887, 'woolvish': 888, 'stands': 889, 'butchers': 890, 'Young,': 891, \"horror's\": 892, 'decay': 893, 'loud.': 894, 'age.': 895, 'shrinks': 896, 'ready': 897, 'There': 898, 'yourself:': 899, \"water'd\": 900, 'souls.': 901, 'Citizen:': 902, 'Adrian.': 903, 'wealth': 904, 'Behold,': 905, 'forswearing': 906, 'solemness': 907, 'rode': 908, 'pamper': 909, 'work:': 910, 'slay': 911, 'already:': 912, 'along?': 913, \"beggar's\": 914, 'bids': 915, \"'larum,\": 916, 'Forthwith': 917, 'ever.': 918, 'confederate': 919, 'See,': 920, 'voices?': 921, 'wind-shaken.': 922, 'sets': 923, 'safe.': 924, 'gentle': 925, 'Breaking': 926, 'Death,': 927, \"all's\": 928, 'glowing,': 929, 'cunning': 930, 'Kind': 931, 'deliberate,': 932, 'mightily.': 933, 'swallow': 934, 'moon,': 935, 'prey.': 936, 'temple:': 937, 'plot': 938, \"marr'd\": 939, 'brothers,': 940, \"banish'd\": 941, 'valour.': 942, 'presence,': 943, 'nerves': 944, 'England': 945, 'house-keepers.': 946, 'son;': 947, 'seas,': 948, 'deserve': 949, 'suppliant': 950, 'Cannot': 951, 'fielded': 952, 'rectorship': 953, 'emulation.': 954, 'fall,': 955, 'Adieu,': 956, 'choice.': 957, 'yet?': 958, 'wake': 959, 'opprobriously?': 960, 'Merely': 961, 'twenty-seven:': 962, \"women's\": 963, 'spur': 964, 'discontented': 965, 'Comfort,': 966, 'had,': 967, 'custom': 968, 'agued': 969, 'soothing': 970, 'man,': 971, 'lost--': 972, 'Whither': 973, 'tapers': 974, 'bigger,': 975, 'heed': 976, 'wanton': 977, \"to't,\": 978, 'estimation,': 979, 'MARGARET:': 980, 'gentlemen,': 981, 'beat!': 982, 'surly': 983, 'dead;': 984, 'Romans:': 985, 'Translate': 986, 'Triton': 987, 'shaped': 988, 'warn': 989, 'painful': 990, 'inherent': 991, 'preservation,': 992, 'lady': 993, 'sudden': 994, 'neck,': 995, 'midst': 996, 'nobly': 997, 'a-fire,': 998, 'accuseth': 999, 'confusion': 1000, 'Ye': 1001, 'spectatorship,': 1002, 'dull:': 1003, 'fain,': 1004, 'supreme': 1005, 'Longer': 1006, 'march': 1007, 'seventy,': 1008, 'majesty,': 1009, 'strucken': 1010, 'upper': 1011, 'confine': 1012, 'handling:': 1013, 'resisted?': 1014, 'rewarder': 1015, 'moods.': 1016, 'drop:': 1017, 'grudge': 1018, 'tears!': 1019, 'command:': 1020, 'golden': 1021, 'malice': 1022, 'Nicanor?': 1023, 'prove': 1024, 'familiar,': 1025, 'unholy': 1026, 'storms': 1027, 'emulation': 1028, 'perfecter': 1029, 'Know': 1030, 'so,': 1031, 'take': 1032, 'action,': 1033, 'chamberlain!': 1034, 'yet,': 1035, 'supposed-evils,': 1036, 'us': 1037, 'bites;': 1038, 'curdied': 1039, 'DUCHESS': 1040, 'friendliness': 1041, \"'we\": 1042, 'answer,': 1043, 'proper': 1044, 'Audience:': 1045, 'descent,': 1046, 'Relent,': 1047, 'bruising': 1048, \"Coriolanus'\": 1049, 'scars': 1050, 'cousins,': 1051, 'amity': 1052, \"stopp'd\": 1053, 'repaid,': 1054, 'indeed': 1055, 'reported': 1056, 'beggarly': 1057, 'flow': 1058, 'me,': 1059, 'perpetual': 1060, 'bear?': 1061, \"monster's,\": 1062, 'road': 1063, 'only!': 1064, 'meal,': 1065, 'enjoy;': 1066, 'repeal,': 1067, \"unroof'd\": 1068, 'Tullus,': 1069, 'body,--': 1070, 'judgment?': 1071, \"pack'd\": 1072, 'Wherein': 1073, 'hat': 1074, 'argues': 1075, 'necks,': 1076, 'carbon': 1077, 'marches': 1078, 'holes!': 1079, 'join': 1080, 'strong': 1081, 'won.': 1082, 'bound': 1083, 'poor': 1084, 'nature,': 1085, 'instinct,': 1086, \"bran.'\": 1087, 'late?': 1088, 'plotted,': 1089, 'partake.': 1090, 'forget': 1091, 'Done': 1092, 'sconce?': 1093, 'Shamed': 1094, 'attend': 1095, 'dread': 1096, 'Enforce': 1097, 'Titus.': 1098, 'mouth:': 1099, 'craft': 1100, 'On': 1101, 'proceed.': 1102, 'edicts': 1103, \"on't,\": 1104, 'sunder,': 1105, 'Under': 1106, 'better,': 1107, 'suggested': 1108, 'depose': 1109, 'Here': 1110, 'assist': 1111, 'his;': 1112, 'discover': 1113, 'Anthony': 1114, 'darkness': 1115, 'spent': 1116, 'Soldier:': 1117, 'tyrannical;': 1118, 'But,': 1119, 'brat?': 1120, 'officer': 1121, 'honourable': 1122, 'sues,': 1123, 'deal': 1124, 'Jupiter,': 1125, 'valiant.': 1126, 'practise.': 1127, 'fiery': 1128, 'world;': 1129, 'instead': 1130, 'nay.': 1131, 'arms': 1132, 'does.': 1133, 'extremest': 1134, 'edge.': 1135, 'knows,': 1136, 'Julius': 1137, 'thoughts': 1138, 'Tongue-tied': 1139, 'person.': 1140, 'wits': 1141, \"I'll\": 1142, 'wonder': 1143, 'Sham': 1144, 'murdering': 1145, 'kindness,': 1146, 'Seventh': 1147, 'hear?': 1148, 'stain': 1149, 'hearing:': 1150, 'pack-': 1151, 'SICINIUS:': 1152, 'Certainly': 1153, 'jump': 1154, 'spake': 1155, 'mock,': 1156, 'hatches,': 1157, 'bereaves': 1158, 'weeded': 1159, 'mayor,--': 1160, 'Make': 1161, 'theft,': 1162, 'content': 1163, 'mulled,': 1164, 'spoken': 1165, 'over,': 1166, 'senate': 1167, 'tomorrow': 1168, 'grain;': 1169, 'sights': 1170, \"'shall'\": 1171, 'another?': 1172, 'there.': 1173, 'abundance;': 1174, 'nodding': 1175, 'gates,': 1176, \"'Patricians!'\": 1177, 'vented': 1178, 'acting,': 1179, 'rule,': 1180, 'acquit': 1181, 'them,': 1182, 'throat': 1183, \"Know'st\": 1184, 'reap': 1185, 'sentence': 1186, 'first': 1187, 'Nothing': 1188, 'gladly': 1189, 'steward,': 1190, 'more.': 1191, 'news!': 1192, 'tried': 1193, 'ominous': 1194, 'mile;': 1195, 'desires,': 1196, 'din': 1197, 'attempted': 1198, 'scoffs:': 1199, 'wash': 1200, 'exile.': 1201, 'on?': 1202, 'herdsmen': 1203, 'flamens': 1204, 'peace.': 1205, 'Buckingham.': 1206, 'Nearer': 1207, 'indignation': 1208, 'shameful': 1209, 'wouldst': 1210, 'VAUGHAN:': 1211, 'tear,': 1212, 'fatherless': 1213, 'bringing': 1214, 'audit': 1215, 'officers': 1216, 'In': 1217, \"'Sicinius!'\": 1218, 'Derby?': 1219, 'needer.': 1220, 'embassage': 1221, \"disbench'd\": 1222, 'loss!': 1223, 'honours.': 1224, 'here!': 1225, 'bread,': 1226, 'childish': 1227, 'servant': 1228, 'salter': 1229, 'plead': 1230, 'suddenly': 1231, 'she--': 1232, 'cheap,--a': 1233, 'too.': 1234, 'humane': 1235, 'venom': 1236, 'flag': 1237, 'knee': 1238, 'melancholy,': 1239, 'Appear': 1240, \"let's\": 1241, 'fawn': 1242, 'multitudinous': 1243, 'seven': 1244, 'grace,': 1245, 'Why?': 1246, 'she,': 1247, 'LARTIUS:': 1248, 'fly': 1249, 'heart.': 1250, 'offices,': 1251, 'ladyship;': 1252, 'deformity:': 1253, 'notice': 1254, 'crab-trees': 1255, 'deed-achieving': 1256, 'Strike': 1257, 'retires': 1258, 'Capitol,': 1259, 'mockery?': 1260, 'consent': 1261, 'twos,': 1262, 'Custom': 1263, 'dealt,': 1264, 'Dreamt': 1265, 'pates,': 1266, \"bleed'st;\": 1267, 'blind,': 1268, 'command,': 1269, 'Tower': 1270, 'conclusion,': 1271, 'apply': 1272, 'word.': 1273, 'therefore,': 1274, 'injurious': 1275, 'wives': 1276, 'weary,': 1277, 'unnatural': 1278, 'plead;': 1279, 'else,': 1280, 'affrighted': 1281, 'beauty-waning': 1282, 'spoke.': 1283, \"On's\": 1284, 'lose,': 1285, 'man!': 1286, \"'\": 1287, 'eat': 1288, 'noble,': 1289, 'cheerfully.': 1290, 'passions': 1291, 'judgments,': 1292, 'members;': 1293, 'earn': 1294, 'hear.': 1295, 'exposture': 1296, 'they!': 1297, 'accuse': 1298, 'think,': 1299, 'public': 1300, 'alarum': 1301, 'ladies.': 1302, 'fall': 1303, 'masters!': 1304, 'prate;': 1305, 'oracle,': 1306, 'dallying': 1307, 'gone,': 1308, 'pence': 1309, 'gratitude': 1310, 'GENTLEMEN:': 1311, 'his.': 1312, 'ungravely,': 1313, 'out?': 1314, 'mother;': 1315, 'apparent': 1316, 'Come': 1317, 'tribunes?': 1318, 'Caius': 1319, 'else;': 1320, 'kill,': 1321, 'unnatural.': 1322, 'sticks': 1323, 'far': 1324, 'tiger;': 1325, 'There,': 1326, 'dove-cote,': 1327, 'pleasing': 1328, 'haunt': 1329, 'shall': 1330, 'dam': 1331, 'Hastings,': 1332, 'prince': 1333, 'round': 1334, 'Marcius;': 1335, 'in:': 1336, 'flatterer,': 1337, 'reward': 1338, 'neighbours,': 1339, \"Touch'd\": 1340, 'true,': 1341, 'nervy': 1342, 'well-advised.': 1343, 'every': 1344, 'herein:': 1345, 'meaning.': 1346, 'thoroughly': 1347, 'masters,': 1348, 'Rather': 1349, 'won,': 1350, \"mother's\": 1351, 'do;': 1352, 'ash': 1353, 'patroness,': 1354, \"on's\": 1355, 'smiles,': 1356, 'shamefast': 1357, 'dispatch.': 1358, 'bold': 1359, 'took': 1360, 'downright.': 1361, \"inform'd\": 1362, 'sight,': 1363, 'drown!': 1364, 'went': 1365, 'tradesmen': 1366, 'Thrusts': 1367, 'prisoner': 1368, 'nothing:': 1369, 'oldest': 1370, 'son.': 1371, 'Trail': 1372, 'Westminster,': 1373, 'dotant': 1374, 'your.': 1375, 'theirs.': 1376, 'Thine': 1377, 'kingdom;': 1378, 'leaden,': 1379, 'say;': 1380, 'onward.': 1381, 'view': 1382, 'Wedges': 1383, 'comely': 1384, 'instantly,': 1385, 'work!': 1386, 'modest:': 1387, 'Lancaster.': 1388, 'twine': 1389, 'sigh.': 1390, 'Your': 1391, 'spire': 1392, 'wrought': 1393, 'kneel': 1394, 'lieutenant,': 1395, 'stay.': 1396, \"coffin'd\": 1397, 'hope': 1398, 'hats.': 1399, 'womb,': 1400, 'trier': 1401, 'charge,': 1402, 'Speak': 1403, 'congregations,': 1404, 'appease': 1405, 'what!': 1406, 'sad': 1407, 'fly?': 1408, 'stroke,': 1409, 'muster': 1410, 'thus,': 1411, 'point.': 1412, 'observe': 1413, 'boar-spear,': 1414, 'say:': 1415, 'lowest,': 1416, \"embark'd\": 1417, 'rare': 1418, 'chosen': 1419, 'punish': 1420, 'home;': 1421, 'Grey:': 1422, 'blood': 1423, 'Untainted,': 1424, 'Sirs,': 1425, 'Break': 1426, 'top,': 1427, 'accompanied': 1428, 'covet': 1429, 'unchilded': 1430, 'nobler,--whither': 1431, 'thine': 1432, 'doubly': 1433, 'True!': 1434, 'verge': 1435, 'him?': 1436, 'human': 1437, 'together;': 1438, 'calling': 1439, \"enjoy'd\": 1440, 'Supplied': 1441, \"Shore's\": 1442, \"engross'd,\": 1443, 'talk': 1444, 'arm;': 1445, 'Trust': 1446, 'Go': 1447, 'sets,': 1448, 'citizen,': 1449, 'Which': 1450, 'flung': 1451, 'disposed': 1452, 'is': 1453, 'violent': 1454, 'or,': 1455, 'pot,': 1456, 'stirrup,': 1457, 'persuading': 1458, 'abortive': 1459, 'ferryman': 1460, 'trim': 1461, 'Volscians.': 1462, 'ways;': 1463, 'keeps': 1464, \"enemies'\": 1465, 'Tarquins.': 1466, 'battle;': 1467, 'bear;': 1468, 'self.': 1469, 'loyalty.': 1470, 'Rough': 1471, 'therein': 1472, 'fame,': 1473, 'me:': 1474, 'curb': 1475, 'engine,': 1476, 'done--before': 1477, 'not.': 1478, 'green': 1479, 'suspects.': 1480, 'Found': 1481, 'speak;': 1482, 'pipe': 1483, 'not:': 1484, 'on': 1485, 'this': 1486, 'were': 1487, 'Verily,': 1488, 'Alexander.': 1489, 'lethargy;': 1490, 'shut,': 1491, 'halt': 1492, 'lower': 1493, 'senators,': 1494, 'suits,': 1495, 'Pale': 1496, 'night': 1497, 'Coriolanus:': 1498, 'exhale,': 1499, 'beloved': 1500, 'passage': 1501, 'bloodless': 1502, 'absolute': 1503, 'AUFIDIUS:': 1504, 'nobility': 1505, 'patience!': 1506, 'no.': 1507, 'continued': 1508, 'lack': 1509, 'Three': 1510, 'dearest': 1511, 'snarling': 1512, 'fond,': 1513, \"prince's\": 1514, 'favour.': 1515, 'condition.': 1516, 'at:': 1517, 'widow;': 1518, 'Withdraw': 1519, 'nod': 1520, 'justice': 1521, 'throne': 1522, 'body.': 1523, 'toys': 1524, 'limbs': 1525, 'glory,--': 1526, 'fire:': 1527, 'confusion.': 1528, 'fifes,': 1529, 'shallow,': 1530, 'Lucy--': 1531, 'gentry': 1532, 'compass': 1533, 'seem': 1534, 'son--': 1535, 'say.': 1536, 'go?': 1537, 'butts': 1538, 'Hostilius,': 1539, 'seek': 1540, 'birth,': 1541, 'impure': 1542, 'had;': 1543, 'betray': 1544, \"Ulysses'\": 1545, \"become't,\": 1546, \"'Peace,\": 1547, 'wise,': 1548, 'over-blown,': 1549, 'wind': 1550, 'strange': 1551, 'lies:': 1552, 'consumed': 1553, 'dead:': 1554, 'fishes': 1555, 'Provoke': 1556, 'awry:': 1557, \"Christ's\": 1558, 'Stanley?': 1559, 'afternoon': 1560, 'territories;': 1561, 'cacodemon!': 1562, 'sail,': 1563, 'courtezans,': 1564, \"Whene'er\": 1565, 'marks': 1566, 'general,': 1567, 'gentle,': 1568, 'Priest:': 1569, 'assuage': 1570, 'understand': 1571, 'intend:': 1572, 'interpretation': 1573, 'commonwealth': 1574, 'aid': 1575, 'spritely,': 1576, 'Volsces': 1577, 'forgetfulness': 1578, 'dog': 1579, 'corse;': 1580, 'percussion': 1581, 'rats': 1582, 'truth,': 1583, 'die,': 1584, 'Italy,': 1585, 'character.': 1586, 'heavy.': 1587, 'health.': 1588, 'lectures': 1589, 'judge': 1590, 'along,': 1591, 'quired': 1592, 'Volsces;': 1593, 'gone.': 1594, 'God': 1595, 'wants,': 1596, 'exercise': 1597, 'armour': 1598, 'forth,': 1599, 'List': 1600, \"Ne'er\": 1601, 'seemeth': 1602, 'cry': 1603, \"O'\": 1604, 'sigh;': 1605, 'unfold.': 1606, \"you'ld\": 1607, 'servanted': 1608, 'entertainment': 1609, 'Capitol;': 1610, 'carelessness': 1611, 'nought.': 1612, 'sojourn': 1613, 'mother.': 1614, 'Lartius': 1615, \"kingdom's\": 1616, 'bolt': 1617, 'see--': 1618, 'condition': 1619, 'Lord!': 1620, \"Bless'd\": 1621, 'presume': 1622, 'heart': 1623, 'honester': 1624, 'along;': 1625, \"'Welcome,\": 1626, 'chief': 1627, 'Thy': 1628, 'destroy': 1629, 'thrice': 1630, 'grows': 1631, 'one.': 1632, 'Must': 1633, 'suppose': 1634, 'Lady,': 1635, 'spirits;': 1636, \"'voided\": 1637, \"Thou'rt\": 1638, 'butcher': 1639, 'wish': 1640, 'shield,': 1641, 'news.': 1642, 'Pitchers': 1643, 'acquaint': 1644, 'heavily': 1645, 'Killing': 1646, 'breed': 1647, 'tidings': 1648, 'proportion,': 1649, 'heed;': 1650, 'ridges': 1651, 'Stain': 1652, 'kind': 1653, 'forth': 1654, 'chats': 1655, \"valour's\": 1656, 'princes,': 1657, 'transport': 1658, 'Tressel': 1659, 'enforce': 1660, 'done.': 1661, 'sun.': 1662, 'wept': 1663, 'drawbridge': 1664, 'approve': 1665, 'defaced': 1666, 'stood': 1667, \"Believe't\": 1668, 'self!': 1669, 'Ratcliff,': 1670, 'rights': 1671, 'talk,': 1672, 'paint': 1673, 'doing,': 1674, 'spit': 1675, 'salt,': 1676, 'height': 1677, 'remission': 1678, 'restrain': 1679, 'seen': 1680, 'again--': 1681, 'dead?': 1682, 'mind': 1683, 'gates': 1684, 'second.': 1685, 'fed': 1686, 'iron,': 1687, 'inhuman': 1688, 'sight;': 1689, 'sword;': 1690, 'contrived': 1691, 'Like': 1692, \"Clarence?'\": 1693, 'men:': 1694, 'sinking': 1695, 'crack,': 1696, 'fitter': 1697, 'study': 1698, 'consul:': 1699, 'unlawful.': 1700, 'foolery,': 1701, 'intent': 1702, 'deny,': 1703, 'Return,': 1704, 'ANNE:': 1705, \"do't.\": 1706, 'unlikely:': 1707, 'days': 1708, 'worst.': 1709, \"Re-quicken'd\": 1710, 'done?': 1711, 'fares': 1712, 'thankfulness.': 1713, 'Down,': 1714, 'them': 1715, 'Galen': 1716, 'GREY:': 1717, 'affrights': 1718, \"ass's\": 1719, 'outward,': 1720, 'lords;': 1721, 'third': 1722, 'married': 1723, 'methought,': 1724, 'well-found': 1725, 'stripes': 1726, 'day;': 1727, 'confess': 1728, 'Howsoever': 1729, 'still--but': 1730, 'behind.': 1731, 'several': 1732, 'temper.': 1733, 'prayer-book': 1734, 'load:': 1735, 'harvest': 1736, 'death.': 1737, 'Corioli;': 1738, \"scorn'd,\": 1739, 'majestical,': 1740, \"restrain'st\": 1741, 'cockle': 1742, 'if': 1743, 'hither.': 1744, 'reason,': 1745, 'disgrace.': 1746, 'day-bed,': 1747, 'Methought': 1748, 'master?': 1749, 'tread': 1750, 'devil!': 1751, 'broil.': 1752, 'meanings': 1753, 'city?': 1754, 'methink': 1755, 'nine': 1756, 'rise': 1757, 'Direct': 1758, 'made?': 1759, 'requests': 1760, 'invested,': 1761, 'brace.': 1762, \"God's!\": 1763, 'alms:': 1764, 'icy-cold,': 1765, 'ope:': 1766, 'clusters,': 1767, 'degree?': 1768, 'aptness': 1769, 'ridiculous': 1770, 'half': 1771, 'true!': 1772, 'fathers,': 1773, 'market-place;': 1774, 'pushed': 1775, 'adieu!': 1776, 'physic': 1777, 'saith': 1778, 'own.': 1779, \"Cato's\": 1780, 'farewell': 1781, 'freedoms,': 1782, 'slain?': 1783, 'end,': 1784, 'dearly.': 1785, 'weapon,': 1786, \"business!'\": 1787, 'Such': 1788, 'loyal.': 1789, 'On,': 1790, 'haste': 1791, 'lord': 1792, 'petty': 1793, 'Meet': 1794, 'tyranny': 1795, 'person;': 1796, 'raze': 1797, 'notwithstanding': 1798, 'these?': 1799, 'rights,': 1800, 'bed': 1801, 'deformity;': 1802, \"'twill\": 1803, 'upbraidings': 1804, 'coming;': 1805, 'door.': 1806, 'to,': 1807, 'vantage,': 1808, 'misery': 1809, 'Friends': 1810, 'it;': 1811, 'conditions:': 1812, \"fear'd\": 1813, 'oppose': 1814, 'age!': 1815, 'country;': 1816, 'saint': 1817, \"No,'tis\": 1818, 'request;': 1819, 'worst;': 1820, 'motive': 1821, 'showing': 1822, 'particulars;': 1823, 'news,--': 1824, 'speechless': 1825, \"virgin'd\": 1826, 'themselves:': 1827, 'superfluity.': 1828, 'voices': 1829, 'mistake': 1830, 'beheld!': 1831, 'time.': 1832, \"master's\": 1833, 'Prove': 1834, 'Perhaps': 1835, 'fins': 1836, 'Return': 1837, 'sinews': 1838, 'handsome': 1839, \"'Margaret.'\": 1840, 'war.': 1841, 'madam.': 1842, 'usurers;': 1843, 'batten': 1844, 'audience.': 1845, 'proud?': 1846, 'hours;': 1847, 'increase': 1848, 'Hark!': 1849, 'steed,': 1850, 'mine!': 1851, 'hopes': 1852, 'protest': 1853, 'sufferance.': 1854, 'servants,': 1855, 'wisdoms': 1856, 'downfall': 1857, 'minute': 1858, 'confused': 1859, 'forget,': 1860, 'meets': 1861, 'nods': 1862, 'proudlier,': 1863, 'other;': 1864, 'been,': 1865, 'nobility,': 1866, 'monstrous': 1867, 'lent;': 1868, 'damask': 1869, 'bastard': 1870, 'No;': 1871, 'tedious.': 1872, 'truly,': 1873, 'Ay,': 1874, 'serve,': 1875, 'sometimes,': 1876, 'information': 1877, 'babes': 1878, 'I': 1879, 'charges,': 1880, 'rest.': 1881, \"hack'd\": 1882, 'lion': 1883, 'wretch,': 1884, 'Laid': 1885, 'EDWARD': 1886, 'wounds,': 1887, 'minority': 1888, 'health!': 1889, 'edifices': 1890, 'stab': 1891, 'quit': 1892, 'duty': 1893, 'strength.': 1894, 'hearth;': 1895, \"'We\": 1896, 'vast': 1897, 'death!': 1898, 'is!': 1899, 'ascend': 1900, 'general': 1901, 'twenty-five': 1902, 'sleepy': 1903, 'gates;': 1904, 'present': 1905, 'opinion': 1906, \"for't:\": 1907, 'Requires': 1908, 'Neither': 1909, 'chair': 1910, \"Jove's\": 1911, 'cowardly': 1912, 'frost': 1913, 'sickness': 1914, 'Whom': 1915, 'intent,': 1916, 'yours:': 1917, 'spilt': 1918, 'butcheries.': 1919, 'whereat': 1920, 'deeds?': 1921, 'lies,': 1922, 'within,': 1923, 'Wherefore': 1924, \"unfill'd,\": 1925, 'knaves': 1926, 'sword,': 1927, 'wrong?': 1928, \"kiss'd\": 1929, 'ruth,': 1930, 'finds,': 1931, 'wrinkled': 1932, \"brook'd\": 1933, \"persons'\": 1934, 'scene,': 1935, 'majesty': 1936, \"remember'd,\": 1937, 'half,': 1938, 'deep,': 1939, 'damned': 1940, 'sanctuary': 1941, 'denials.': 1942, 'match.': 1943, 'grief,': 1944, 'green,': 1945, 'son!': 1946, 'sithence?': 1947, 'giber': 1948, 'repined;': 1949, 'west:': 1950, 'rock.': 1951, 'could!': 1952, 'Derby.': 1953, 'Northumberland,': 1954, 'pursuit': 1955, 'contrary.': 1956, 'glean': 1957, 'stars;': 1958, 'inches.': 1959, 'accomplish,': 1960, 'age': 1961, 'throws': 1962, 'Very': 1963, 'speak,': 1964, 'fears;': 1965, 'pent': 1966, 'Unheard;': 1967, 'unmeriting,': 1968, 'Ye?': 1969, 'it!': 1970, 'Slew': 1971, 'price.': 1972, 'vengeance': 1973, 'country,': 1974, 'raying,': 1975, 'faith.': 1976, 'Cotus?': 1977, 'offence.': 1978, 'Tremble': 1979, 'gross': 1980, 'sup': 1981, 'unproperly': 1982, 'gentleman': 1983, 'bites,': 1984, 'waked': 1985, 'rage:': 1986, 'Mark': 1987, 'wisdom': 1988, 'ungrateful': 1989, 'leanness': 1990, 'manifest': 1991, 'weak': 1992, 'way,': 1993, 'cries:': 1994, 'gentler': 1995, \"clutch'd\": 1996, 'out': 1997, 'discharge': 1998, 'may': 1999, 'hearing.': 2000, 'warrior;': 2001, 'closely': 2002, 'wounds': 2003, 'panting': 2004, 'sob': 2005, 'wars.': 2006, 'love,': 2007, 'give': 2008, 'widows:': 2009, 'newly': 2010, 'here,': 2011, 'pale': 2012, 'herd,': 2013, 'knock': 2014, 'nothing,': 2015, 'true;': 2016, \"show'd\": 2017, 'mountebank': 2018, 'head!': 2019, 'pry': 2020, 'ones.': 2021, 'inclination:': 2022, 'each,': 2023, 'Christian-like': 2024, \"cherish'd,\": 2025, 'main.': 2026, 'wayward': 2027, 'stem,': 2028, 'gone:': 2029, 'Arabia,': 2030, 'Wife': 2031, 'over': 2032, 'we': 2033, 'sobs,': 2034, \"Rome,'\": 2035, 'itch': 2036, 'files,': 2037, 'imagination,': 2038, 'rheum,': 2039, 'help,': 2040, 'wipe': 2041, 'looks:': 2042, \"'mildly.'\": 2043, 'ushers': 2044, 'ways,': 2045, 'orphans': 2046, 'billows': 2047, 'heaven?': 2048, 'south': 2049, 'massacre!': 2050, 'Lords,': 2051, 'bosom.': 2052, 'a-growing': 2053, 'disposing': 2054, 'up,': 2055, 'microcosm,': 2056, 'cry!': 2057, 'Ransoming': 2058, 'so:': 2059, 'hang.': 2060, 'praying,': 2061, 'beholding': 2062, 'keeping': 2063, 'butterfly;': 2064, 'breast': 2065, 'kind,': 2066, 'Roman': 2067, 'sharp-pointed': 2068, 'rising,': 2069, 'elsewhere.': 2070, 'whip:': 2071, 'purse.': 2072, 'Christendom': 2073, 'side,': 2074, 'worser': 2075, 'needless': 2076, 'died,': 2077, 'Can': 2078, 'King': 2079, 'executioner?': 2080, 'poll,': 2081, 'people?': 2082, 'grafted': 2083, \"Henry's\": 2084, 'Master': 2085, 'Clarence!': 2086, 'madam;': 2087, 'floating;': 2088, 'somewhat': 2089, 'follows,': 2090, 'present,': 2091, 'Noble': 2092, \"meet'st\": 2093, 'hell': 2094, 'return.': 2095, 'tailors,': 2096, 're-edified.': 2097, 'retire:': 2098, 'murderous': 2099, 'urn.': 2100, 'again': 2101, 'depends': 2102, 'stiff?': 2103, 'zeal': 2104, 'temporized.': 2105, 'unhappy': 2106, 'sorrow;': 2107, 'honest': 2108, 'alarums': 2109, 'beast.': 2110, 'yours.': 2111, 'instinct': 2112, 'estimation': 2113, 'Brakenbury,': 2114, 'Tewksbury.': 2115, 'tender': 2116, 'altogether': 2117, \"other's\": 2118, 'deserve,': 2119, 'acquittance': 2120, 'post:': 2121, \"suffer'd\": 2122, 'effect.': 2123, 'Lose': 2124, 'Anne': 2125, 'out,': 2126, 'Northampton;': 2127, 'disease': 2128, 'divines.': 2129, 'thinking': 2130, 'led': 2131, 'would': 2132, 'less': 2133, 'rashness!': 2134, 'induced': 2135, 'apoplexy,': 2136, 'bachelor,': 2137, 'variable': 2138, 'queen!': 2139, 'end.': 2140, 'itself:': 2141, \"you'll\": 2142, 'abhor': 2143, 'tread--': 2144, 'prosperously': 2145, 'What,': 2146, 'Masters,': 2147, 'quake,': 2148, 'senate.': 2149, \"sir,'twas\": 2150, 'vanquisher.': 2151, 'hand:': 2152, 'pride': 2153, 'crown,': 2154, 'body': 2155, 'manner.': 2156, 'finger': 2157, 'tiger-footed': 2158, 'Famous': 2159, 'sayest': 2160, 'alter': 2161, 'dangerous,': 2162, 'springs': 2163, 'barbarians--as': 2164, 'nobly.': 2165, 'belch': 2166, 'dissemble,': 2167, 'Than': 2168, 'folly,': 2169, 'reign.': 2170, 'weeder-out': 2171, 'adorn': 2172, 'Upon': 2173, 'Lieutenant:': 2174, 'inheritance': 2175, 'lunatic.': 2176, \"hear't.\": 2177, 'spot,': 2178, 'freshest': 2179, \"Untouch'd,\": 2180, 'coign': 2181, 'ensuing': 2182, 'urging': 2183, 'revenue': 2184, 'in!': 2185, 'worst': 2186, 'party': 2187, 'durst': 2188, 'napless': 2189, 'leaves': 2190, 'provoked': 2191, 'graft': 2192, 'high': 2193, 'thee:': 2194, 'corn;': 2195, 'taste': 2196, 'last:': 2197, 'Volumnia': 2198, 're': 2199, 'charged': 2200, 'plant': 2201, 'vows': 2202, 'her:': 2203, 'approved': 2204, 'slight': 2205, \"mew'd\": 2206, 'much,': 2207, 'Romans--as': 2208, 'since,': 2209, 'Plantagenet,': 2210, 'weeping.': 2211, 'sullen': 2212, 'Menenius': 2213, 'particularise': 2214, \"poison'd\": 2215, 'unwilligness': 2216, 'duty!': 2217, \"smear'd;\": 2218, 'gate': 2219, 'Although': 2220, 'threaten': 2221, 'remember': 2222, \"done't--\": 2223, 'of;': 2224, \"rein'd\": 2225, \"will't\": 2226, 'asleep.': 2227, 'dally': 2228, 'tail': 2229, 'wife': 2230, 'Action': 2231, 'trivial,': 2232, 'sickly,': 2233, 'drove': 2234, 'suspicion:': 2235, 'Girl:': 2236, 'thrall': 2237, 'immediately.': 2238, 'stubble;': 2239, 'repetition': 2240, 'file--a': 2241, \"offer'd\": 2242, 'prosperity,': 2243, 'path': 2244, 'latest': 2245, 'God,': 2246, 'brief.': 2247, 'patient:': 2248, 'talks': 2249, 'traitor!': 2250, 'obey': 2251, 'loves': 2252, 'earth;': 2253, 'mad--': 2254, 'suffering': 2255, 'Real': 2256, 'afternoon.': 2257, 'laugh': 2258, 'wine': 2259, \"'This\": 2260, 'only:': 2261, 'resolution': 2262, 'cue,': 2263, \"o'er-rule\": 2264, 'gown': 2265, 'knee,': 2266, 'hath': 2267, 'wife;': 2268, 'palate': 2269, 'virtuous!': 2270, 'tricks,': 2271, 'Christian;': 2272, \"high'st\": 2273, 'suit!': 2274, 'host': 2275, 'Long': 2276, 'Care': 2277, 'choice:': 2278, 'vigilant': 2279, 'wives,': 2280, 'Virgilia,': 2281, \"miss'd,\": 2282, \"'em:\": 2283, 'slander': 2284, 'VOLUMNIA:': 2285, 'wonders': 2286, 'daughters,': 2287, 'Now,': 2288, 'hope--': 2289, 'exercise;': 2290, 'hour.': 2291, 'afraid?': 2292, 'piles': 2293, 'dissembling': 2294, 'land,': 2295, 'striving': 2296, 'lamentation;': 2297, 'infidels?': 2298, 'Call': 2299, 'controversy': 2300, 'determine': 2301, 'meddle.': 2302, \"consul's\": 2303, 'mood': 2304, 'that;': 2305, 'cymbals': 2306, 'senate;': 2307, 'children?': 2308, 'How?': 2309, 'articulate,': 2310, 'why': 2311, 'yawn,': 2312, 'hereby,': 2313, 'During': 2314, 'brace': 2315, 'perch:': 2316, 'ghost:': 2317, 'dear': 2318, 'fair?': 2319, 'truly.': 2320, 'gems,': 2321, \"opposers'\": 2322, 'urge': 2323, 'report': 2324, 'Argues': 2325, 'suckle': 2326, 'were;': 2327, 'fine': 2328, 'closet.': 2329, 'Therein': 2330, 'buckle': 2331, 'assured': 2332, 'close': 2333, 'urged:': 2334, 'pride,': 2335, 'sirrah.': 2336, 'needs': 2337, 'injury,': 2338, 'dived': 2339, 'him;': 2340, 'pleasures': 2341, 'awaken': 2342, 'town,': 2343, 'Jove': 2344, 'starve': 2345, 'earnestness': 2346, 'Many': 2347, 'lamenting': 2348, 'priest-like': 2349, 'deep?': 2350, 'ask;': 2351, 'do.': 2352, \"begg'd\": 2353, 'whilst': 2354, 'Insulting': 2355, 'yonder': 2356, 'consul!': 2357, 'vassals,': 2358, 'Yet': 2359, 'proof,': 2360, \"daughter's\": 2361, 'no:': 2362, 'power:': 2363, 'Didst': 2364, 'advanced,': 2365, \"learn'd,\": 2366, 'better': 2367, \"by'r\": 2368, 'frown:': 2369, 'uttered': 2370, 'people!': 2371, 'names.': 2372, 'pretences': 2373, 'fliers:': 2374, 'relish.': 2375, \"Upon's\": 2376, 'kindred,': 2377, 'Should': 2378, 'red-hot': 2379, 'spices': 2380, 'boy,': 2381, 'contradiction:': 2382, 'expostulate,': 2383, \"peace!'\": 2384, 'legs.': 2385, 'tree': 2386, 'buried.': 2387, 'request.': 2388, 'conquerors.': 2389, 'strokes;': 2390, 'attendance': 2391, 'raising;': 2392, 'not': 2393, 'prepared': 2394, 'rebels?': 2395, 'conference,': 2396, 'theirs,': 2397, \"Anger's\": 2398, 'before;': 2399, 'save': 2400, \"to't?\": 2401, 'three': 2402, 'country:': 2403, 'Bona,': 2404, 'sought': 2405, 'cheque': 2406, 'silent': 2407, 'morrow': 2408, 'brows': 2409, 'doors!': 2410, 'servant-maid': 2411, 'tongueless': 2412, 'intelligence.': 2413, 'what': 2414, 'render': 2415, 'sirs,': 2416, 'comfort': 2417, 'envy.': 2418, 'mean-born': 2419, 'ye!': 2420, 'knocks.': 2421, 'thus--': 2422, 'queen,': 2423, 'QUEEN': 2424, 'allaying': 2425, 'touch,': 2426, 'breathe': 2427, 'merrier': 2428, 'modest': 2429, 'son,': 2430, 'patience.': 2431, 'none': 2432, \"ha't:\": 2433, 'all-ending': 2434, 'Grossly': 2435, 'executioner.': 2436, 'asking': 2437, 'blows!': 2438, 'carries': 2439, 'sleeper;': 2440, 'cranks': 2441, 'We': 2442, 'doing': 2443, \"roar'd\": 2444, 'strawberries': 2445, \"join'd\": 2446, 'returning': 2447, 'windows': 2448, 'shade': 2449, 'idly': 2450, 'issue': 2451, 'shrug,': 2452, 'gains.': 2453, 'contagion': 2454, 'same': 2455, 'Neighbour,': 2456, 'bought': 2457, 'gone!': 2458, 'spoils': 2459, 'sleepy,': 2460, 'beweep': 2461, 'nest.': 2462, 'fear?': 2463, 'tag': 2464, \"woman's\": 2465, 'deaths,': 2466, 'higher': 2467, 'Cominius.': 2468, 'fidiused': 2469, 'breast,': 2470, 'content.': 2471, 'entrance': 2472, 'stranger': 2473, \"steel'd\": 2474, 'parted': 2475, 'nobles;': 2476, 'straight': 2477, 'thinks': 2478, \"hell-govern'd\": 2479, 'news?--': 2480, 'fellow!': 2481, 'valour,': 2482, 'swelling': 2483, 'worthy': 2484, 'crafted': 2485, 'came,': 2486, 'plants,': 2487, 'parcels': 2488, 'graver': 2489, 'base': 2490, 'zeal,': 2491, 'thunder,': 2492, 'footing': 2493, 'return?': 2494, \"sow'd,\": 2495, 'ministers': 2496, 'many-headed': 2497, 'befal': 2498, 'morsel': 2499, 'brain': 2500, 'bands': 2501, 'tardy': 2502, \"He'll\": 2503, 'tender-bodied': 2504, 'Welcome.': 2505, 'importune': 2506, 'starve,': 2507, 'way:': 2508, 'his:': 2509, \"'That\": 2510, 'coming': 2511, 'deceive': 2512, 'lean': 2513, 'laughter': 2514, 'marry:': 2515, 'vexation.': 2516, 'figure': 2517, 'here': 2518, 'love?': 2519, 'imprisonment': 2520, 'grant.': 2521, 'Crying': 2522, \"petition'd\": 2523, 'Lend': 2524, 'lonely': 2525, 'accusers,': 2526, 'blushing': 2527, 'diversely': 2528, 'loves,': 2529, 'wisdom:': 2530, 'grossness': 2531, 'seconds:': 2532, 'shrewd.': 2533, 'fear;': 2534, 'him,': 2535, 'charity;': 2536, 'fish,': 2537, 'marquess.': 2538, 'darkness,': 2539, 'jumpeth': 2540, 'aptly': 2541, 'injury;': 2542, 'love': 2543, 'deeds,': 2544, 'thy': 2545, 'key-cold': 2546, 'brunt': 2547, 'cause': 2548, 'follow.': 2549, 'halbert': 2550, \"woo'd?\": 2551, 'toucheth': 2552, 'worthiest': 2553, 'Imagine': 2554, 'dishonours': 2555, 'toe?': 2556, 'exclaims.': 2557, 'fire;': 2558, 'curses;': 2559, 'league': 2560, 'extol': 2561, 'surer,': 2562, 'unfit': 2563, 'carried': 2564, 'fast,': 2565, 'possessed': 2566, 'mildly': 2567, 'Grey,': 2568, \"Upbraid's\": 2569, 'crowning': 2570, 'heap,': 2571, 'Tewksbury': 2572, 'Dive,': 2573, 'beginning.': 2574, 'Doctor': 2575, 'despise': 2576, 'syllables:': 2577, 'and': 2578, 'While': 2579, 'waged': 2580, 'intent!': 2581, 'keen': 2582, 'virtue.': 2583, 'stabbed': 2584, 'plainly': 2585, 'pale,': 2586, 'give;': 2587, 'hath,': 2588, \"not--'Sdeath!\": 2589, 'nothings': 2590, 'Nature': 2591, 'did:': 2592, 'Has': 2593, \"neighbour's\": 2594, 'shun': 2595, 'nightly': 2596, 'backs': 2597, 'dispatch;': 2598, 'nature': 2599, 'sacrament,': 2600, \"monster'd.\": 2601, 'enough': 2602, 'main': 2603, 'widow': 2604, \"Rome:'\": 2605, 'discovery.': 2606, 'raised': 2607, \"years'\": 2608, 'sink,': 2609, 'Fights': 2610, 'chose': 2611, 'would.': 2612, 'mourner,': 2613, 'usurp': 2614, 'hopeful': 2615, 'pursues,': 2616, 'hazard,': 2617, 'am.': 2618, 'services,': 2619, 'coward': 2620, 'mark,': 2621, 'basilisks,': 2622, 'whereof,': 2623, 'Nay.': 2624, 'good,': 2625, 'butcheries:': 2626, 'accused': 2627, 'nobility:': 2628, 'Ay;': 2629, 'sword.': 2630, 'stern,': 2631, 'DERBY:': 2632, 'pleased:': 2633, 'distinctly': 2634, 'bridge.': 2635, \"'judgment'\": 2636, 'dinner:': 2637, 'perjury': 2638, \"Fill'd\": 2639, 'fire': 2640, 'parties': 2641, 'defects,': 2642, 'imprison': 2643, 'dismiss': 2644, 'flouted': 2645, 'jewels,': 2646, 'prodigality': 2647, 'mind!': 2648, 'sauced': 2649, 'encountering,': 2650, 'flies': 2651, 'cuckolds.': 2652, \"Richard's\": 2653, 'grace;': 2654, 'kin.': 2655, 'degrees': 2656, 'poison': 2657, 'dissembler:': 2658, 'Vaughan,': 2659, 'indeed!': 2660, 'trumpets.': 2661, 'punish,': 2662, 'made.': 2663, 'that,': 2664, 'hate,': 2665, 'horns': 2666, \"inferr'd;'\": 2667, 'prince.': 2668, 'blameful': 2669, 'maker': 2670, 'guiltless': 2671, 'malapert:': 2672, 'flour': 2673, \"prevail'd,\": 2674, \"in't:\": 2675, 'deserts.': 2676, 'incensed,': 2677, 'silken,': 2678, 'Choler!': 2679, 'pikes,': 2680, 'yoke': 2681, 'volume.': 2682, \"we'll\": 2683, 'mercy?': 2684, 'remorse,': 2685, 'joy!': 2686, 'infected': 2687, 'caps': 2688, 'prettily': 2689, 'himself': 2690, 'replied,': 2691, 'ruin': 2692, 'shadow': 2693, 'Small': 2694, 'wondering': 2695, 'Oxford': 2696, 'fob': 2697, 'name?': 2698, \"demands.'\": 2699, 'infection': 2700, 'myself?': 2701, 'account,': 2702, 'old.': 2703, 'Come;': 2704, 'paper': 2705, 'tongues.': 2706, 'despite;': 2707, 'Becomes': 2708, 'thing:': 2709, 'Lady': 2710, \"patch'd\": 2711, 'term': 2712, 'branches': 2713, 'motion': 2714, 'depending,': 2715, \"bless'd\": 2716, \"pass'd:\": 2717, 'successively': 2718, 'chronicle': 2719, 'Down': 2720, \"proffer'd\": 2721, 'me,--': 2722, 'amended.': 2723, 'malicious,': 2724, 'Aged': 2725, 'Cominius': 2726, 'upon;': 2727, 'patience;': 2728, 'heaven': 2729, 'even:': 2730, 'corse,': 2731, 'precipitation': 2732, 'liest!': 2733, 'find': 2734, 'allies,': 2735, 'woman?': 2736, 'follower,': 2737, 'AEdiles,': 2738, 'Marcius!': 2739, \"'t.\": 2740, \"summon'd\": 2741, \"'twere,\": 2742, 'lips': 2743, 'inkling': 2744, 'banished': 2745, 'enfranchise': 2746, 'ostler,': 2747, 'royalize': 2748, 'general?': 2749, 'beggar': 2750, 'Worshipful': 2751, 'broils': 2752, 'sly,': 2753, 'Unmeritable': 2754, 'ungrateful,': 2755, 'interior': 2756, 'hateful': 2757, 'me?': 2758, 'pieces': 2759, 'two,': 2760, 'statues': 2761, 'content:': 2762, 'lip,': 2763, 'be?': 2764, 'fools;': 2765, 'live': 2766, 'makes': 2767, 'haste;': 2768, 'England,': 2769, 'notice,': 2770, 'doublets': 2771, 'Further': 2772, 'corrected': 2773, 'been': 2774, 'Hector': 2775, 'bleeding': 2776, 'startled,': 2777, 'Volsce:': 2778, 'With': 2779, 'ope,': 2780, 'treason,': 2781, 'Farewell,': 2782, 'down': 2783, 'stand;': 2784, 'hilts': 2785, 'Bid': 2786, 'hint,': 2787, 'opens': 2788, 'kept:': 2789, 'where,': 2790, 'miss': 2791, 'seen--your': 2792, 'reposing': 2793, 'throw': 2794, 'king?': 2795, 'again,': 2796, 'overboard,': 2797, 'what,': 2798, 'wills,': 2799, 'figured': 2800, 'Chertsey,': 2801, 'cloaks;': 2802, 'walk': 2803, 'dying': 2804, 'view,': 2805, 'likely!': 2806, 'Thither': 2807, 'valiant,': 2808, 'disclaim': 2809, 'unaching': 2810, 'Help,': 2811, \"behold'st!\": 2812, 'malmsey-butt': 2813, 'yonder,': 2814, 'vaward': 2815, 'strength,': 2816, \"king's,\": 2817, 'execution,': 2818, 'groan': 2819, 'play': 2820, \"dubb'd\": 2821, 'short': 2822, 'sued-for': 2823, 'tenth,': 2824, 'curse.': 2825, 'muck': 2826, 'conversation': 2827, 'Between': 2828, 'Withal,': 2829, \"blush'd\": 2830, 'finger,': 2831, 'general:': 2832, 'bigamy': 2833, 'Faith,': 2834, 'hated,': 2835, 'council-house': 2836, 'tables': 2837, 'death?': 2838, 'ladies,': 2839, 'now?': 2840, 'flood,': 2841, 'mar': 2842, 'blasted': 2843, \"'tis,\": 2844, 'divided': 2845, 'Still': 2846, 'clergymen!': 2847, \"man's\": 2848, 'impression': 2849, 'Richard': 2850, 'your': 2851, 'promise.': 2852, 'necessities,': 2853, 'wish,': 2854, 'seeth': 2855, 'other,': 2856, 'abortive,': 2857, 'weeping': 2858, 'grow.': 2859, 'threw': 2860, 'carcasses': 2861, 'despairing,': 2862, 'table,': 2863, 'grown': 2864, 'hurried': 2865, 'Grey': 2866, 'Forgive': 2867, 'proof': 2868, \"deliver'd.\": 2869, 'wants': 2870, 'speed': 2871, 'closure': 2872, 'much;': 2873, 'night-walking': 2874, 'cog,': 2875, 'bestial': 2876, 'O,': 2877, 'feats,': 2878, 'crush?': 2879, 'man-child': 2880, 'dislikes,': 2881, 'counterpoised.': 2882, 'abroad?': 2883, 'straight:': 2884, 'Look,': 2885, \"great'st\": 2886, 'brats': 2887, 'bolted': 2888, 'perused': 2889, 'GLOUCESTER:': 2890, \"'thwack\": 2891, 'Shore.': 2892, \"sigh'd\": 2893, 'Commands': 2894, 'innocency': 2895, 'husband!': 2896, 'likelihood': 2897, 'Thou': 2898, 'venture': 2899, 'Hang': 2900, 'savage': 2901, 'commission': 2902, 'wonderful.': 2903, 'nature?': 2904, 'leave': 2905, 'accidentally': 2906, 'market-place!': 2907, 'mean,': 2908, \"Destroy'd\": 2909, 'wrecks;': 2910, 'unwittingly,': 2911, 'toe!': 2912, 'Tutus': 2913, 'courtesy,': 2914, 'Open': 2915, 'suffer': 2916, 'unsatiate': 2917, 'Indeed': 2918, 'murderer': 2919, 'envious': 2920, 'nobleness': 2921, 'powers': 2922, \"'s\": 2923, 'embassies': 2924, 'secure,': 2925, 'grave;': 2926, 'Volscian': 2927, 'ground:': 2928, 'Grant': 2929, 'deserve;': 2930, 'one--when': 2931, \"Edward's;\": 2932, 'meetings,': 2933, 'robbery,': 2934, 'Catesby;': 2935, 'exceed': 2936, 'mistress': 2937, 'William': 2938, 'little--': 2939, 'Methoughts': 2940, 'misdoubt:': 2941, 'colour,': 2942, 'stumble,': 2943, 'positively': 2944, 'weed,': 2945, 'friends;': 2946, 'tuns': 2947, 'greet': 2948, 'pack-horse': 2949, 'six': 2950, 'Give': 2951, 'heavy,': 2952, 'well;': 2953, 'bolder;': 2954, 'road.': 2955, 'rebellion,': 2956, 'recreant,': 2957, 'moved,': 2958, \"Marcius'\": 2959, 'sworn:': 2960, 'this!': 2961, 'cost.': 2962, 'Each': 2963, 'thee': 2964, 'end:': 2965, 'sixteen': 2966, 'bad': 2967, 'suggestion': 2968, 'bar': 2969, 'sons': 2970, 'strike': 2971, \"season'd\": 2972, 'sedition,': 2973, 'slew': 2974, 'petitioner,': 2975, 'judge?': 2976, 'Berkeley,': 2977, \"impress'd\": 2978, \"Is't\": 2979, 'mouths': 2980, 'bed?': 2981, 'us:': 2982, 'Wert': 2983, 'pinched': 2984, 'Fifth': 2985, 'traitor:': 2986, 'Reason;': 2987, 'one--': 2988, 'secretly,': 2989, 'smiling': 2990, 'hurl': 2991, 'idle': 2992, 'sins': 2993, 'Touches': 2994, 'sake;': 2995, 'tears?': 2996, 'plucked': 2997, 'we,': 2998, 'loved': 2999, 'eagles.': 3000, 'kind.': 3001, 'wisdoms,': 3002, 'Naught': 3003, 'already,': 3004, 'marriages;': 3005, 'truly:': 3006, 'us!': 3007, 'forfeit,': 3008, 'sovereign.': 3009, 'brave?': 3010, 'used': 3011, \"dropp'd\": 3012, 'Manifest': 3013, 'Ingrate': 3014, 'other.': 3015, 'nights?': 3016, 'loved,': 3017, 'barded': 3018, 'bastards': 3019, 'elders,': 3020, 'chin': 3021, 'Tendering': 3022, 'interims': 3023, 'prized': 3024, 'judicious': 3025, 'protector,': 3026, 'equal.': 3027, 'proceeded,': 3028, 'way': 3029, 'Tribunes:': 3030, 'Rome?': 3031, 'Divinely': 3032, 'once:': 3033, 'hunger': 3034, 'taints': 3035, 'continued,': 3036, 'breathing-while,': 3037, 'they': 3038, 'run': 3039, 'menace': 3040, 'welcome!': 3041, \"show'st\": 3042, 'sufferance': 3043, 'thousands': 3044, 'the': 3045, 'rove': 3046, 'although': 3047, 'sick': 3048, 'tut,': 3049, 'grain': 3050, 'right-hand': 3051, 'dogs': 3052, 'entertain': 3053, 'lowly': 3054, 'bows;': 3055, 'here--': 3056, 'scarce,': 3057, 'wert': 3058, 'Good': 3059, 'danger,': 3060, 'surname': 3061, 'bewept': 3062, 'fliers': 3063, 'collected': 3064, 'Mine': 3065, 'Vagabond': 3066, 'well-spoken': 3067, 'thence': 3068, 'alias': 3069, 'tribes': 3070, 'decreed': 3071, 'brother?': 3072, 'inclination;': 3073, 'compass.': 3074, 'invocate': 3075, 'so': 3076, 'busied': 3077, 'thence:': 3078, 'obdurate,': 3079, 'Buckingham,--': 3080, 'Together': 3081, 'forsake': 3082, 'private': 3083, 'hour': 3084, 'yet:': 3085, 'prate': 3086, 'awhile:': 3087, 'revolts,': 3088, 'melancholy': 3089, 'cares:': 3090, 'treaty': 3091, \"in't;\": 3092, 'honey': 3093, 'stones--for': 3094, 'viand,': 3095, 'find:': 3096, 'souls': 3097, \"upon't!\": 3098, 'Marry,': 3099, 'jet': 3100, 'names,': 3101, \"man's,\": 3102, 'meal': 3103, 'cheer': 3104, 'cloud': 3105, 'arguments;': 3106, 'applied': 3107, 'Not?': 3108, 'kingly-crowned': 3109, 'persuade': 3110, 'Provokes': 3111, 'censured?': 3112, 'withal': 3113, 'thinking,': 3114, \"can't\": 3115, 'particular,--you': 3116, 'clout': 3117, 'unfelt': 3118, 'out;': 3119, 'citizens.': 3120, 'oblivion.': 3121, 'hands:': 3122, 'unwilling,': 3123, 'done,--': 3124, 'privy': 3125, 'Neptune': 3126, 'entreat': 3127, 'adversaries.': 3128, 'sends': 3129, 'salute': 3130, 'Citizens:': 3131, 'stratagems.': 3132, 'heels;': 3133, 'maims': 3134, 'Fame,': 3135, 'magistrate,': 3136, 'trunk': 3137, 'sick,': 3138, \"who's\": 3139, 'voices;': 3140, 'countermand,': 3141, 'each': 3142, 'incur': 3143, 'wedged': 3144, 'waits': 3145, 'trust?': 3146, \"ha'\": 3147, 'minds': 3148, 'stead,': 3149, 'have;': 3150, 'friendly': 3151, \"not.'\": 3152, 'others:': 3153, 'unshapen': 3154, 'voice?': 3155, 'Oft': 3156, 'Sit,': 3157, 'wreck;': 3158, 'greater': 3159, 'thanks:': 3160, 'thankless': 3161, 'thumb,': 3162, 'scape': 3163, 'body,': 3164, \"suck'dst\": 3165, 'ounce--he': 3166, 'giving': 3167, 'them;': 3168, 'mile': 3169, 'carters': 3170, 'fane': 3171, 'lady:': 3172, 'is;': 3173, 'pirates,': 3174, 'treasure': 3175, 'not;': 3176, 'flame': 3177, 'manifests': 3178, 'murderous.': 3179, 'entombed': 3180, 'absence:': 3181, 'fool,': 3182, 'peck': 3183, 'Fool,': 3184, 'appeared': 3185, 'cypress': 3186, 'novice,': 3187, \"sorrow's\": 3188, 'sleep?': 3189, 'noble.': 3190, \"Do't!\": 3191, 'more': 3192, 'debile': 3193, 'ambling': 3194, 'motion;': 3195, 'tired.': 3196, 'Five': 3197, 'lie!': 3198, 'cease': 3199, 'you': 3200, 'unelected.': 3201, 'strew': 3202, 'rude': 3203, 'stern': 3204, 'measles,': 3205, 'numbers': 3206, 'oaken': 3207, 'tongue;': 3208, 'mind;': 3209, 'spent.': 3210, 'baited': 3211, 'Tying': 3212, 'invention,': 3213, 'rebuke': 3214, 'hast': 3215, 'reechy': 3216, 'just': 3217, 'alms': 3218, 'Was': 3219, 'ours.': 3220, 'coals': 3221, 'clean': 3222, 'sanctuary!': 3223, 'citizens?': 3224, 'which,': 3225, 'hurts': 3226, 'chairs': 3227, 'nymph;': 3228, 'Simple,': 3229, 'vice': 3230, 'chaff;': 3231, 'sensibly': 3232, 'soul:': 3233, 'neck': 3234, 'profound,': 3235, 'frantic': 3236, 'terms': 3237, \"dispatch'd!\": 3238, 'bite': 3239, 'horse.': 3240, 'Alas': 3241, 'truth.': 3242, 'walk,': 3243, 'curs!': 3244, 'contrariety.': 3245, 'smiles': 3246, 'restless': 3247, 'evident': 3248, 'there:': 3249, 'nomination.': 3250, 'acclamations': 3251, \"day's\": 3252, \"nourish'd\": 3253, 'fool;': 3254, 'lap': 3255, 'III:': 3256, 'Accursed': 3257, 'place.': 3258, 'gods;': 3259, 'fashion,': 3260, 'wit,': 3261, 'fight': 3262, 'together,': 3263, 'delivered': 3264, 'seated;': 3265, 'May': 3266, 'rag': 3267, 'sentenced;': 3268, 'Pity,': 3269, 'help': 3270, 'hound!': 3271, \"There's\": 3272, 'requites': 3273, 'doit,': 3274, 'concluded.': 3275, 'Cotus!': 3276, 'crown?': 3277, \"crown'd?\": 3278, 'To-morrow,': 3279, 'yours;': 3280, 'senators': 3281, 'lords?': 3282, \"in's\": 3283, 'spacious': 3284, 'father,': 3285, 'care-crazed': 3286, 'whiles': 3287, 'subtle.': 3288, 'night;': 3289, 'defying': 3290, 'marketplace,': 3291, 'meaner': 3292, 'alone;': 3293, 'safeguard': 3294, 'began,': 3295, 'exercise.': 3296, 'free': 3297, 'division.': 3298, 'age,': 3299, 'crutches': 3300, 'Thomas': 3301, 'forbid!': 3302, 'thence,': 3303, 'stretched': 3304, 'disdain': 3305, 'surfeit': 3306, 'justice,': 3307, 'hare.': 3308, 'order,': 3309, 'thing': 3310, 'bosom': 3311, \"suffer'd,\": 3312, 'misery,': 3313, 'joyful,': 3314, 'approbation.': 3315, 'cherry': 3316, 'whet': 3317, 'posture.': 3318, 'teeth': 3319, 'royal': 3320, 'not--to': 3321, 'Tarpeian': 3322, 'William:': 3323, 'oft,': 3324, 'Hark': 3325, 'Happy,': 3326, 'Clarence.': 3327, 'crown;': 3328, 'air.': 3329, 'swords,': 3330, 'met': 3331, 'day,': 3332, 'pray,': 3333, 'More': 3334, 'reverend': 3335, 'poll?': 3336, 'master': 3337, 'hen,': 3338, 'rougher': 3339, 'liking': 3340, 'night?': 3341, 'Antiates;': 3342, 'met.': 3343, 'hours,': 3344, 'eagle': 3345, 'noble;': 3346, 'sided': 3347, 'entreaty': 3348, 'duke.': 3349, 'affect': 3350, 'You,': 3351, \"squeak'd\": 3352, 'VIRGILIA:': 3353, 'saw,': 3354, 'better;': 3355, \"heighten'd,\": 3356, 'bosom;': 3357, 'cheer:': 3358, 'conquer': 3359, 'process;': 3360, 'leave.': 3361, 'Farewell.': 3362, 'summon': 3363, 'holding': 3364, 'up:': 3365, 'gratis.': 3366, 'thine.': 3367, 'thee,': 3368, 'carry': 3369, 'ruin,': 3370, 'consistory,': 3371, 'gentleman.': 3372, 'at,': 3373, 'CARDINAL:': 3374, 'place:': 3375, \"butcher'd,\": 3376, 'sure': 3377, 'hazards': 3378, 'dragon,': 3379, 'IV:': 3380, \"pluck'd,\": 3381, 'charter': 3382, 'bisson': 3383, 'resolve': 3384, 'pure': 3385, 'black': 3386, 'stir,': 3387, 'comest': 3388, 'distressed': 3389, 'And,': 3390, 'hourly': 3391, 'hardy,': 3392, \"help'st\": 3393, 'lose': 3394, 'truth': 3395, 'offenders,': 3396, 'waved': 3397, 'monarchy.': 3398, 'would,': 3399, 'ashes': 3400, 'guess': 3401, 'consuls': 3402, 'Lately': 3403, \"elvish-mark'd,\": 3404, 'appear': 3405, 'fairly.': 3406, 'thou,': 3407, 'rash': 3408, 'do,': 3409, 'Answer': 3410, 'election': 3411, 'news,': 3412, 'air,': 3413, \"have't\": 3414, 'York.': 3415, 'Shore': 3416, 'impatience?': 3417, 'lover:': 3418, 'sequel': 3419, 'witty': 3420, \"people's\": 3421, 'Come.': 3422, \"torments!'\": 3423, 'nay': 3424, 'wail': 3425, 'mischief;': 3426, 'prank': 3427, 'foot.': 3428, 'all,': 3429, 'once,': 3430, 'cross': 3431, 'Shine': 3432, 'bald': 3433, 'plagued': 3434, 'speed!': 3435, 'mutable,': 3436, 'beggars': 3437, 'bravely': 3438, 'moiety': 3439, 'adversaries,': 3440, 'children!': 3441, 'Turks': 3442, 'Derby,': 3443, 'advancement': 3444, 'now:': 3445, 'dangerous': 3446, 'doors.': 3447, 'wish!--': 3448, 'kindness': 3449, 'obedience': 3450, \"fortune's\": 3451, 'glory.': 3452, 'banishment,': 3453, 'Prithee': 3454, 'scope': 3455, 'flies.': 3456, 'sight?': 3457, 'writ;': 3458, 'mischiefs': 3459, 'delivery.': 3460, 'gown,': 3461, 'Marcius:': 3462, 'achieve': 3463, 'images:': 3464, 'Remember': 3465, 'consul;': 3466, 'killing': 3467, \"Look'd\": 3468, 'CAIUS': 3469, 'statue,': 3470, \"request's\": 3471, \"resign'd\": 3472, 'cool': 3473, 'live,': 3474, 'shoulders': 3475, 'unviolable.': 3476, 'garden': 3477, 'coverture': 3478, 'compassion.': 3479, 'blast.': 3480, 'Where': 3481, 'demand.': 3482, 'house:': 3483, 'defend.': 3484, 'breaths:': 3485, 'Stop,': 3486, 'unsaluted:': 3487, 'keep': 3488, 'after.': 3489, 'breath.': 3490, 'bred': 3491, 'of': 3492, 'him': 3493, \"crown'd;\": 3494, 'starts': 3495, 'Despiteful': 3496, 'His': 3497, 'presence.': 3498, 'created': 3499, 'moiety?': 3500, \"thou'rt\": 3501, 'royal.': 3502, 'meant': 3503, 'neither:': 3504, 'face': 3505, 'Thanks.': 3506, 'dumb': 3507, \"favour'd\": 3508, 'cushion,': 3509, 'reeling': 3510, 'victory': 3511, 'manhood': 3512, 'adieu.': 3513, 'tempted': 3514, 'stains': 3515, 'preparing': 3516, 'too:': 3517, 'legs,': 3518, 'methought,--I': 3519, 'faith,': 3520, 'command': 3521, 'nail;': 3522, 'break!': 3523, 'person:': 3524, 'effeminate': 3525, \"parasite's\": 3526, 'queen:': 3527, 'walls?': 3528, 'lords,': 3529, 'dear:': 3530, 'war?': 3531, 'book,': 3532, 'complaints.': 3533, 'whither': 3534, 'affections': 3535, 'unnatural,': 3536, 'dwells': 3537, 'though': 3538, 'Beseech': 3539, 'business,': 3540, 'moon': 3541, 'do:': 3542, 'lets': 3543, 'conscience': 3544, 'twenty.': 3545, 'does!': 3546, 'absence': 3547, 'insinuating': 3548, 'grudging': 3549, 'seems,': 3550, \"'em.\": 3551, 'notion--': 3552, 'doit.': 3553, 'you;': 3554, 'continue': 3555, 'Here.': 3556, 'untimely': 3557, 'god-den': 3558, 'brain!': 3559, 'bounds': 3560, 'degree': 3561, 'Touching': 3562, 'Loved': 3563, 'extreme': 3564, 'eight-year-old': 3565, 'fear': 3566, 'mellow': 3567, \"'twixt\": 3568, \"speak'st\": 3569, 'helms,': 3570, 'affection!': 3571, 'record': 3572, 'minded,': 3573, 'untired,': 3574, 'us,': 3575, 'silent.': 3576, 'again.': 3577, 'aid:': 3578, 'garb': 3579, 'feebling': 3580, 'ever:': 3581, 'set': 3582, 'weal;': 3583, 'hearkens': 3584, 'advise': 3585, \"curt'sy\": 3586, 'was': 3587, 'tell:': 3588, \"commons'\": 3589, 'god': 3590, \"They've\": 3591, 'afterwards': 3592, 'distribution,': 3593, 'dreaded.': 3594, \"mail'd\": 3595, 'Learn': 3596, 'Yielded': 3597, 'Welcome': 3598, \"'twould\": 3599, 'deceived;': 3600, 'dignifies': 3601, \"'?\": 3602, 'rushes;': 3603, 'putting': 3604, 'Rights': 3605, 'ones,': 3606, 'her!': 3607, 'They': 3608, 'business?': 3609, 'violent,': 3610, 'link': 3611, 'thwartings': 3612, 'Opinion': 3613, 'Fear': 3614, 'makest': 3615, 'work,': 3616, 'blood;': 3617, 'pleasures;': 3618, 'both?': 3619, 'naked': 3620, 'wash;': 3621, 'beating': 3622, 'tongues?': 3623, 'madest,': 3624, \"to't.\": 3625, 'agents,': 3626, 'brittle': 3627, 'shame?': 3628, 'Advance': 3629, 'next,': 3630, 'jest': 3631, 'night,': 3632, 'shields': 3633, \"o'clock?\": 3634, 'arguing.': 3635, 'last,': 3636, 'enmity,': 3637, 'rank-scented': 3638, 'cheered': 3639, 'offence': 3640, 'righteous': 3641, 'swell': 3642, 'entertainment,': 3643, 'shamefully': 3644, 'substitute,': 3645, 'fourth': 3646, 'singularity,': 3647, 'trumpet': 3648, 'reach': 3649, 'hence;': 3650, 'come.': 3651, 'brother.': 3652, 'Devised': 3653, 'debt': 3654, 'doth.': 3655, 'subdues': 3656, 'Die': 3657, 'vouches?': 3658, 'red,': 3659, 'fought': 3660, 'visit': 3661, 'verdict?': 3662, 'obstacles': 3663, 'pardons:': 3664, 'soldier:': 3665, 'ears:': 3666, 'abused;': 3667, 'oath': 3668, 'mockery': 3669, 'baby': 3670, 'windows,': 3671, 'author': 3672, 'slip': 3673, 'between,': 3674, 'cause?': 3675, 'own:': 3676, 'retired': 3677, 'witness': 3678, 'spite,': 3679, 'Twice': 3680, 'Coriolanus!': 3681, 'think.': 3682, 'boy': 3683, 'wearisome,': 3684, 'augurer': 3685, 'amen.': 3686, 'forges,': 3687, 'seated,': 3688, 'arch': 3689, 'sweet': 3690, 'City,': 3691, 'hidden': 3692, 'clip': 3693, 'Where,': 3694, \"e'er\": 3695, 'threes.': 3696, 'stood,': 3697, 'transported': 3698, 'shield': 3699, 'gap': 3700, 'innovator,': 3701, 'Resume': 3702, 'by;': 3703, 'issued,': 3704, \"'Brutus!'\": 3705, 'scarcely': 3706, 'Alack,': 3707, 'destroyer': 3708, 'load,': 3709, 'past': 3710, 'darken': 3711, 'Plantagenet': 3712, 'rough;': 3713, 'flint,': 3714, 'twill': 3715, 'encloseth': 3716, 'them?': 3717, 'Enough,': 3718, 'see': 3719, 'deed.': 3720, 'rushes.': 3721, 'taunts': 3722, 'palm': 3723, 'straitly': 3724, 'fiends.': 3725, 'disciplined': 3726, 'Loath': 3727, 'yea': 3728, 'hands;': 3729, 'Yonder': 3730, 'instance:': 3731, 'Within': 3732, 'foot': 3733, 'market': 3734, 'try': 3735, 'Tent': 3736, 'wine,': 3737, 'opinion,': 3738, 'castaways': 3739, 'morrow.': 3740, 'gavest': 3741, 'accursed,': 3742, 'gain': 3743, 'mine,': 3744, 'reinforcement': 3745, \"'Thou\": 3746, 'liberties;': 3747, 'kept': 3748, 'burning': 3749, 'stone': 3750, 'ambitious': 3751, 'fortune': 3752, 'fellow-tribune': 3753, 'sin': 3754, 'spirit,': 3755, 'it?': 3756, 'infection,': 3757, 'banished!': 3758, 'psalteries': 3759, 'tame': 3760, 'knee.': 3761, 'sky,': 3762, 'Affrights': 3763, 'spoons,': 3764, 'cup': 3765, 'perish.': 3766, 'boys': 3767, 'hat,': 3768, 'bouted': 3769, 'crest': 3770, 'an-hungry;': 3771, \"son.'\": 3772, \"Richard:'\": 3773, 'heels,': 3774, 'reservation': 3775, 'dislodged,': 3776, 'gone?': 3777, 'red': 3778, 'wits,': 3779, 'till': 3780, 'milk': 3781, 'slave!': 3782, 'fresh': 3783, 'Margaret,': 3784, 'weal': 3785, 'talked': 3786, \"upon't.\": 3787, \"Warwick's\": 3788, 'powerful': 3789, 'weeps,': 3790, 'eject': 3791, 'counsel?': 3792, 'hire.': 3793, 'myself,': 3794, \"hour's\": 3795, 'flat.': 3796, 'Sits': 3797, 'killed': 3798, 'mature': 3799, 'alive.': 3800, 'begged.': 3801, 'blessings': 3802, 'tabour': 3803, 'Besides,': 3804, 'consul?': 3805, 'weakness,--thine': 3806, 'Lancaster;': 3807, 'withheld.': 3808, 'Christian': 3809, 'Ho!': 3810, 'limb': 3811, 'ill': 3812, 'surplus,': 3813, 'began': 3814, 'ill-dispersing': 3815, 'treads': 3816, 'men!': 3817, 'Tie': 3818, 'Fourth': 3819, 'asked': 3820, 'ill:': 3821, 'covets': 3822, 'stuff': 3823, 'sportive': 3824, 'faces': 3825, 'rough,': 3826, 'wilt': 3827, 'only.': 3828, 'assembled': 3829, 'stir:': 3830, 'yourself.': 3831, \"'The\": 3832, 'blind': 3833, 'priest,': 3834, 'foul-faced': 3835, 'Inclinable': 3836, 'timorous': 3837, 'Thyself,': 3838, 'name': 3839, 'more!': 3840, 'weeds': 3841, 'to.': 3842, 'Senators:': 3843, 'man.': 3844, 'Greece,--': 3845, 'solemnly': 3846, 'timorously': 3847, 'merry': 3848, 'access': 3849, 'says,': 3850, 'affairs': 3851, 'close.': 3852, 'resemblance,': 3853, 'monastery': 3854, \"person's\": 3855, 'pray': 3856, 'power': 3857, 'highness': 3858, 'unswayable': 3859, 'cockatrice': 3860, 'others': 3861, 'lawless': 3862, 'impossibility,': 3863, 'stick': 3864, 'If!': 3865, 'quench': 3866, 'obedient': 3867, 'apparent,': 3868, 'receipt;': 3869, 'watery': 3870, 'blood!': 3871, 'prudent': 3872, \"o'erworn\": 3873, 'me': 3874, 'air;': 3875, 'intelligence,': 3876, 'voices,': 3877, 'Clarence?': 3878, 'counsellor': 3879, 'Amongst': 3880, 'Why': 3881, 'themselves;': 3882, 'not?': 3883, 'himself;': 3884, 'camp,': 3885, \"'Thus\": 3886, 'paltering': 3887, 'cease,': 3888, 'never-needed': 3889, 'cheek;': 3890, 'viperous': 3891, 'One': 3892, 'home!': 3893, 'heartily.': 3894, 'circumspect.': 3895, \"on't:\": 3896, 'prattling': 3897, 'reconcile': 3898, 'eaten': 3899, 'bloody': 3900, 'cousin,': 3901, 'arithmetic;': 3902, 'sovereign?': 3903, 'warlike': 3904, 'tooth': 3905, 'husewife': 3906, 'fear!': 3907, 'Intending': 3908, 'destiny;': 3909, 'file?': 3910, 'Came': 3911, 'manner': 3912, 'with,': 3913, 'barking': 3914, 'traditional': 3915, 'deed,': 3916, 'hideous': 3917, \"Flutter'd\": 3918, 'oak': 3919, 'nettle': 3920, 'censures': 3921, 'Consorted': 3922, 'now,--will': 3923, 'chaff:': 3924, 'tending': 3925, 'Penelope:': 3926, 'countrymen.': 3927, 'Mayor:': 3928, 'greyhound': 3929, 'may.': 3930, 'mouths,': 3931, 'fortunate,': 3932, 'poison:': 3933, 'proud;': 3934, \"mother's,\": 3935, 'lamentation,': 3936, 'thereto': 3937, 'so;': 3938, 'suspect.': 3939, 'inveterate': 3940, 'please': 3941, 'inform': 3942, 'Wife,': 3943, 'fond': 3944, 'thousand': 3945, 'uncle.': 3946, 'Redeemer,': 3947, 'things,': 3948, 'noisome': 3949, 'patrician,': 3950, 'excused;': 3951, 'upright': 3952, 'city': 3953, 'talking': 3954, 'After': 3955, 'How': 3956, 'desert!': 3957, 'royalty': 3958, 'got': 3959, 'murder': 3960, 'elders.': 3961, 'gentle-folks:': 3962, 'odd.': 3963, 'supple': 3964, 'wears': 3965, 'fair!': 3966, 'charity': 3967, 'sights;': 3968, 'post': 3969, 'threshold': 3970, 'wherefore:': 3971, 'presently,': 3972, 'dieted': 3973, 'excellent.': 3974, 'loss:': 3975, 'stride': 3976, 'soft-conscienced': 3977, 'memory!': 3978, 'millstones,': 3979, 'Prepare': 3980, 'sickly': 3981, 'Out,': 3982, 'allies': 3983, 'under': 3984, 'Will': 3985, 'contest': 3986, 'by:': 3987, 'beloved,': 3988, 'unbarbed': 3989, 'noon:': 3990, 'Junius': 3991, 'Coin': 3992, 'themselves.': 3993, 'pause,': 3994, 'viper': 3995, 'long;': 3996, 'soul.': 3997, 'here;': 3998, \"maid's\": 3999, 'replied': 4000, 'deeply': 4001, 'falling': 4002, 'happiness': 4003, 'Deucalion,': 4004, 'friend?': 4005, 'exploit': 4006, 'placeth': 4007, \"cheque'd\": 4008, 'home,': 4009, 'chamber.': 4010, 'Repent': 4011, 'troublous': 4012, 'they.': 4013, 'dined:': 4014, 'reasonable,': 4015, 'restitution,': 4016, 'thankful': 4017, 'dastard': 4018, 'will,': 4019, 'heal': 4020, 'catching': 4021, 'god:': 4022, 'Whoever': 4023, 'mine?': 4024, 'rewards': 4025, 'who,': 4026, 'shoulder': 4027, 'banish': 4028, 'body;': 4029, 'virgin': 4030, 'In,': 4031, 'possible.': 4032, 'Live,': 4033, 'circumstance,': 4034, 'clouds,': 4035, 'request': 4036, 'judgment,': 4037, 'resting': 4038, 'blemish': 4039, 'Wherein,': 4040, 'Fare': 4041, 'undertake': 4042, 'helps,': 4043, 'best': 4044, \"flay'd?\": 4045, 'Sixth': 4046, 'mounting': 4047, 'smelt': 4048, 'Despising,': 4049, 'characters,': 4050, 'centuries': 4051, 'pattern': 4052, 'TYRREL:': 4053, \"Clapp'd\": 4054, 'Uncertain': 4055, 'brow': 4056, \"schoolboys'\": 4057, 'harm:': 4058, 'still,': 4059, \"hatch'd\": 4060, 'looks.': 4061, 'monarchy': 4062, 'brook': 4063, 'first,': 4064, 'Bury': 4065, 'throat,': 4066, 'cousin': 4067, 'strong-framed,': 4068, 'plagues': 4069, 'sweating': 4070, 'safely': 4071, 'large': 4072, 'bitterly': 4073, 'likewise': 4074, 'blasts': 4075, 'getter': 4076, 'anvil': 4077, 'alike': 4078, 'Cog': 4079, 'palsied': 4080, 'himself:': 4081, 'intercession,': 4082, 'fair': 4083, 'Tread': 4084, \"enjoy'd,\": 4085, 'handled,': 4086, 'fears': 4087, 'hand': 4088, 'mocks': 4089, 'counsel;': 4090, 'experienced,': 4091, 'Come:': 4092, 'Run': 4093, 'way?': 4094, 'liar,': 4095, \"unfinish'd,\": 4096, 'Served': 4097, 'prosper': 4098, 'return': 4099, 'Play': 4100, 'inherited': 4101, 'voices.': 4102, 'fight,': 4103, 'nature.': 4104, 'sink': 4105, 'gain!': 4106, 'offences': 4107, 'beard': 4108, 'Insult': 4109, 'O!': 4110, 'wager': 4111, 'Cousin': 4112, 'weighty': 4113, 'awhile.': 4114, 'using': 4115, 'battle': 4116, 'dangerous;': 4117, 'disinherited': 4118, 'Come,': 4119, 'competency': 4120, \"lack'd.\": 4121, 'livery:': 4122, 'Alas!': 4123, 'word:': 4124, 'strokes,': 4125, \"I'\": 4126, 'son,--believe': 4127, 'lightly': 4128, 'truth!': 4129, 'succeeding': 4130, 'true-derived': 4131, 'peace:': 4132, 'fiend,': 4133, 'flood': 4134, 'sea-mark,': 4135, 'prophetess!': 4136, 'deed?': 4137, 'fruit,': 4138, 'sent.': 4139, 'bloody,': 4140, 'enrich': 4141, 'well,': 4142, 'catch': 4143, \"'Fore\": 4144, 'laboured,': 4145, 'titleless,': 4146, 'hell.': 4147, 'Sweet': 4148, 'care?': 4149, 'Tyrrel.': 4150, 'partner,': 4151, 'rich,': 4152, 'anger': 4153, 'wisdom,': 4154, 'Destroy': 4155, 'Lycurguses--if': 4156, 'myself:': 4157, 'Rome,': 4158, 'Directitude!': 4159, 'murderers': 4160, 'That': 4161, 'factionary': 4162, 'tyranny;': 4163, 'wreak': 4164, 'multitude': 4165, 'fitting': 4166, 'thither.': 4167, 'distribute': 4168, \"pieces.'\": 4169, 'since.': 4170, 'stem:': 4171, 'You': 4172, 'Therefore': 4173, 'weapons!': 4174, 'behalf.': 4175, 'likely': 4176, 'Afric': 4177, 'doing.': 4178, 'moans!': 4179, 'expedition,': 4180, 'concluded': 4181, 'quest': 4182, 'noise,': 4183, 'pay': 4184, 'man?': 4185, 'curses': 4186, 'consequence,': 4187, 'leave,': 4188, 'purse': 4189, 'minds,': 4190, 'counted': 4191, 'night.': 4192, 'dined': 4193, 'infant-like': 4194, 'forenoon': 4195, 'toy,': 4196, 'pardon:': 4197, 'great;': 4198, 'scorn,': 4199, 'briefly': 4200, 'poorest,': 4201, 'members.': 4202, 'ingratitude,': 4203, 'dearer': 4204, 'distinction.': 4205, 'ill-will,': 4206, 'sovereign,': 4207, 'peradventure': 4208, 'recreation.': 4209, 'stoutness,': 4210, 'takest': 4211, 'prince:': 4212, 'marvel,': 4213, 'away:': 4214, 'walls!': 4215, 'thither': 4216, 'cudgel;': 4217, 'looking-glass,': 4218, 'Pomfret': 4219, 'occasion': 4220, 'rapture': 4221, 'pays': 4222, \"laugh'd\": 4223, 'Presented': 4224, 'list,': 4225, 'Dissentious': 4226, 'tricks:': 4227, 'Grandam,': 4228, 'vessel': 4229, 'well!': 4230, 'To-day': 4231, 'sword': 4232, 'current': 4233, 'veins': 4234, 'painting': 4235, 'spoke': 4236, 'Sirrah,': 4237, 'all!': 4238, \"father's\": 4239, 'fled': 4240, 'advantage': 4241, 'afternoon:': 4242, 'youngly': 4243, \"inshell'd\": 4244, 'sowl': 4245, 'triumphant': 4246, 'leg,': 4247, 'Were': 4248, \"I'ld\": 4249, 'reported.': 4250, 'uncertainty!': 4251, 'hand.': 4252, 'found;': 4253, 'desires.': 4254, \"For's\": 4255, 'grief': 4256, 'waxed': 4257, 'officer:': 4258, 'then;': 4259, 'execution.': 4260, 'ingrateful': 4261, 'pardons,': 4262, 'plebeians': 4263, 'inventory': 4264, 'back:': 4265, 'ripest': 4266, 'fellow?': 4267, 'can,': 4268, 'black-faced': 4269, 'merit': 4270, 'word': 4271, 'willing.': 4272, 'that,--': 4273, 'Prodigious,': 4274, 'Urge': 4275, 'Somewhat': 4276, 'Say,': 4277, 'eagles': 4278, 'strumpet': 4279, 'High-reaching': 4280, 'admire,': 4281, 'revengeful': 4282, 'insensible;': 4283, 'sir!': 4284, 'canon,': 4285, 'same.': 4286, 'him--made': 4287, 'conjures': 4288, 'soldier': 4289, 'boy:': 4290, 'conies': 4291, \"You'll\": 4292, \"Tullus'\": 4293, 'Having': 4294, 'nice': 4295, 'fouler': 4296, 'Tarquin': 4297, 'bear:': 4298, 'wings;': 4299, 'outgrown': 4300, 'drew': 4301, 'keep:': 4302, 'Against': 4303, 'Romans': 4304, 'services': 4305, 'looker': 4306, 'conceit': 4307, 'curbs': 4308, 'grieves': 4309, 'profess': 4310, 'uncertain': 4311, 'cripple': 4312, 'Villain,': 4313, 'sirrah!': 4314, 'apron-men;': 4315, 'wrath.': 4316, 'Splitting': 4317, 'occupations': 4318, 'go;': 4319, 'orb': 4320, 'hews': 4321, 'triumph?': 4322, 'bishops.': 4323, 'yourselves': 4324, 'meet': 4325, 'natural': 4326, 'steed': 4327, 'guess,': 4328, 'hag!': 4329, 'graves': 4330, 'An': 4331, \"'em!\": 4332, 'service?': 4333, 'too?': 4334, 'rules': 4335, 'Buckingham?': 4336, 'else.': 4337, 'countrymen,': 4338, 'tempers': 4339, 'breath?': 4340, 'sin:': 4341, 'young': 4342, \"arm'd\": 4343, 'ready,': 4344, 'turns!': 4345, 'gratulate': 4346, 'absolute;': 4347, 'action:': 4348, 'harm.': 4349, 'Accept': 4350, 'mountainous': 4351, 'thread': 4352, 'cannot,': 4353, 'serve;': 4354, 'win': 4355, 'whereon': 4356, 'ceremony.': 4357, 'choke': 4358, 'when,': 4359, 'Here:': 4360, 'George': 4361, 'heartily': 4362, 'best,': 4363, 'Moreover,': 4364, 'telling': 4365, 'get': 4366, 'ascent': 4367, 'descant:': 4368, 'grateful': 4369, 'dimming': 4370, 'unstable': 4371, 'lives': 4372, \"unparallel'd,\": 4373, 'fools,': 4374, 'No': 4375, 'I:': 4376, 'at.': 4377, 'witchcraft,': 4378, 'declension': 4379, 'very': 4380, 'bats': 4381, 'purposed': 4382, \"govern'd\": 4383, 'vapour': 4384, 'Bold,': 4385, 'foundation,': 4386, 'haughty': 4387, 'current.': 4388, 'seest': 4389, 'prompts': 4390, 'desire': 4391, 'glorious': 4392, 'lords.': 4393, 'orphans,': 4394, 'pardon,': 4395, 'slower': 4396, 'outdares': 4397, 'True': 4398, 'ears': 4399, 'slight.': 4400, 'delightful': 4401, 'penetrable': 4402, 'casque': 4403, 'embraced': 4404, 'remain!': 4405, 'abundantly': 4406, 'sent--': 4407, 'rock': 4408, 'for': 4409, 'Ready': 4410, 'Until': 4411, ':': 4412, 'compounded.': 4413, 'throw;': 4414, 'answer?': 4415, 'roar': 4416, 'daughter,': 4417, 'simple': 4418, 'princely': 4419, 'again,--but': 4420, 'Did': 4421, 'hoot': 4422, 'Pursuivant:': 4423, 'for--': 4424, 'period': 4425, 'cannot--the': 4426, 'troops': 4427, 'evidence': 4428, 'written': 4429, 'fellow,': 4430, 'betimes,': 4431, 'words:': 4432, 'mouse': 4433, 'an': 4434, 'momentary': 4435, 'Relent!': 4436, 'food': 4437, 'Assemble': 4438, 'here,--this,': 4439, 'mouths--': 4440, 'election;': 4441, 'vice,': 4442, 'fixed': 4443, 'sacrifice,': 4444, 'biting': 4445, 'Seldom': 4446, 'meditation;': 4447, 'Piercing': 4448, 'fiends': 4449, 'health': 4450, 'polled.': 4451, 'admit': 4452, 'ragged': 4453, 'danger': 4454, 'horse': 4455, 'geese,': 4456, 'liege.': 4457, 'business': 4458, 'abides.': 4459, 'odd;': 4460, \"Edward's\": 4461, \"Mark'd\": 4462, 'Whilst': 4463, 'corn': 4464, 'mulberry': 4465, 'made': 4466, 'guilt': 4467, 'stones,': 4468, 'citizens!': 4469, 'rumourer': 4470, 'wars': 4471, 'remember,': 4472, 'star;': 4473, 'restore': 4474, 'rue': 4475, 'wanting': 4476, 'block-head,': 4477, 'sleeping.': 4478, 'way.': 4479, \"shunn'd\": 4480, 'Once': 4481, 'Led': 4482, 'capitulate': 4483, 'lend': 4484, 'long,': 4485, 'circumvention?': 4486, 'Him': 4487, 'Constrains': 4488, \"Environ'd\": 4489, 'audible,': 4490, 'requires': 4491, 'question': 4492, 'wide': 4493, 'troubler': 4494, 'glories,': 4495, 'write': 4496, 'fellow;': 4497, \"o'erwhelm'd\": 4498, 'ground,': 4499, \"o'er\": 4500, 'gods.': 4501, 'howbeit,': 4502, 'idle?': 4503, 'moralize': 4504, 'good.': 4505, 'sued': 4506, 'might': 4507, 'puny': 4508, 'strains': 4509, \"wither'd?\": 4510, 'mind,': 4511, 'tribunes': 4512, 'She': 4513, 'little:': 4514, 'knees.': 4515, 'mighty': 4516, 'Save': 4517, 'cursed': 4518, 'fisting': 4519, 'Tickled': 4520, 'trumpets,': 4521, 'bristled': 4522, 'direct': 4523, 'hear,--': 4524, \"cropp'd\": 4525, 'worship,': 4526, 'forged': 4527, 'ended': 4528, 'stamp': 4529, 'troop?': 4530, 'victories': 4531, 'Hastings?': 4532, 'is,': 4533, 'cure': 4534, 'thanks': 4535, 'heap': 4536, 'ends': 4537, 'looks': 4538, 'salt': 4539, 'lustful': 4540, 'Ay': 4541, 'weightier': 4542, 'pleased': 4543, 'flatter': 4544, 'courage?': 4545, 'Edward!': 4546, 'Italy:': 4547, 'recorded': 4548, 'mortal': 4549, 'help.': 4550, 'anger.': 4551, 'capacity,': 4552, 'blade': 4553, 'requited': 4554, 'custom,': 4555, 'sword!': 4556, 'behold': 4557, 'best;': 4558, 'dead.': 4559, 'consider;': 4560, 'thin': 4561, 'fellow.': 4562, 'thing.': 4563, 'web': 4564, \"punish'd.\": 4565, 'odds': 4566, 'oath,': 4567, 'wretches,': 4568, 'Exceeding': 4569, 'vain': 4570, 'pronounce,': 4571, 'lungs,': 4572, 'grace?': 4573, 'lodged': 4574, 'Insolent': 4575, \"Baynard's\": 4576, 'finished': 4577, 'pardon': 4578, 'them:': 4579, 'means,': 4580, 'tell': 4581, 'lie,': 4582, 'toil;': 4583, 'hearth.': 4584, 'concealment': 4585, \"state's\": 4586, 'blessed': 4587, 'husband.': 4588, 'force': 4589, 'nurse': 4590, 'lament;': 4591, 'disposition;': 4592, 'Meantime,': 4593, 'reign': 4594, 'Speed': 4595, 'field,': 4596, 'mills--bring': 4597, 'fearful,': 4598, 'rub,': 4599, 'fear.': 4600, 'chase.': 4601, 'done,': 4602, 'plaints': 4603, 'use': 4604, 'memory': 4605, 'makes!': 4606, 'keeper?': 4607, 'wiping,': 4608, 'dance': 4609, 'faction?': 4610, 'spun': 4611, 'gold': 4612, 'yon': 4613, 'heaven,': 4614, 'nod,': 4615, 'waken': 4616, 'beware': 4617, 'hastings': 4618, 'tragedy.': 4619, 'lolling': 4620, 'down.': 4621, 'mind:': 4622, 'palms': 4623, 'humility.': 4624, 'women:': 4625, 'butterfly': 4626, 'misplaced.': 4627, 'toads,': 4628, 'fragments!': 4629, 'prisoners': 4630, 'endured.': 4631, 'son': 4632, 'are': 4633, 'day?': 4634, 'hence,': 4635, 'portance,': 4636, 'brag': 4637, 'service,': 4638, 'revoke': 4639, 'lie:': 4640, 'case': 4641, 'increase,': 4642, 'steeds': 4643, 'people--which': 4644, 'betwixt': 4645, \"rack'd\": 4646, \"seem'd\": 4647, 'flat;': 4648, 'youngest': 4649, 'hate': 4650, 'rejoice': 4651, 'accusers;': 4652, 'we?': 4653, \"welcome!'\": 4654, 'mankind?': 4655, 'enormity': 4656, 'Pluto': 4657, 'patient': 4658, 'followed': 4659, 'fosset-seller;': 4660, 'money.': 4661, 'knit,': 4662, 'yourself': 4663, 'remain': 4664, 'commendable,': 4665, 'comforts,': 4666, 'seeking': 4667, 'only': 4668, 'embracements': 4669, 'none.': 4670, 'Fan': 4671, 'caparison:': 4672, 'chance.': 4673, 'moves': 4674, 'lie': 4675, 'unburied': 4676, 'iron-witted': 4677, 'fools.': 4678, 'noses,--': 4679, 'Traitor!': 4680, 'beads,': 4681, 'forehead': 4682, \"'What\": 4683, 'Menenius?': 4684, 'opposer,': 4685, 'confound': 4686, 'between': 4687, 'physician:': 4688, 'duty.': 4689, 'eyes?': 4690, 'live:': 4691, 'remains': 4692, 'meat,': 4693, 'gift': 4694, 'sense;': 4695, 'therein:': 4696, 'plebeians:': 4697, \"'em,\": 4698, 'heads': 4699, 'conquer,': 4700, 'bounteous': 4701, 'Lords:': 4702, 'complots?': 4703, 'hotly': 4704, 'bribe': 4705, 'against': 4706, 'peevish': 4707, 'Woe': 4708, 'feel': 4709, 'feed': 4710, 'weeds.': 4711, 'abilities': 4712, 'tremble.': 4713, 'liberties': 4714, \"by't,\": 4715, 'bastardy,': 4716, 'known': 4717, 'authorities': 4718, 'Mother,': 4719, 'defect': 4720, 'Take': 4721, 'cherish': 4722, 'Alone': 4723, 'For': 4724, 'feeding,': 4725, 'Grim-visaged': 4726, 'heart:': 4727, 'procured': 4728, 'revenges': 4729, 'pale--they': 4730, 'spoil': 4731, 'chance': 4732, 'malignant': 4733, 'were,': 4734, \"cluck'd\": 4735, 'tragic': 4736, 'creature': 4737, 'rest': 4738, 'swoon?': 4739, 'these--': 4740, 'flight': 4741, 'courteous': 4742, 'hunt.': 4743, 'Hecuba,': 4744, 'ravish': 4745, \"protector's\": 4746, 'insatiate': 4747, 'wife,': 4748, 'churchyard.': 4749, 'madam:': 4750, \"'I\": 4751, 'earnest,': 4752, 'shook': 4753, 'no,': 4754, 'together.': 4755, 'stirring': 4756, 'angel': 4757, 'Alas,': 4758, 'mildly;': 4759, 'Castle.': 4760, 'change;': 4761, 'conscience,': 4762, 'unexamined,': 4763, 'out-shining': 4764, \"foil'd\": 4765, 'upon': 4766, 'weary;': 4767, 'pitiful,': 4768, 'friends,--': 4769, 'weep': 4770, 'liberty,': 4771, 'follows': 4772, 'Villains,': 4773, 'fail.': 4774, 'non': 4775, 'egally': 4776, 'news?': 4777, 'ordinance': 4778, 'legion': 4779, 'millions,': 4780, 'vain.': 4781, 'authority': 4782, 'pretty': 4783, 'signified': 4784, 'time:': 4785, \"friends,'--this\": 4786, 'fool': 4787, 'brain,': 4788, 'goods.': 4789, 'then?': 4790, 'according': 4791, 'Aiming,': 4792, 'grief-shot': 4793, \"to's\": 4794, 'foreign': 4795, 'enemies:': 4796, 'safe-guard': 4797, 'mastership': 4798, 'repose': 4799, 'ancestors,': 4800, 'unworthy': 4801, 'herein?': 4802, 'fortune,': 4803, 'welcomer': 4804, 'clubs:': 4805, 'together': 4806, 'trial': 4807, 'England!': 4808, 'hither,': 4809, 'score': 4810, 'welcomes.': 4811, 'consider,': 4812, 'sworn': 4813, \"rumour'd,\": 4814, 'coward:': 4815, \"wither'd\": 4816, 'towns': 4817, \"bragg'd\": 4818, 'straight;': 4819, 'mules,': 4820, 'Volscians,--': 4821, 'child.': 4822, 'mad': 4823, 'Jack.': 4824, 'word,': 4825, 'black,': 4826, 'having:': 4827, 'Cominius:': 4828, 'Whereby': 4829, 'office': 4830, 'did': 4831, 'regions': 4832, 'courtesy?': 4833, \"Dorset's\": 4834, 'forced': 4835, 'I;': 4836, 'Forbear': 4837, 'hope,': 4838, 'fold-in': 4839, 'fines:': 4840, 'ancestry': 4841, 'gown.': 4842, 'abroach': 4843, 'bitterest': 4844, 'be;': 4845, 'rood,': 4846, 'pour': 4847, 'morrow,': 4848, \"general's\": 4849, 'note,': 4850, 'above': 4851, 'garments.': 4852, 'breaths.': 4853, 'complaint;': 4854, 'store-houses': 4855, 'kites': 4856, 'compact': 4857, 'map': 4858, 'computation': 4859, 'matters': 4860, \"follow'd\": 4861, 'pocket?': 4862, \"Hear'st\": 4863, \"do't\": 4864, \"'Coriolanus!'\": 4865, 'born': 4866, 'kindle,': 4867, 'comfort:': 4868, 'wait': 4869, 'affecting': 4870, 'true-bred!': 4871, 'bate': 4872, 'since': 4873, 'tell?': 4874, 'dwellest': 4875, 'acts,': 4876, 'sort': 4877, 'Slain,': 4878, 'Prosperity': 4879, 'tinder-like': 4880, 'purchase': 4881, 'differency': 4882, 'tent:': 4883, 'down--': 4884, 'awake': 4885, 'ingenious,': 4886, 'lamb': 4887, 'liberty.': 4888, 'Titus:': 4889, 'fault,': 4890, 'partly': 4891, \"whipp'd.\": 4892, 'Unless,': 4893, 'Antiates': 4894, 'reasons:': 4895, 'goodly': 4896, \"go'st\": 4897, 'mercy,': 4898, 'tired,': 4899, 'Paul': 4900, \"o'\": 4901, 'dead,': 4902, 'pains': 4903, 'scornfully:': 4904, 'suspicion!': 4905, 'moving': 4906, 'Ten': 4907, 'speak--it': 4908, 'wrong:': 4909, 'pounds': 4910, 'gloves,': 4911, 'regarded': 4912, 'taunt': 4913, 'lead': 4914, 'names;': 4915, 'condemn': 4916, 'semblance': 4917, 'right.': 4918, 'overgo': 4919, \"barr'd,\": 4920, 'impediment': 4921, 'supper,': 4922, 'banishment': 4923, \"bunchback'd\": 4924, 'soon': 4925, 'flatter,': 4926, 'chastely.': 4927, 'sound.': 4928, 'men;': 4929, 'measures.': 4930, 'locks': 4931, \"'They\": 4932, 'Dukes,': 4933, 'avouch': 4934, 'enemy.': 4935, 'Rome': 4936, 'Menenius.': 4937, 'cousin?': 4938, 'slimy': 4939, 'feverous': 4940, 'murder:': 4941, 'pale.': 4942, 'gently': 4943, 'First,': 4944, 'fighting:': 4945, 'weight,': 4946, \"'bout\": 4947, 'lady.': 4948, 'passable.': 4949, 'bitterness': 4950, 'correcting': 4951, 'lowest': 4952, 'conspire': 4953, 'Masters': 4954, 'nobleness;': 4955, 'leader,': 4956, 'deaths': 4957, 'leads': 4958, \"wash'd\": 4959, 'daughter:': 4960, 'almost': 4961, \"accustom'd\": 4962, 'lamb.': 4963, 'laugh,': 4964, 'helms': 4965, 'unprovided?': 4966, 'away': 4967, 'misery!': 4968, 'intend': 4969, 'entangled': 4970, 'surety': 4971, 'multitude.': 4972, 'diet': 4973, 'four.': 4974, 'pleasure': 4975, \"honour'd\": 4976, \"shorten'd\": 4977, 'desire?': 4978, 'colour.': 4979, 'desirers.': 4980, \"new-heal'd\": 4981, 'fitly': 4982, 'untainted': 4983, 'labours': 4984, 'Tarpeian,': 4985, 'rumours.': 4986, 'resolute.': 4987, 'Scaling': 4988, 'work': 4989, 'It': 4990, \"'zounds!\": 4991, 'veins,': 4992, 'times,': 4993, 'thanks.': 4994, 'tale:': 4995, 'fully.': 4996, 'agony?': 4997, \"turn'd,\": 4998, 'disgraced,': 4999, 'waving': 5000, 'read': 5001, 'rive': 5002, 'must,': 5003, 'state,': 5004, 'buildeth': 5005, 'grim': 5006, 'loveth': 5007, 'plague!': 5008, 'body:': 5009, 'tempest': 5010, 'belly?': 5011, 'yours!': 5012, 'has,': 5013, 'blush': 5014, 'weary': 5015, 'prate,': 5016, 'sides': 5017, 'remains;': 5018, 'Marquis': 5019, 'Repeal': 5020, 'Seducing': 5021, 'beheaded.': 5022, \"know't,\": 5023, 'distress': 5024, 'cold,': 5025, \"nurse's\": 5026, 'he:': 5027, 'self,': 5028, 'seconded;': 5029, 'Page:': 5030, 'designs,': 5031, 'sleeping,': 5032, 'whip': 5033, 'honours,': 5034, 'fondly': 5035, 'standers-by': 5036, 'rascal,': 5037, 'tempt': 5038, 'strive': 5039, 'wakes.': 5040, 'scarce': 5041, 'surmise,': 5042, 'for.': 5043, 'guile,': 5044, \"Watch'd\": 5045, 'trencher,': 5046, 'interred': 5047, 'expel': 5048, 'pieces.': 5049, 'lover,': 5050, 'friends': 5051, 'boisterous': 5052, 'once': 5053, 'marquess,': 5054, 'prisoner;': 5055, 'there;': 5056, 'point': 5057, 'grievous': 5058, 'much:': 5059, 'excellent': 5060, 'bears': 5061, 'do': 5062, \"darken'd\": 5063, 'Banished,': 5064, 'struck': 5065, 'throne:': 5066, 'renowned': 5067, 'converse': 5068, 'criminal': 5069, 'duties,': 5070, 'winds': 5071, 'destruction.': 5072, 'Namely,': 5073, \"O,'tis\": 5074, 'Seduced': 5075, 'helm:': 5076, 'timed': 5077, 'tender,': 5078, 'graced,': 5079, \"vouch'd,\": 5080, 'may,': 5081, 'tedious': 5082, 'billeted,': 5083, 'quick': 5084, \"deliver'd\": 5085, 'presently;': 5086, 'Tower,': 5087, 'thee?': 5088, \"slaughter'd\": 5089, 'tongues': 5090, 'took;': 5091, 'Mortal,': 5092, 'incense': 5093, 'Herald:': 5094, 'younger': 5095, 'Lancaster': 5096, 'told': 5097, 'Might': 5098, 'hate:': 5099, 'councils': 5100, 'lords': 5101, 'favour': 5102, 'Foul': 5103, 'pound': 5104, \"stabb'd\": 5105, 'wear.': 5106, 'About': 5107, 'condition,': 5108, 'Antium.': 5109, 'cannot': 5110, 'DORSET:': 5111, 'mitigate': 5112, 'devour': 5113, 'lie;': 5114, \"lady's\": 5115, 'cheeks,': 5116, 'decayed': 5117, 'town': 5118, 'withdraw': 5119, 'complots': 5120, 'Cheated': 5121, 'all:': 5122, 'Therefore,': 5123, 'drops': 5124, 'accept;': 5125, 'prevailing': 5126, 'mend': 5127, 'Little.': 5128, 'taken': 5129, \"morrow.'\": 5130, 'venomous': 5131, 'drawn': 5132, 'Dabbled': 5133, 'owe': 5134, 'Buckingham,': 5135, 'streets': 5136, 'with': 5137, 'projects': 5138, 'want,': 5139, 'longs': 5140, 'calm,': 5141, 'predecessors': 5142, 'foot;': 5143, 'Contend': 5144, 'spawn': 5145, 'wonder,': 5146, 'thrives': 5147, 'fly,': 5148, 'judgment': 5149, 'remorseful': 5150, 'cruel': 5151, 'thoughts:': 5152, 'gods,': 5153, 'sons.': 5154, 'service': 5155, 'justice;': 5156, 'Plough': 5157, 'rooting': 5158, 'mechanics:': 5159, 'stops': 5160, \"to't:\": 5161, 'twist': 5162, \"'em\": 5163, 'spell,': 5164, 'seconds.': 5165, 'words;': 5166, \"fetch'd\": 5167, 'snow': 5168, 'wrong;': 5169, 'sincerely:': 5170, 'worthiness,': 5171, 'villain!': 5172, 'cushions': 5173, 'wrong,': 5174, 'mysteries': 5175, 'pardon!--': 5176, 'fair:': 5177, 'harrow': 5178, \"'Rise;'\": 5179, \"done't?\": 5180, 'bitter': 5181, 'RICHARD': 5182, 'capital:': 5183, 'leading': 5184, 'patient,': 5185, 'Get': 5186, 'respect.': 5187, 'whatsoever': 5188, 'purest': 5189, 'so,--': 5190, 'buttock': 5191, 'Ourselves,': 5192, \"'longs\": 5193, 'compounded': 5194, 'school-master.': 5195, 'up': 5196, 'uncle;': 5197, \"smother'd.\": 5198, 'pride.': 5199, 'Confound': 5200, 'son?': 5201, 'in.': 5202, 'lamely': 5203, 'appear,': 5204, 'conqueror;': 5205, \"'God\": 5206, 'grandchild': 5207, 'company': 5208, 'offended': 5209, 'single:': 5210, 'Boy:': 5211, 'reasons': 5212, 'nobler.': 5213, 'mother?': 5214, 'ports': 5215, 'forbid': 5216, 'chance,': 5217, 'wife!': 5218, 'come?': 5219, 'chamber-pot,': 5220, 'ground': 5221, 'hatching,': 5222, 'clusters.': 5223, 'Yes,': 5224, 'trust': 5225, 'Rome:': 5226, 'force,': 5227, 'lovely': 5228, 'burn': 5229, 'mark': 5230, 'delivery?': 5231, 'hated': 5232, \"cease.'\": 5233, 'dry': 5234, 'gentleman,': 5235, 'uncle,': 5236, 'friends,': 5237, \"tribunes'\": 5238, 'shame;': 5239, 'lent': 5240, 'enraged': 5241, 'Breathe': 5242, \"an't\": 5243, 'deeds:': 5244, 'EDWARD:': 5245, 'eye.': 5246, 'rancour': 5247, 'insolence': 5248, 'Lord:': 5249, 'dicipline': 5250, 'unquiet': 5251, 'numbers,': 5252, 'Capitol!': 5253, 'angry': 5254, 'world:': 5255, 'Poor': 5256, \"'Zounds,\": 5257, 'Shall,': 5258, 'soothe': 5259, 'liberty': 5260, 'here?': 5261, 'sweat.': 5262, \"o'ershade\": 5263, 'contract': 5264, 'battle:': 5265, \"return'd\": 5266, 'knee:': 5267, 'weigh.': 5268, 'devils!': 5269, 'stone,': 5270, 'death:': 5271, 'babe,': 5272, 'hot': 5273, 'stretch': 5274, 'trenches?': 5275, 'homicide,': 5276, 'ye.': 5277, 'Corn': 5278, 'eyes': 5279, 'accident': 5280, 'rancorous': 5281, 'widows': 5282, 'city,': 5283, 'white': 5284, \"quarter'd\": 5285, \"Unmanner'd\": 5286, \"pluck'd\": 5287, 'feature': 5288, 'darest': 5289, 'house.': 5290, \"woo'd\": 5291, 'enemy,': 5292, 'shall,': 5293, 'Rude': 5294, 'Think': 5295, 'ours': 5296, 'quaked,': 5297, 'trouble': 5298, 'foes': 5299, 'Chertsey': 5300, 'rage,': 5301, 'broke': 5302, 'is.': 5303, 'burial:': 5304, 'Lead': 5305, 'royal,': 5306, 'theirs': 5307, 'labour,': 5308, 'boar,': 5309, 'bloodily': 5310, 'words,': 5311, 'Lartius?': 5312, 'fought,': 5313, 'lockram': 5314, \"to't\": 5315, 'meed': 5316, 'ran': 5317, 'off': 5318, 'drink': 5319, 'Yea,': 5320, 'faintly': 5321, 'beards': 5322, 'spleen;': 5323, 'company:': 5324, 'murrain': 5325, 'beards;': 5326, 'Truly,': 5327, \"congeal'd\": 5328, 'Attend': 5329, 'because': 5330, 'five': 5331, 'ELIZABETH:': 5332, 'there,': 5333, 'aunt': 5334, 'Fix': 5335, 'incapable': 5336, 'certain?': 5337, 'Queen': 5338, 'laid,': 5339, 'bestrid': 5340, 'renown': 5341, 'inductions': 5342, 'pleader,': 5343, 'dries;': 5344, 'soonest': 5345, \"received;'\": 5346, 'on;': 5347, 'now.': 5348, 'warm': 5349, 'home.': 5350, 'heels.': 5351, 'suit': 5352, 'potency': 5353, 'Lancaster!': 5354, 'prevail': 5355, 'faults,--': 5356, 'Mangles': 5357, 'won': 5358, 'bended,': 5359, 'trembles': 5360, 'Draw': 5361, 'forswore': 5362, 'him!': 5363, \"a'\": 5364, 'here.': 5365, 'hates': 5366, 'Bound': 5367, 'fellows:': 5368, 'orange': 5369, 'wear': 5370, 'wits?': 5371, 'him.': 5372, 'Summon': 5373, 'rapt': 5374, 'He': 5375, 'execution?': 5376, 'mother!': 5377, 'Officer:': 5378, 'dreams,': 5379, 'won?': 5380, 'manacles,': 5381, 'greatest': 5382, 'open': 5383, 'tribune!': 5384, 'Tush!': 5385, 'posterity,': 5386, 'proud.': 5387, \"'twas,\": 5388, 'relent': 5389, 'gilded': 5390, 'Weigh': 5391, 'manners': 5392, 'lives!': 5393, 'repeal': 5394, 'richest': 5395, 'should,': 5396, 'seeking?': 5397, 'offended;': 5398, 'charters': 5399, 'temperately': 5400, 'warriors,': 5401, 'repeat': 5402, 'warning.': 5403, 'throne,': 5404, \"banish'd:\": 5405, 'Is,': 5406, 'mourn': 5407, 'doers:': 5408, 'bulk,': 5409, 'kindle': 5410, 'admitting': 5411, 'die': 5412, 'plumes,': 5413, 'appointed': 5414, 'whom': 5415, 'nay!': 5416, \"Call't\": 5417, \"for't.\": 5418, 'mistaken': 5419, 'smells': 5420, 'otherwise,': 5421, 'dagger.': 5422, 'TITUS:': 5423, 'consul.': 5424, 'success.': 5425, 'middle': 5426, 'bewray': 5427, 'bent': 5428, \"Richard!'\": 5429, 'Gloucester,': 5430, 'bed-chamber.': 5431, 'fellows': 5432, 'garland.': 5433, 'goat!': 5434, 'king': 5435, 'further.': 5436, 'crows': 5437, 'dagger,': 5438, 'head': 5439, 'attempts.': 5440, 'Paris': 5441, 'mother': 5442, 'worshipful': 5443, 'physical': 5444, 'appear.': 5445, 'contempt.': 5446, 'Deformed,': 5447, 'outrage,': 5448, 'peers.': 5449, 'slaughter-house.': 5450, 'Sicinius.': 5451, 'Consider': 5452, 'Opposing': 5453, 'sapling,': 5454, 'reigns:': 5455, 'Denounced': 5456, 'her': 5457, 'Clean': 5458, 'magistrates,': 5459, 'false': 5460, 'widow!': 5461, 'then': 5462, 'head,': 5463, 'banishers,': 5464, 'Well,': 5465, 'deadly': 5466, 'John,': 5467, 'hate;': 5468, 'tongue': 5469, 'lord!': 5470, 'confirm': 5471, 'amends': 5472, 'stock:': 5473, \"touch'd,\": 5474, 'scotched': 5475, 'avenged': 5476, 'kindest': 5477, 'high-swoln': 5478, 'meaning,': 5479, 'Leave': 5480, 'hope;': 5481, 'toe': 5482, 'mine.': 5483, 'conjure': 5484, 'caps,': 5485, 'part.': 5486, 'looking': 5487, \"pinn'd\": 5488, 'hoo!': 5489, 'come,': 5490, 'again?': 5491, 'refuge': 5492, 'subject': 5493, 'leisure': 5494, 'measure': 5495, 'bound?': 5496, 'alive': 5497, 'fen': 5498, 'pages': 5499, 'auburn,': 5500, 'seventeen': 5501, 'interrupted': 5502, 'rashly': 5503, 'double': 5504, 'hard': 5505, 'fine,': 5506, 'Droop': 5507, 'forsworn': 5508, 'soothing!': 5509, 'mark;': 5510, 'Capitol?': 5511, 'PRINCE': 5512, 'Gloucester': 5513, 'factious': 5514, 'sours': 5515, 'convented': 5516, 'commanding': 5517, 'estimation.': 5518, 'hyperbolical;': 5519, 'majesty;': 5520, 'Yield,': 5521, 'Hither': 5522, 'load': 5523, 'changed': 5524, 'fatigate,': 5525, 'hands': 5526, 'yes,': 5527, 'abhorring.': 5528, 'Or,': 5529, 'blocks': 5530, 'yours': 5531, 'pale?': 5532, 'abode.': 5533, 'wring': 5534, 'back.': 5535, 'worships': 5536, 'angry.': 5537, 'Gazed': 5538, 'Ay.': 5539, 'too,': 5540, 'coloured:': 5541, 'called': 5542, 'apart': 5543, \"heart's\": 5544, 'duke?': 5545, 'has!': 5546, 'prophecies,': 5547, 'serves': 5548, 'wheel': 5549, 'beg': 5550, 'Valeria,': 5551, 'Juno,': 5552, 'enjoy,': 5553, 'Resolved.': 5554, 'farewell,': 5555, 'monstrous,': 5556, 'prerogative': 5557, 'displeased': 5558, 'beside': 5559, 'spy': 5560, 'lace': 5561, 'mildness': 5562, \"'Twas\": 5563, 'station:': 5564, 'precedent': 5565, 'rabble:': 5566, 'Two': 5567, 'notched': 5568, 'kam.': 5569, 'has': 5570, 'merrily': 5571, 'seizing': 5572, 'our': 5573, 'corslet': 5574, 'insolent,': 5575, 'awhile': 5576, 'hereafter': 5577, 'whoever': 5578, 'swearing,': 5579, 'deity': 5580, 'number,': 5581, \"o'clock\": 5582, 'tormenting': 5583, 'way;': 5584, 'wish.': 5585, 'root': 5586, 'metal': 5587, 'prevented': 5588, 'move': 5589, 'tush!': 5590, 'die:': 5591, 'promise,': 5592, 'vulgar': 5593, \"parcell'd,\": 5594, 'effected': 5595, \"confirm'd;\": 5596, 'country?': 5597, \"disdain'd\": 5598, 'bottled': 5599, \"'Twill\": 5600, 'election.': 5601, 'hearts!': 5602, 'whence?': 5603, 'me.--Pray,': 5604, 'must': 5605, \"friends':\": 5606, 'unbruised:': 5607, 'stir': 5608, 'outweighs': 5609, \"here's\": 5610, 'authority,': 5611, 'Ensuing': 5612, 'ornaments': 5613, 'lay': 5614, 'wanting,': 5615, 'assistance.': 5616, 'Rutland': 5617, 'this:--': 5618, 'moveables': 5619, 'hence!': 5620, 'army;': 5621, 'no;': 5622, 'children.': 5623, \"wounds'\": 5624, 'Antium': 5625, 'change,': 5626, \"ne'er\": 5627, \"shoulder'd\": 5628, 'wind.': 5629, \"wife's\": 5630, 'fame': 5631, 'off.': 5632, 'their': 5633, 'say!': 5634, \"one's\": 5635, 'neither': 5636, 'nail,': 5637, 'complaints': 5638, 'flattery,': 5639, 'outward': 5640, 'covetous.': 5641, 'smile,': 5642, 'die.': 5643, 'magistrates.': 5644, 'hooting': 5645, 'shrift;': 5646, 'Juno-like.': 5647, 'suffering;': 5648, 'throngs': 5649, 'affects': 5650, 'camels': 5651, 'actions': 5652, 'wrong.': 5653, 'brother': 5654, 'flourish': 5655, \"there's\": 5656, 'he;': 5657, 'new': 5658, 'shown': 5659, 'Associated': 5660, 'giddy': 5661, 'Volsces?': 5662, 'Conjectural': 5663, 'meet:': 5664, 'bonnet': 5665, 'slily': 5666, \"empoison'd,\": 5667, 'sin.': 5668, 'Standing': 5669, 'estimate,': 5670, 'Agreed.': 5671, 'house;': 5672, 'rise,': 5673, 'danger.': 5674, 'puff': 5675, 'spiders,': 5676, 'Cut': 5677, 'Bolder,': 5678, 'sore': 5679, 'shunless': 5680, 'fie!': 5681, 'ruin.': 5682, 'pertinent': 5683, 'entreats,': 5684, \"apace:'\": 5685, 'prithee': 5686, 'ignorance;': 5687, 'impeachments': 5688, 'caught': 5689, 'extremities': 5690, 'executioners.': 5691, 'suppler': 5692, 'freely': 5693, 'Pomfret,': 5694, 'Red': 5695, \"'True,\": 5696, 'burdens,': 5697, 'entered': 5698, 'brand': 5699, \"restrain'd,\": 5700, \"Join'd\": 5701, 'wast': 5702, 'solicit': 5703, 'quite': 5704, 'elder,': 5705, 'soul!': 5706, 'bench': 5707, 'grub': 5708, 'faith': 5709, 'after-meeting,': 5710, 'Even': 5711, 'enemies.': 5712, 'Wot': 5713, 'touch': 5714, 'lineal': 5715, 'Roman;': 5716, 'weigh': 5717, \"daughter.'\": 5718, 'takes,': 5719, 'bower.': 5720, 'ruled': 5721, 'rotten': 5722, 'wrongs?': 5723, 'Roman?': 5724, 'pursuivant': 5725, 'enters;': 5726, 'returns,': 5727, 'devise': 5728, 'manly': 5729, 'amorous': 5730, \"Show'd\": 5731, 'Plots': 5732, 'ceremonious': 5733, 'Ludlow': 5734, 'borne': 5735, 'wot': 5736, 'hired': 5737, 'long.': 5738, 'peril.': 5739, 'room.': 5740, 'tells': 5741, 'disobedience,': 5742, 'yesternight': 5743, 'cupboarding': 5744, 'summer': 5745, 'proposed': 5746, 'vow;': 5747, 'pluck': 5748, \"answer'd--\": 5749, 'men.': 5750, 'hearing': 5751, 'boar': 5752, 'ears.': 5753, 'retire': 5754, 'virtue,': 5755, 'benefit': 5756, 'return:': 5757, 'lives.': 5758, 'brain;': 5759, 'ladies,--and': 5760, 'store,': 5761, 'deserved': 5762, 'childish-foolish': 5763, 'alive,': 5764, 'unjustly': 5765, 'They,': 5766, 'heart,': 5767, 'limbs,': 5768, 'grave': 5769, 'Henry,': 5770, 'doubt': 5771, 'France.': 5772, 'madst': 5773, 'Tiber!': 5774, 'stays': 5775, 'Right': 5776, 'value': 5777, 'map,': 5778, 'boy;': 5779, 'Capitol--': 5780, 'spits': 5781, 'shriving': 5782, 'skulls;': 5783, 'oratory': 5784, 'props': 5785, \"ta'en\": 5786, 'BUCKINGHAM:': 5787, 'tie': 5788, 'aught;': 5789, 'admits': 5790, 'me.': 5791, 'conduct': 5792, 'countenances.': 5793, 'secure': 5794, 'cheap': 5795, 'faithful': 5796, \"'Beseech\": 5797, 'day': 5798, 'forth;': 5799, 'hung': 5800, 'tent': 5801, 'highly': 5802, \"unsever'd\": 5803, 'changeling;': 5804, 'by,': 5805, 'desire.': 5806, 'confirmed': 5807, 'foot,': 5808, \"villain's\": 5809, 'goddess,': 5810, 'within.': 5811, 'along.': 5812, 'quickly': 5813, 'wretch.--': 5814, 'clean.': 5815, 'beggars.': 5816, 'suitor': 5817, 'after,': 5818, 'stale': 5819, 'weeping,': 5820, 'patience': 5821, \"you.'\": 5822, \"warm'd\": 5823, 'Wine,': 5824, 'surfeits,': 5825, 'curse,': 5826, 'brief': 5827, 'bent:': 5828, 'fails': 5829, 'enter': 5830, 'blood.': 5831, 'disadvantage': 5832, 'answer.': 5833, 'Conspirator:': 5834, 'nobler': 5835, 'Whose': 5836, 'boon,': 5837, 'widow,': 5838, 'dust': 5839, 'reel': 5840, 'Duck': 5841, 'repentant': 5842, 'displeasure': 5843, 'waters': 5844, 'fie,': 5845, 'godded': 5846, \"o'erlook\": 5847, 'progeny,': 5848, 'mild': 5849, 'least': 5850, 'honour': 5851, 'urged': 5852, 'Makes': 5853, 'Saw': 5854, 'minnows?': 5855, 'exempt': 5856, 'warriors:': 5857, 'authorities.': 5858, 'coffin': 5859, \"befall'n\": 5860, 'heaps': 5861, 'hale': 5862, 'desert.': 5863, 'cloth': 5864, 'thyself.': 5865, 'say?': 5866, 'bore.': 5867, 'dream?': 5868, 'rest!': 5869, 'Throng': 5870, 'haste.': 5871, 'bath': 5872, 'discretion,': 5873, 'hand,': 5874, 'breach,': 5875, 'conduits': 5876, 'twice': 5877, \"counsell'd:\": 5878, 'People:': 5879, 'Worthy': 5880, 'mayst': 5881, 'charity,': 5882, 'heat': 5883, 'sent': 5884, 'confess,': 5885, 'hangmen.': 5886, 'Gloucester!': 5887, 'toad.': 5888, 'gossips': 5889, 'Capitol.': 5890, 'detects': 5891, 'Eleven': 5892, \"body's\": 5893, 'probable': 5894, 'country': 5895, \"pass'd,\": 5896, 'Hydra': 5897, 'is:': 5898, 'sovereignty': 5899, 'off,': 5900, 'obey,': 5901, 'fellest': 5902, \"control't.\": 5903, 'longer': 5904, 'cited': 5905, 'people': 5906, 'forgot.': 5907, 'Plantagenets,': 5908, 'mother:': 5909, 'Do': 5910, 'art!': 5911, 'trumpets': 5912, 'thence.': 5913, 'request,': 5914, 'Valeria!': 5915, \"o'erwhelm\": 5916, 'stock': 5917, 'folly.': 5918, 'eyes.': 5919, 'Hark,': 5920, 'prophecy,': 5921, 'sounds,': 5922, 'were--would': 5923, 'patient.': 5924, 'see,': 5925, 'sing;': 5926, 'hatred,': 5927, 'dealings': 5928, 'drums:': 5929, 'battery.': 5930, 'ear': 5931, 'BRUTUS:': 5932, 'desert': 5933, 'jocund,': 5934, 'impediment.': 5935, 'to-morrow': 5936, 'injury': 5937, 'villany': 5938, \"whet'st\": 5939, 'abed!': 5940, 'ladyship.': 5941, 'Teach': 5942, 'saddle.': 5943, 'interest': 5944, 'plain?': 5945, 'pawn': 5946, 'a-day,': 5947, 'holes': 5948, 'couldst': 5949, 'affairs;': 5950, 'Look': 5951, 'brethren': 5952, 'Would': 5953, 'March': 5954, 'Sabbath,': 5955, 'blame': 5956, 'gratify': 5957, 'himself?': 5958, 'excuse.': 5959, 'her;': 5960, 'liberal': 5961, 'crown': 5962, 'aims,': 5963, 'donation.': 5964, 'cries,': 5965, 'awhile,': 5966, 'HASTINGS:': 5967, 'discharged:': 5968, 'Turn': 5969, 'throats': 5970, 'deny': 5971, 'purpose;': 5972, 'hatred': 5973, 'soldiers': 5974, 'care': 5975, 'separated': 5976, 'wave': 5977, 'lord?': 5978, 'gate.': 5979, \"abhorr'd\": 5980, 'Vouchsafe,': 5981, 'was,': 5982, 'keys,': 5983, \"'Though\": 5984, \"new-deliver'd\": 5985, 'up.': 5986, 'rust': 5987, 'dear;': 5988, 'friend,': 5989, 'free.': 5990, 'perfect': 5991, 'fore-advised,': 5992, 'Their': 5993, 'Corioli': 5994, 'subsisting': 5995, 'Heart-hardening': 5996, 'store-house': 5997, 'daily': 5998, 'milder?': 5999, 'journey.': 6000, 'post-horse': 6001, 'march;': 6002, 'unvalued': 6003, 'debase': 6004, 'James': 6005, 'run,': 6006, 'goes': 6007, 'heard': 6008, 'govern': 6009, 'selfsame': 6010, 'repent': 6011, 'married;': 6012, 'fashions': 6013, 'feast,': 6014, 'fierce': 6015, 'Made': 6016, \"he,'tis\": 6017, 'unto': 6018, 'captives': 6019, 'earth,': 6020, 'accessary.': 6021, 'art.': 6022, 'mantled': 6023, 'swiftness,': 6024, \"therefore.'\": 6025, 'triumph.': 6026, 'it.': 6027, 'alone': 6028, 'destroy.': 6029, 'bustle': 6030, 'nobles,': 6031, 'cities': 6032, 'due': 6033, 'pierce': 6034, 'put': 6035, 'thereby': 6036, 'stag': 6037, 'know;': 6038, 'bits.': 6039, 'happier': 6040, 'holy': 6041, 'ears!': 6042, 'highest!': 6043, \"soldier's\": 6044, 'conducted': 6045, 'beyond': 6046, 'pile': 6047, 'wild': 6048, 'kingdom': 6049, 'Embarquements': 6050, 'yourselves?': 6051, 'dangers': 6052, 'joy': 6053, 'mourner': 6054, 'blaze': 6055, 'obedience,': 6056, 'visiting': 6057, 'hark,': 6058, \"abhorr'd.'\": 6059, 'lute.': 6060, 'Quintus': 6061, 'stocks.': 6062, 'about,': 6063, 'Buckingham': 6064, 'innocent': 6065, 'choler?': 6066, 'Neighbours,': 6067, 'dissentious': 6068, 'swift': 6069, 'could': 6070, 'altitude': 6071, 'scold.': 6072, \"God's\": 6073, 'curs,': 6074, 'him:': 6075, 'perform': 6076, 'curses,': 6077, 'means': 6078, 'Wouldst': 6079, 'guest': 6080, 'proud': 6081, 'force.': 6082, 'wondrous': 6083, 'deaf,': 6084, 'mean': 6085, 'epitome': 6086, 'God-den': 6087, 'wife--if': 6088, 'fare': 6089, 'drachm!': 6090, 'heaven.': 6091, 'law': 6092, 'proud,': 6093, \"know'st,\": 6094, \"marvell'd\": 6095, 'rivers': 6096, 'kneels': 6097, 'Cousin,': 6098, \"pass'd\": 6099, 'hinder': 6100, 'yea,': 6101, 'Tower:': 6102, 'bodily': 6103, 'faults': 6104, 'pleaseth': 6105, 'chiefest': 6106, 'speaks': 6107, 'shoes.': 6108, 'walks,': 6109, 'empiricutic,': 6110, 'renders': 6111, 'falchion': 6112, 'apprehended.': 6113, 'Fool-hardiness;': 6114, 'people;': 6115, 'meaning': 6116, 'tribune.': 6117, 'fetch': 6118, 'did,': 6119, 'preserved,': 6120, 'reversed.': 6121, 'death;': 6122, 'panting.': 6123, 'want': 6124, 'madam,': 6125, 'mingling': 6126, 'BRAKENBURY:': 6127, 'like.': 6128, 'unmusical': 6129, 'market-place.': 6130, 'vile': 6131, 'lord,': 6132, 'daughters': 6133, 'woes': 6134, 'France': 6135, 'deceived,': 6136, 'Sicinius': 6137, 'he,': 6138, 'task': 6139, 'Tell': 6140, 'honours': 6141, 'senate-house?': 6142, 'ARCHBISHOP': 6143, 'boy!': 6144, 'you:': 6145, 'corrupt': 6146, 'lords!': 6147, 'fires': 6148, \"belly's\": 6149, 'Witness': 6150, 'small,': 6151, \"work's,\": 6152, 'gulls': 6153, \"touch'd\": 6154, 'hang': 6155, 'peril': 6156, 'hangs': 6157, 'grave--shall': 6158, 'proud:': 6159, 'palates': 6160, 'sanctifies': 6161, 'witch,': 6162, 'dearly': 6163, 'cowardly,': 6164, 'aught': 6165, 'Nicanor.': 6166, 'abused': 6167, 'welcome': 6168, 'piercing': 6169, 'pray.': 6170, 'deluge': 6171, 'now,': 6172, 'city.': 6173, 'Shore,': 6174, 'shields.': 6175, 'ripe': 6176, 'insolence,': 6177, \"Clarence'\": 6178, 'her,': 6179, 'scourge': 6180, \"on't!\": 6181, 'highest.': 6182, 'lieutenant': 6183, \"unmoan'd;\": 6184, 'so.': 6185, 'cowards!': 6186, 'asunder': 6187, 'store': 6188, 'scorns': 6189, 'nor': 6190, 'few': 6191, 'will': 6192, 'wrangling': 6193, 'Soft!': 6194, 'split': 6195, 'fabric.': 6196, 'choose.': 6197, 'at': 6198, 'sees': 6199, 'since?': 6200, 'shed': 6201, 'shoulders.': 6202, 'colic,': 6203, 'elected': 6204, 'Beyond': 6205, 'cur': 6206, 'thou.': 6207, 'rascals!': 6208, 'feel,': 6209, 'herald': 6210, 'Best': 6211, 'rest,': 6212, 'ignorant': 6213, 'icicle': 6214, 'camp': 6215, 'thus.': 6216, 'end;': 6217, 'hereafter.': 6218, 'buzzards': 6219, 'safety,': 6220, 'worships:': 6221, 'midnight': 6222, 'former': 6223, 'sickness,': 6224, 'Capitol': 6225, 'attendant': 6226, 'adopt': 6227, 'Name': 6228, 'You?': 6229, 'Furies,': 6230, 'sleep': 6231, 'you?': 6232, 'loss': 6233, \"knaves'\": 6234, 'muse': 6235, 'innocent?': 6236, 'human,': 6237, 'resist': 6238, \"soul's\": 6239, 'adders,': 6240, 'nothing.': 6241, \"scarr'd\": 6242, 'hence': 6243, 'actor': 6244, 'Clarence,': 6245, 'remedies': 6246, 'world!': 6247, 'fee,': 6248, 'fatal': 6249, 'deceit.': 6250, 'glory': 6251, 'beg,': 6252, 'nearest,': 6253, 'his?': 6254, 'savage,': 6255, 'beaten': 6256, 'practise': 6257, 'Velutus,': 6258, 'Lovel,': 6259, 'thither;': 6260, 'Honourable': 6261, 'thereof;': 6262, 'ladies;': 6263, 'yours?': 6264, 'bearing': 6265, 'fens,': 6266, 'begun': 6267, 'sign': 6268, 'language;': 6269, 'picture-like': 6270, 'prompt': 6271, 'sap': 6272, 'meat;': 6273, 'hail!': 6274, 'wench': 6275, 'Persuade': 6276, \"wretched'st\": 6277, 'mothers': 6278, 'dine': 6279, 'tragedian;': 6280, 'found,': 6281, 'darts,': 6282, 'shapes': 6283, 'partner': 6284, 'recourse': 6285, 'To': 6286, 'steel': 6287, 'lewd': 6288, 'hold,': 6289, 'grace!': 6290, 'struck,': 6291, 'time!': 6292, 'softer': 6293, 'Especially': 6294, 'comforter': 6295, 'groats,': 6296, 'hostile': 6297, 'up;': 6298, 'rankle': 6299, 'Worse': 6300, 'form': 6301, 'disease;': 6302, 'rakes:': 6303, 'ocean': 6304, 'liberties:': 6305, 'commends': 6306, 'Tyrants': 6307, 'appearance,': 6308, 'change?': 6309, 'risen:': 6310, 'amongst': 6311, 'cousin;': 6312, 'Go,': 6313, 'buildings': 6314, 'steal': 6315, 'vilely': 6316, 'ignoble': 6317, 'sentenced': 6318, 'uncles': 6319, 'prime': 6320, 'were:': 6321, 'patricians': 6322, 'pronounced': 6323, 'Pilate,': 6324, \"pace:--'Look,\": 6325, 'monstrous!': 6326, 'baseness.': 6327, 'budger': 6328, 'limitation;': 6329, 'ruin;': 6330, 'Curse': 6331, 'show': 6332, \"ye're\": 6333, 'garments': 6334, 'adversely,': 6335, 'Brother': 6336, 'away.': 6337, 'come:': 6338, 'afresh!': 6339, 'asking:': 6340, 'mock': 6341, 'G.': 6342, 'Misguide': 6343, 'wretched': 6344, 'OF': 6345, 'inevitable': 6346, 'what;': 6347, 'Clifford': 6348, 'image': 6349, 'win:': 6350, 'wont': 6351, 'fronts': 6352, 'Encourage': 6353, 'earthly,': 6354, 'upon.': 6355, 'lump': 6356, 'assistance,': 6357, 'mere': 6358, 'heads,': 6359, 'eunuch,': 6360, 'asleep!': 6361, 'Pour': 6362, 'object': 6363, 'unlike,': 6364, 'harvest-man': 6365, 'without': 6366, 'garland': 6367, 'this:': 6368, 'beauty': 6369, 'discreet,': 6370, 'are--I': 6371, \"'What,\": 6372, 'violent.': 6373, 'cormorant': 6374, 'Shalt': 6375, 'shops': 6376, 'nuptial': 6377, 'Doth': 6378, 'ourselves': 6379, 'days,': 6380, 'Keep': 6381, \"veil'd\": 6382, 'jot': 6383, 'meddle': 6384, 'pestering': 6385, 'talk?': 6386, 'walls': 6387, 'Bear': 6388, 'messenger': 6389, 'once.': 6390, 'Ladies': 6391, 'spectacled': 6392, 'swoon': 6393, 'out.': 6394, 'gear?': 6395, 'man;': 6396, 'disturbers': 6397, 'cut': 6398, 'opposite': 6399, \"husband's\": 6400, 'Irons': 6401, \"'Citizens!'\": 6402, 'days.': 6403, 'hangmen': 6404, 'dream': 6405, 'through': 6406, 'art': 6407, 'contempt': 6408, 'kindred': 6409, 'lying': 6410, 'by': 6411, 'further,': 6412, 'breathed': 6413, 'on!': 6414, 'fundamental': 6415, 'captain': 6416, 'slaughter': 6417, \"attain'd\": 6418, 'baes': 6419, 'Successively': 6420, \"employ'd.\": 6421, 'suggest': 6422, 'while!': 6423, 'Bestride': 6424, 'conquest': 6425, 'Margaret': 6426, 'hands.': 6427, 'plain': 6428, 'chamber': 6429, \"dream'st!\": 6430, 'comes.': 6431, 'yes;': 6432, 'countenance.': 6433, 'my': 6434, 'sooner': 6435, 'smooth,': 6436, 'seized': 6437, 'matter.': 6438, 'revenge.': 6439, 'Tut,': 6440, 'consorted': 6441, 'obeys': 6442, 'Wave': 6443, 'things': 6444, 'Whereto': 6445, 'jealous;': 6446, \"it.'\": 6447, 'pother': 6448, 'view;': 6449, 'aspect': 6450, 'Pass': 6451, 'chase,': 6452, 'need': 6453, 'shreds': 6454, 'deserving;': 6455, 'tidings;': 6456, 'humbler': 6457, 'shade;': 6458, 'person,': 6459, 'ANOTHER:': 6460, 'themselves,': 6461, 'Mistake': 6462, 'remedy;': 6463, 'Bad': 6464, 'YORK:': 6465, 'capable': 6466, 'Either': 6467, 'foulest': 6468, 'enough:': 6469, 'deep-revolving': 6470, 'dreams;': 6471, 'table': 6472, 'Hoo!': 6473, 'millstones;': 6474, 'charge': 6475, 'faces.': 6476, 'courts': 6477, 'torment': 6478, 'dark': 6479, 'bear,': 6480, 'tribe': 6481, 'thank': 6482, 'does': 6483, 'Advance,': 6484, 'few,': 6485, 'lance.': 6486, 'size': 6487, 'contemn': 6488, 'terrible': 6489, 'applause': 6490, 'off;': 6491, 'Woe,': 6492, 'Rome.': 6493, 'besides,': 6494, 'Second': 6495, 'avoid:': 6496, 'intends': 6497, 'pitch': 6498, 'Without': 6499, 'behind': 6500, 'innocents,': 6501, 'answering': 6502, 'fairly': 6503, 'Intends': 6504, 'Held': 6505, 'Wears': 6506, 'father?': 6507, 'advocate': 6508, 'carbuncle': 6509, 'frank': 6510, 'canopy.': 6511, 'discourse.': 6512, 'worth?': 6513, 'king!': 6514, 'says': 6515, 'rumour': 6516, 'sister!': 6517, 'fallen': 6518, 'enjoys': 6519, 'topping': 6520, 'low': 6521, \"scepter'd\": 6522, 'precepts': 6523, 'all': 6524, 'piece': 6525, 'MARCIUS:': 6526, 'reins,': 6527, \"widow'd\": 6528, 'wholesome': 6529, \"enter'd\": 6530, 'unfeignedly.': 6531, 'breath;': 6532, 'reproof.': 6533, 'Aufidiuses,': 6534, 'COMINIUS:': 6535, 'bounty,': 6536, 'nimbly': 6537, 'solely.': 6538, 'done!': 6539, 'fail': 6540, 'nativity': 6541, 'true': 6542, 'born.': 6543, 'methinks,': 6544, 'hearse,': 6545, 'When': 6546, 'meditating': 6547, 'gosling': 6548, 'quietness': 6549, 'dungeon.': 6550, 'holds': 6551, 'rather': 6552, 'patience,': 6553, 'you,--': 6554, 'service.': 6555, 'slanderous': 6556, 'surname,': 6557, 'STANLEY:': 6558, 'reproach': 6559, 'Condemning': 6560, 'Wherefore?': 6561, 'city;': 6562, 'devil.': 6563, 'minister,': 6564, 'swallowing': 6565, 'gold,': 6566, 'properly,': 6567, 'mutiners,': 6568, 'possess': 6569, 'mammocked': 6570, \"pill'd\": 6571, 'merit.': 6572, 'praise': 6573, 'Show': 6574, \"vex'd,\": 6575, 'detested--': 6576, 'engross': 6577, 'crueller': 6578, \"wed'st,\": 6579, 'KING': 6580, 'temperance;': 6581, 'birth': 6582, 'ears--waving': 6583, \"for't,\": 6584, \"o'ercast.\": 6585, 'unknit': 6586, 'bear.': 6587, \"Ye're\": 6588, 'servant:': 6589, 'walls,': 6590, 'unavoided': 6591, 'presence': 6592, 'Why,': 6593, 'end': 6594, 'this?': 6595, 'ambition,': 6596, 'Ingratitude': 6597, 'Most': 6598, 'circumstances': 6599, \"cedar's\": 6600, 'overmuch': 6601, 'sea:': 6602, 'Refuse': 6603, 'kindly:': 6604, 'lulls': 6605, 'feebly.': 6606, \"commons,'\": 6607, 'imperfect': 6608, 'despair,': 6609, 'coal': 6610, 'love.': 6611, 'remote,': 6612, \"dishonour'd\": 6613, 'grained': 6614, 'arm': 6615, 'senator': 6616, 'thus?': 6617, 'devilish.': 6618, 'tears:': 6619, \"Romans.'\": 6620, 'Agrippa;': 6621, 'hares;': 6622, 'Stony-Stratford': 6623, 'saint,': 6624, \"Rome's\": 6625, 'too;': 6626, 'shame': 6627, 'rid': 6628, 'Patience': 6629, 'perfection': 6630, 'obey.': 6631, 'friendship:': 6632, 'solace': 6633, 'countenance,': 6634, 'Lovel.': 6635, 'Calmly,': 6636, 'reduce': 6637, 'Back': 6638, 'letter': 6639, 'speaks!': 6640, 'perfidiously': 6641, 'accusation': 6642, 'knowing': 6643, 'mutual': 6644, 'enemies,': 6645, 'I,': 6646, 'For,': 6647, 'embrace': 6648, 'two;': 6649, 'edges': 6650, 'lawful': 6651, 'scabs?': 6652, 'ere': 6653, 'tongues:': 6654, 'before,': 6655, 'charges': 6656, 'front': 6657, 'dregs': 6658, 'boldness.': 6659, 'little.': 6660, 'officers,': 6661, \"unlook'd\": 6662, 'admitted': 6663, 'it--here': 6664, 'month,': 6665, 'lady?': 6666, 'instalment': 6667, 'defused': 6668, 'make': 6669, 'Volsces,': 6670, 'life.': 6671, 'knowledge.': 6672, 'Aufidius!': 6673, 'holding:': 6674, 'straight,': 6675, 'somebody': 6676, 'tale': 6677, \"'t:\": 6678, 'letters': 6679, 'mayor': 6680, 'disdains': 6681, 'gird': 6682, 'Place.': 6683, 'Another': 6684, 'lions,': 6685, 'remembers': 6686, 'heartily!': 6687, 'hole,': 6688, 'insurrections;': 6689, 'along': 6690, 'stroke': 6691, \"city's\": 6692, 'mummers;': 6693, 'soundly?': 6694, 'blest': 6695, \"Steep'd\": 6696, 'time;': 6697, 'preservative,': 6698, \"fill'd,\": 6699, 'together:': 6700, \"litter'd--not\": 6701, 'musty': 6702, 'Unknown': 6703, 'conclude': 6704, 'ope': 6705, 'crutch': 6706, 'charge:': 6707, 'cedars': 6708, 'false-faced': 6709, 'Half': 6710, 'not,': 6711, 'me;': 6712, 'ends,': 6713, 'to-day;': 6714, 'person,--': 6715, \"talk'd\": 6716, 'Who,': 6717, 'lies': 6718, 'children:': 6719, 'Condition!': 6720, 'it?--Coriolanus': 6721, 'unwholesome,': 6722, 'Scrivener:': 6723, 'power,': 6724, 'Attach': 6725, 'man': 6726, 'complain,': 6727, 'select': 6728, \"duke's\": 6729, 'never': 6730, 'methoughts,': 6731, 'lightly,': 6732, 'dead!': 6733, 'glass.': 6734, \"Tarquin's\": 6735, 'expected:': 6736, 'peremptory': 6737, 'lame': 6738, 'faults,': 6739, 'Hadst': 6740, 'niece': 6741, 'native': 6742, 'eternal': 6743, 'might,': 6744, 'amendment,': 6745, 'naked,': 6746, 'recompense,': 6747, 'worn': 6748, 'bereft': 6749, 'consulships?': 6750, 'example': 6751, 'people.': 6752, 'helps': 6753, 'unapt': 6754, 'sanctuary,': 6755, 'consul': 6756, 'falsely': 6757, 'slanders': 6758, 'wolf': 6759, 'stay,': 6760, 'sweat': 6761, 'reprehend': 6762, 'soul,': 6763, \"'My\": 6764, 'man:': 6765, 'Weapons,': 6766, 'My': 6767, 'Dissemble': 6768, 'voice.': 6769, 'cicatrices': 6770, 'sack': 6771, 'rascals': 6772, 'Lesser': 6773, 'Sinfully': 6774, 'keeper,': 6775, 'person': 6776, \"answer'd,\": 6777, 'peers,': 6778, 'Mars,': 6779, 'graces': 6780, 'sparing': 6781, 'hear': 6782, 'Prithee,': 6783, 'comfortable': 6784, 'butterflies,': 6785, 'avoid': 6786, 'steal,': 6787, 'taunts.': 6788, \"'t;\": 6789, 'himself.': 6790, 'factor': 6791, 'ay,': 6792, 'only,': 6793, 'entreaties': 6794, 'hundred': 6795, 'to-day': 6796, 'addition': 6797, 'worse,': 6798, 'dignity;': 6799, 'neighbour': 6800, 'token': 6801, 'soldier,': 6802, 'deeds.': 6803, 'Ely!': 6804, 'south,': 6805, 'austerity': 6806, 'rule': 6807, 'Scratches': 6808, 'direction.': 6809, 'easy': 6810, 'blots': 6811, 'slack': 6812, 'tongue,': 6813, 'slippery': 6814, 'flout,': 6815, 'eyes,': 6816, 'clubs?': 6817, 'cradle': 6818, 'strongly': 6819, 'Lord,': 6820, 'la,': 6821, 'thoughts,': 6822, 'Greece.': 6823, \"'twere\": 6824, 'shortly': 6825, \"o'er,\": 6826, 'owns': 6827, 'nay,': 6828, 'lightning': 6829, 'gift!': 6830, 'Too': 6831, 'hide,': 6832, 'freedom.': 6833, \"frown'd\": 6834, 'unrespective': 6835, 'rely': 6836, 'boasting.': 6837, 'Cursed': 6838, 'didst': 6839, 'commission;': 6840, 'burrows,': 6841, 'moan': 6842, 'Dispatch;': 6843, 'wet': 6844, 'hands,': 6845, 'coming.': 6846, 'award': 6847, 'Pray': 6848, 'winged': 6849, 'offence?': 6850, 'gusts': 6851, 'bled,': 6852, 'this;': 6853, 'Help': 6854, 'assault': 6855, 'stoutness': 6856, \"speak't\": 6857, 'before': 6858, 'list': 6859, 'mingle': 6860, 'sister,': 6861, 'match': 6862, 'Romans.': 6863, 'lascivious': 6864, 'burthen,': 6865, 'who': 6866, 'sulphur': 6867, 'doings;': 6868, 'husband,': 6869, 'be!': 6870, 'suit.': 6871, 'Heavens': 6872, 'lost.': 6873, 'disclosed;': 6874, 'even': 6875, 'trifles;': 6876, 'Enforced': 6877, 'angry,': 6878, 'she': 6879, 'truly': 6880, 'False': 6881, 'desires;': 6882, 'sovereign;': 6883, 'ballad-makers.': 6884, 'ELY:': 6885, 'officer,': 6886, 'more;': 6887, 'clothe': 6888, 'hour,': 6889, \"counter-seal'd.\": 6890, 'revenges,': 6891, 'folded': 6892, 'traitorous': 6893, 'myself': 6894, \"womb's\": 6895, 'king,': 6896, 'land?': 6897, 'fruit': 6898, 'tiger': 6899, 'scratch': 6900, 'course': 6901, 'cloven': 6902, 'Plaster': 6903, 'mad.': 6904, 'both': 6905, 'Mars!': 6906, 'Wish': 6907, 'beams': 6908, 'dictator,': 6909, 'blemished': 6910, \"is't?\": 6911, 'budge': 6912, 'proceeds': 6913, 'recommend': 6914, 'require': 6915, 'mutiny': 6916, 'scorn': 6917, 'rooted': 6918, 'news': 6919, 'near,': 6920, 'forward': 6921, \"love's\": 6922, 'pleasure.': 6923, 'held': 6924, 'sight!': 6925, 'themselves': 6926, 'York;': 6927, \"enroll'd\": 6928, 'nobles': 6929, 'All:': 6930, 'liege:': 6931, 'fully': 6932, \"'Tear\": 6933, 'aediles,': 6934, 'serve': 6935, 'bowl': 6936, 'believe': 6937, 'belly': 6938, 'presently': 6939, 'hearts,': 6940, 'seem,': 6941, 'sake': 6942, 'shows': 6943, 'powers,': 6944, 'roof': 6945, 'politic': 6946, 'cold': 6947, 'priest': 6948, 'already.': 6949, 'guider,': 6950, 'Seize': 6951, 'drop': 6952, 'away!': 6953, 'often,': 6954, \"stamp'd,\": 6955, \"Margaret's\": 6956, 'visitation': 6957, 'name,': 6958, 'to-night': 6959, 'right:': 6960, 'Hastings;': 6961, 'thrown': 6962, 'weaker': 6963, 'secret': 6964, 'paper:': 6965, 'of--Boils': 6966, 'Conspirators:': 6967, 'Neglect': 6968, 'humour': 6969, 'fight.': 6970, 'encounter': 6971, 'protector': 6972, 'regard': 6973, 'cries!': 6974, 'thunder': 6975, 'answer': 6976, 'send': 6977, 'duke': 6978, 'voice,--for': 6979, 'duke,': 6980, 'stamp,': 6981, 'hereafter:': 6982, 'heavenly': 6983, 'sir:': 6984, 'arms.': 6985, 'bears,': 6986, 'execution:': 6987, 'vail': 6988, 'braggart,': 6989, 'parlous': 6990, \"devour'd\": 6991, 'CORIOLANUS!': 6992, 'Fie,': 6993, 'corn,': 6994, 'mildly.': 6995, 'Menenius;': 6996, 'Caesar': 6997, 'appetite,': 6998, 'Prince': 6999, 'nearer': 7000, 'poor.': 7001, 'salve': 7002, 'crush': 7003, 'issue.': 7004, 'confined': 7005, 'mouth,': 7006, 'die?': 7007, 'them--': 7008, 'wedded': 7009, 'times': 7010, 'widens': 7011, 'follow': 7012, 'verdict': 7013, 'grace': 7014, 'thereof.': 7015, 'midst,': 7016, 'on,': 7017, 'instigation,': 7018, 'dies': 7019, 'knaves.': 7020, 'cheerfully': 7021, 'Hastings.': 7022, 'descended,': 7023, 'frame': 7024, 'curses!': 7025, \"answer'd:\": 7026, 'know--that': 7027, 'citizens:': 7028, 'wear,': 7029, 'repulse': 7030, 'welcome.': 7031, \"Dian's\": 7032, 'Proceed,': 7033, 'awe,': 7034, 'king:': 7035, \"new-christen'd\": 7036, 'aim': 7037, 'looking-glass;': 7038, 'murder,': 7039, 'extremity.': 7040, 'hog!': 7041, 'rogues,': 7042, 'G,': 7043, 'loving': 7044, 'further:': 7045, 'whose': 7046, 'formal': 7047, 'hungry': 7048, 'table.': 7049, 'RATCLIFF:': 7050, 'Definitively': 7051, 'depart': 7052, 'roaring': 7053, 'sort:': 7054, 'safer': 7055, 'strengths': 7056, 'right': 7057, 'excuse,': 7058, 'Hence,': 7059, 'it:': 7060, \"stretch'd\": 7061, 'earth.': 7062, 'coining.': 7063, 'threat': 7064, 'lust;': 7065, 'us.': 7066, 'Catesby--': 7067, 'stand': 7068, 'half-pint': 7069, 'build': 7070, 'powers.': 7071, 'beastly': 7072, 'common,': 7073, 'trudge': 7074, 'foxes,': 7075, 'troublesome.': 7076, 'Mars?': 7077, 'record,': 7078, 'be.': 7079, 'voice': 7080, 'still': 7081, 'sorrow,': 7082, 'draw': 7083, 'tumble': 7084, 'sensible': 7085, 'shouting': 7086, 'livest,': 7087, 'preposterous': 7088, 'smilingly': 7089, 'could.': 7090, 'busy': 7091, 'CORIOLANUS:': 7092, 'Tower.': 7093, 'Who': 7094, 'To-morrow;': 7095, 'heinous': 7096, 'Measureless': 7097, 'company,': 7098, 'resolved': 7099, 'passes': 7100, 'all;': 7101, 'vow': 7102, \"Confusion's\": 7103, 'unnatural:': 7104, 'appetite': 7105, 'given,': 7106, 'ignorance.': 7107, 'Menenius,': 7108, 'Consul!': 7109, 'blown': 7110, 'profane,': 7111, 'moon:': 7112, 'seal': 7113, 'Frozen': 7114, 'utter,': 7115, 'conceal': 7116, 'standest': 7117, 'able': 7118, 'soothed': 7119, 'bore': 7120, 'haply': 7121, 'foxship': 7122, 'brother:': 7123, 'A': 7124, 'quoth': 7125, 'but,': 7126, 'vassal!': 7127, 'brought': 7128, 'wars!': 7129, 'Publicola,': 7130, 'shut': 7131, 'are,': 7132, 'believe,': 7133, 'entire,': 7134, 'Follow': 7135, 'marry,': 7136, 'chaste': 7137, 'you--': 7138, 'resolved.': 7139, 'entreaties,': 7140, 'Well': 7141, 'Twelve': 7142, \"Gloucester's\": 7143, 'dames': 7144, 'book': 7145, 'proceedings': 7146, 'ravisher,': 7147, 'censure.': 7148, \"sovereign's\": 7149, 'Hereford,': 7150, \"counsel's\": 7151, 'Rivers,': 7152, 'protector.': 7153, 'contains': 7154, 'peep': 7155, 'common': 7156, 'reasons,': 7157, 'knowledge': 7158, \"shelter'd\": 7159, 'silence:': 7160, 'knave': 7161, 'space,': 7162, 'perish!': 7163, 'whit': 7164, 'ears?': 7165, 'functions': 7166, 'these': 7167, 'Rumour': 7168, 'evil:': 7169, 'fee': 7170, 'greatness': 7171, 'subjects,': 7172, 'sun': 7173, 'Inquire': 7174, 'porter': 7175, 'worth': 7176, 'suitors': 7177, 'falling,': 7178, 'remains,': 7179, 'vessel:': 7180, 'know?': 7181, 'theme': 7182, 'subtle': 7183, 'utmost': 7184, 'friends:': 7185, 'reeking': 7186, 'darkly': 7187, 'Aufidius?': 7188, 'constant.': 7189, 'arms,': 7190, 'Proceed': 7191, 'Read': 7192, 'resisted': 7193, 'tartness': 7194, 'Volsce,': 7195, 'eyes:--his': 7196, 'dote': 7197, 'sworn,': 7198, 'speech.': 7199, 'hid,': 7200, \"horses'\": 7201, 'ass': 7202, 'else?': 7203, 'discourse': 7204, 'sell': 7205, 'thing!': 7206, 'shapes,': 7207, 'pack': 7208, 'countryman.': 7209, 'again;': 7210, 'exile;': 7211, 'next': 7212, 'harmless': 7213, 'owest': 7214, 'well:': 7215, 'childishness': 7216, 'given': 7217, 'Ready,': 7218, 'sheep--will': 7219, 'dugs': 7220, 'fairness': 7221, 'command.': 7222, 'child,': 7223, 'noise.': 7224, 'excepting': 7225, 'words?': 7226, 'Dispropertied': 7227, 'bury': 7228, 'grave,': 7229, \"Rebell'd\": 7230, 'assembly?': 7231, \"i'\": 7232, 'hardness:': 7233, 'reprieve': 7234, 'old': 7235, 'gentry,': 7236, \"'ifs'?\": 7237, 'false,': 7238, 'handkerchers,': 7239, 'knave:': 7240, 'lick': 7241, 'mile!': 7242, 'count': 7243, 'belonging;': 7244, 'convict': 7245, \"know'st\": 7246, \"king!'\": 7247, 'enigma?': 7248, \"general;'\": 7249, \"fellow's\": 7250, 'ruled,': 7251, 'there': 7252, 'trusts': 7253, 'Her': 7254, 'torn.': 7255, 'knife': 7256, \"'head\": 7257, 'learn': 7258, 'thunder-like': 7259, 'winter': 7260, 'Refused': 7261, 'saying,': 7262, 'doth,': 7263, 'triumphantly': 7264, 'streets,': 7265, \"grace's\": 7266, 'linger': 7267, 'Is': 7268, \"pray'd\": 7269, 'infirmity.': 7270, 'kissing,': 7271, 'wagging': 7272, 'That,': 7273, 'party,': 7274, 'long': 7275, 'art,': 7276, 'tide,': 7277, 'herself,': 7278, 'tractable': 7279, 'soldier.': 7280, 'beauty:': 7281, \"mask'd;\": 7282, 'wreaths;': 7283, \"king's\": 7284, 'nobly,': 7285, 'suffer:': 7286, 'foolish,': 7287, \"drums.'\": 7288, 'prophesied': 7289, 'make,': 7290, 'flaw,': 7291, \"bedash'd\": 7292, 'weal:': 7293, 'fruit.': 7294, 'centurions': 7295, 'desperate': 7296, \"Deck'd\": 7297, 'worldly': 7298, 'Deserved': 7299, 'far.': 7300, 'majesty.': 7301, 'dreams.': 7302, 'Could': 7303, 'Mistress': 7304, 'multitude:': 7305, 'speaking,': 7306, 'caution': 7307, 'article': 7308, 'scathe': 7309, 'perish': 7310, 'go:': 7311, 'those;': 7312, 'spare': 7313, 'eloquence,': 7314, 'grains:': 7315, 'showing,': 7316, 'survivor': 7317, \"plough'd\": 7318, 'multitude,': 7319, 'Black': 7320, 'leaving': 7321, 'himself,': 7322, 'Officious,': 7323, 'violence!': 7324, 'us?': 7325, 'ice,': 7326, 'fear,': 7327, \"senate's\": 7328, 'sum': 7329, 'story': 7330, \"young'st\": 7331, 'senseless': 7332, 'staves': 7333, 'army,': 7334, 'devil,': 7335, 'pause': 7336, 'hither:': 7337, \"'Small\": 7338, 'drives': 7339, 'gibingly,': 7340, 'lag': 7341, 'directly': 7342, 'Uncharitably': 7343, 'business.': 7344, 'said,': 7345, 'widow-dolour': 7346, 'loyal,': 7347, 'wounded.': 7348, 'greater:': 7349, 'nations;': 7350, 'into': 7351, 'act.': 7352, \"see't.\": 7353, 'plague': 7354, 'reason': 7355, \"say't\": 7356, 'order': 7357, 'length': 7358, \"drew'st\": 7359, 'mercy:': 7360, 'bars': 7361, 'brows:': 7362, 'Tullus,--': 7363, 'dash': 7364, 'thou': 7365, 'slaves': 7366, 'threatening': 7367, 'Arise,': 7368, 'preserve': 7369, 'temple': 7370, \"A'\": 7371, 'driven,': 7372, 'go.': 7373, 'trust;': 7374, 'senators:': 7375, 'Catesby!': 7376, 'conference': 7377, 'daughter.': 7378, 'trophy:': 7379, 'Three,': 7380, 'forward?': 7381, 'loins;': 7382, 'late,': 7383, 'people,--': 7384, 'farewell.': 7385, 'then!': 7386, \"fools'\": 7387, 'own,': 7388, \"Thou'ldst\": 7389, 'kill': 7390, 'fortnight': 7391, 'participate,': 7392, 'briers,': 7393, 'termed': 7394, 'pronounce': 7395, \"toss'd,\": 7396, 'MENENIUS:': 7397, 'anchors,': 7398, 'molehill': 7399, 'heard,': 7400, \"coy'd\": 7401, 'defend': 7402, 'wow.': 7403, 'So': 7404, 'speak!': 7405, 'sorrow.': 7406, 'father-in-law,': 7407, 'isle?': 7408, 'back,': 7409, \"soldier.'\": 7410, 'monuments;': 7411, 'war': 7412, 'flesh': 7413, 'peace;': 7414, 'Endue': 7415, 'ay.': 7416, 'egg,': 7417, 'petition': 7418, 'Sorrow': 7419, 'neighbours:': 7420, \"scorn'd\": 7421, 'chances': 7422, 'by.': 7423, 'alone,': 7424, 'place;': 7425, 'brawn,': 7426, 'garlic-eaters!': 7427, 'other:': 7428, 'lord--': 7429, 'perjured': 7430, \"crown'd\": 7431, \"burn'd\": 7432, 'cursing': 7433, 'built': 7434, \"'aged\": 7435, 'Thinking': 7436, 'Lives': 7437, 'Be-mock': 7438, 'marked': 7439, 'replying,': 7440, 'scandal': 7441, 'law.': 7442, 'unvulnerable,': 7443, 'contented': 7444, 'to-night:': 7445, 'scene': 7446, 'rest;': 7447, 'Corioli?': 7448, 'home:': 7449, 'O': 7450, 'monster': 7451, 'Scotland,': 7452, 'achieved': 7453, \"They'll\": 7454, 'revenge': 7455, 'this,': 7456, 'remembrance': 7457, 'citizens': 7458, 'choose': 7459, 'crammed': 7460, 'stand,': 7461, 'proceed': 7462, \"kick'd\": 7463, \"liest'\": 7464, 'York,': 7465, 'judgment-day.': 7466, 'Those': 7467, 'dearth': 7468, 'Bold': 7469, 'forgive;': 7470, 'myself.': 7471, 'express': 7472, 'Nay!': 7473, 'swear,': 7474, 'lest': 7475, 'amend': 7476, 'light': 7477, 'leash,': 7478, 'many,': 7479, 'differs': 7480, 'So,': 7481, 'cried': 7482, 'market:': 7483, 'glasses': 7484, \"overta'en\": 7485, 'oak.': 7486, 'Be': 7487, 'Gramercy,': 7488, 'swims': 7489, 'chamberlain;': 7490, 'breaking': 7491, 'harts.': 7492, 'Gold': 7493, 'ones!': 7494, 'yarn': 7495, \"thoughts'\": 7496, 'prize': 7497, 'miserable!': 7498, 'Meeting': 7499, 'Put': 7500, 'inquire': 7501, 'skull,': 7502, 'lady,': 7503, 'members,': 7504, 'duke;': 7505, 'first:': 7506, 'thus;': 7507, 'knot': 7508, 'curse!': 7509, 'Able': 7510, 'devise!': 7511, 'day.': 7512, 'hall,': 7513, 'recover': 7514, 'tides': 7515, 'heart-sorrowing': 7516, 'Infer': 7517, 'Stand,': 7518, 'malicious': 7519, 'Methinks': 7520, \"scatter'd,\": 7521, 'capital': 7522, 'behind;': 7523, 'hither?': 7524, 'inclined.': 7525, 'blanks,': 7526, 'same,': 7527, 'vesture': 7528, 'pity:': 7529, 'duty,': 7530, 'great': 7531, \"thou,'\": 7532, 'queen.': 7533, 'dance.': 7534, 'standing': 7535, 'drums': 7536, 'function,': 7537, 'approaches:': 7538, \"register'd,\": 7539, 'bring': 7540, 'Counsel': 7541, 'Nor': 7542, 'council': 7543, 'sovereignty,': 7544, 'hostages': 7545, 'pitying,': 7546, 'hew': 7547, \"queen's\": 7548, 'Off': 7549, 'fog,': 7550, 'his': 7551, 'reconciled': 7552, 'all-hail': 7553, 'men': 7554, 'gather': 7555, 'others,': 7556, 'liest:': 7557, \"'Do\": 7558, 'Marcius?': 7559, 'censure': 7560, 'content!': 7561, 'report,': 7562, 'aunt,': 7563, 'Henry': 7564, 'Bade': 7565, 'shouldst': 7566, 'established': 7567, 'vent': 7568, 'more,': 7569, 'Death': 7570, 'gratis,': 7571, 'despite': 7572, 'yet.': 7573, 'foul': 7574, \"press'd\": 7575, 'sighs;': 7576, 'mercy;': 7577, 'post,': 7578, 'Amen.': 7579, 'mum': 7580, 'Me': 7581, 'shunning': 7582, 'lips.': 7583, 'word;': 7584, 'By': 7585, 'fleeting,': 7586, 'followed.': 7587, 'speak?': 7588, 'Else': 7589, \"servant's\": 7590, 'conveying': 7591, 'grieve': 7592, 'from?': 7593, 'slave': 7594, 'teeth?': 7595, 'ask.': 7596, 'sailor': 7597, 'deceit': 7598, 'Coriolanus': 7599, 'aloud,': 7600, 'control,': 7601, 'acceptance': 7602, 'calamity,': 7603, 'balms': 7604, 'bestow': 7605, 'Friend,': 7606, 'estates,--': 7607, 'interruption': 7608, 'enemy;': 7609, 'youth': 7610, 'alack,': 7611, 'What': 7612, 'York!': 7613, 'lips,': 7614, 'else': 7615, \"Marcus.'\": 7616, 'ring': 7617, 'finds': 7618, 'Guildhall': 7619, 'slave?': 7620, 'willingness.': 7621, 'kiss': 7622, \"'twas\": 7623, 'alteration!': 7624, 'withal.': 7625, 'expiate.': 7626, 'coronation.': 7627, 'Which,': 7628, 'father': 7629, 'air': 7630, 'Unbuckling': 7631, 'fill': 7632, 'Oh,': 7633, 'Or': 7634, 'defective': 7635, 'repetition.': 7636, 'eat.': 7637, 'calm': 7638, 'deserves': 7639, 'Though': 7640, 'through;': 7641, \"Scandal'd\": 7642, 'swear': 7643, 'kinsman.': 7644, 'before.': 7645, 'feast': 7646, 'villain': 7647, 'revolt;': 7648, 'taught': 7649, 'whence': 7650, 'gifts,': 7651, 'bonneted,': 7652, 'choler': 7653, 'prefer': 7654, 'daily,': 7655, 'army.': 7656, 'gulf': 7657, 'complaining': 7658, 'Hie': 7659, 'benefits': 7660, 'quarry': 7661, 'hell!': 7662, 'company.': 7663, 'indictment': 7664, 'Permitted': 7665, \"lesson'd,\": 7666, 'alive?': 7667, 'hardly': 7668, 'beggar,': 7669, 'fast': 7670, 'Sir,': 7671, 'Coriolanus;': 7672, 'contemning.': 7673, 'whether': 7674, 'Tewksbury;': 7675, 'sudden,': 7676, 'comes': 7677, 'graceful': 7678, 'me!': 7679, 'suits': 7680, 'ungracious,': 7681, 'four': 7682, 'corse.': 7683, 'Pursue': 7684, 'rigorous': 7685, 'days!': 7686, 'counsel:': 7687, 'slain.': 7688, 'Hold,': 7689, 'thinks,': 7690, 'boy.': 7691, 'offices?': 7692, 'Peace!': 7693, 'friend': 7694, 'rage.': 7695, 'morning,': 7696, 'grapes:': 7697, 'Untimely': 7698, 'kisses:': 7699, 'blow': 7700, 'pratest;': 7701, 'miles': 7702, 'Had': 7703, 'Shaw;': 7704, 'nought,': 7705, 'superfluity,': 7706, 'blows,': 7707, 'corner-stone?': 7708, 'Peace,': 7709, 'Self-loving,--': 7710, 'vizard': 7711, 'wounded?': 7712, 'fain': 7713, 'garners.': 7714, 'bad?': 7715, 'down,': 7716, 'complain': 7717, 'today?': 7718, 'have': 7719, 'devotion': 7720, 'west,': 7721, 'extremity': 7722, 'prince,': 7723, 'gangrened,': 7724, 'full;': 7725, \"on't;\": 7726, \"'Stay,\": 7727, 'smile.': 7728, 'reprehended': 7729, \"honour's\": 7730, 'block,': 7731, 'dispatch:': 7732, 'male': 7733, \"prince!'\": 7734, 'block;': 7735, 'fault': 7736, 'curst.': 7737, 'provided': 7738, 'heir': 7739, 'invincible': 7740, 'deed!': 7741, 'decrees:': 7742, \"thank'd,\": 7743, 'Dispatch,': 7744, 'joy,': 7745, 'Taken': 7746, 'page!': 7747, 'wherefore': 7748, 'stronger': 7749, 'sister': 7750, 'Much': 7751, 'tottering': 7752, 'exhales': 7753, 'ever,': 7754, 'before:': 7755, 'eye,': 7756, 'pass.': 7757, 'combine': 7758, 'Never,': 7759, 'doom': 7760, 'near': 7761, 'they:': 7762, 'gross,': 7763, 'muniments': 7764, 'bond': 7765, 'firm': 7766, 'Betwixt': 7767, 'Last': 7768, 'peace!': 7769, 'become': 7770, 'catalogue': 7771, 'armies?': 7772, 'mistress.': 7773, 'deceivest': 7774, 'edict': 7775, 'Hear': 7776, 'look,': 7777, 'prison,': 7778, 'drunken': 7779, 'day!': 7780, \"'Fine;'\": 7781, 'Messenger:': 7782, \"children's\": 7783, 'sold': 7784, \"Volscians'\": 7785, 'direful': 7786, 'doubt,': 7787, 'ignorance,--it': 7788, 'tear;': 7789, 'tooth.': 7790, 'Marcius': 7791, 'away,': 7792, 'hazard': 7793, 'doubt.': 7794, 'thanks;': 7795, 'mine:': 7796, 'helpless': 7797, 'fires;': 7798, 'maliciously.': 7799, 'thirst': 7800, 'you.--': 7801, 'bright': 7802, 'perhaps': 7803, 'sake,': 7804, 'commend': 7805, 'Away!': 7806, 'Bears': 7807, 'counterpoise': 7808, \"ask'd\": 7809, 'apes': 7810, 'sir?': 7811, 'tauntingly': 7812, 'dead': 7813, 'noise': 7814, 'east,': 7815, 'hasty': 7816, 'treacherous': 7817, 'swords.': 7818, 'Heir': 7819, 'guided': 7820, 'action.': 7821, 'poison,': 7822, 'Jove,': 7823, 'contempt;': 7824, 'shuns': 7825, 'wicked': 7826, 'signify': 7827, 'Murdering': 7828, 'begin': 7829, \"perform'd.\": 7830, \"gnaw'd\": 7831, 'was;': 7832, 'brutish': 7833, \"Where's\": 7834, 'top.': 7835, 'refusal,': 7836, 'flattered': 7837, 'Unshout': 7838, 'complexions,': 7839, 'throne.': 7840, 'hellish': 7841, 'writes,': 7842, 'opposers:': 7843, 'eye;': 7844, \"think'st\": 7845, 'Again': 7846, 'grandam?': 7847, 'house,': 7848, 'forsworn?': 7849, 'cap,': 7850, 'abundance?': 7851, 'dinner.': 7852, 'hair': 7853, 'tears,': 7854, 'traitor,': 7855, 'welcomes': 7856, 'harm,': 7857, \"country's\": 7858, 'knees': 7859, \"Sigh'd\": 7860, 'soul': 7861, 'wept,': 7862, 'dispositions': 7863, 'bussing': 7864, 'violence:': 7865, 'effect': 7866, 'where': 7867, 'distinguish': 7868, 'respected': 7869, \"curtail'd\": 7870, 'words.': 7871, 'second': 7872, 'brats,': 7873, 'peace': 7874, 'Kindly!': 7875, 'grandam': 7876, 'Seal': 7877, 'table;': 7878, 'bare': 7879, 'therefore': 7880, 'well-learned': 7881, 'gentle:': 7882, 'porch': 7883, 'women': 7884, 'reasons.': 7885, 'soever,': 7886, 'queen': 7887, 'brothers': 7888, 'ask,': 7889, 'mutually': 7890, 'impose': 7891, 'ears,': 7892, 'Welcome,': 7893, 'ruled:': 7894, 'neighbours.': 7895, 'sanctuary.': 7896, 'evil': 7897, 'reflecting': 7898, 'tribune:': 7899, 'Gentlewoman:': 7900, \"butcher'd.\": 7901, 'Corioli:': 7902, 'below': 7903, 'unfashionable': 7904, 'aiding': 7905, \"lurch'd\": 7906, 'recomforted': 7907, 'presently?': 7908, 'Lest': 7909, 'withal!': 7910, 'spurn': 7911, 'creeping': 7912, \"'Twere\": 7913, 'fit': 7914, 'Fairer': 7915, 'counterfeitly;': 7916, 'sorrow': 7917, 'tonight:': 7918, 'Lay': 7919, 'apt': 7920, 'until': 7921, 'accursed': 7922, \"throw't\": 7923, 'rescue?': 7924, 'coal,': 7925, 'vow--': 7926, \"Kneel'd\": 7927, 'terror?': 7928, 'timeless': 7929, 'difference;': 7930, 'pass,': 7931, 'LADY': 7932, 'distributed.': 7933, 'considered.': 7934, 'all.': 7935, 'fester': 7936, 'was.': 7937, 'said': 7938, 'Six': 7939, 'Thank': 7940, 'slumbers': 7941, 'easy.': 7942, 'drift:': 7943, 'virtuous': 7944, 'unknown': 7945, 'war,': 7946, 'gnaw': 7947, 'conveyances': 7948, 'hollow,': 7949, 'dissension': 7950, 'tent;': 7951, 'Ah!': 7952, 'At': 7953, 'Whence': 7954, 'named': 7955, 'name:': 7956, 'a': 7957, 'slaves,': 7958, 'stumbled;': 7959, 'denied': 7960, 'justices.': 7961, 'time,': 7962, 'Murderer:': 7963, 'noble': 7964, 'desires': 7965, 'dearth.': 7966, 'senate-house.': 7967, 'Rome,--': 7968, 'vanity:': 7969, 'VALERIA:': 7970, 'woollen': 7971, 'am?': 7972, 'east': 7973, 'made,': 7974, 'rage': 7975, 'mistrust;': 7976, 'incorporate': 7977, 'both,': 7978, 'tomb': 7979, \"'tis\": 7980, 'place': 7981, 'change': 7982, 'done:': 7983, 'some': 7984, 'faces,': 7985, 'sake!': 7986, 'past.': 7987, 'Tullus': 7988, 'fliers;': 7989, 'peers!': 7990, 'geese:': 7991, 'aweless': 7992, 'These': 7993, 'unborn,': 7994, 'common?': 7995, 'accompanied?': 7996, \"O'er\": 7997, 'breasts.': 7998, 'honesty': 7999, 'uncle?': 8000, 'humanely;': 8001, \"warn'd\": 8002, 'brother,': 8003, 'reprove': 8004, 'trick': 8005, 'empery,': 8006, 'particularly': 8007, 'London,': 8008, 'threefold': 8009, 'brow!': 8010, 'consul,': 8011, 'years,': 8012, 'Dick,': 8013, 'promise': 8014, 'Note': 8015, 'beheld': 8016, 'watch': 8017, 'Below': 8018, 'Hold': 8019, 'health;': 8020, 'howled': 8021, 'seats': 8022, 'holp': 8023, 'unwillingness': 8024, 'more:': 8025, \"back,--that's\": 8026, 'tears': 8027, 'thief': 8028, 'thereupon': 8029, '&C:': 8030, 'another.': 8031, 'misdeeds,': 8032, 'reward,': 8033, 'suddenly;': 8034, 'horsed': 8035, 'grave.': 8036, 'youth.': 8037, 'wailing': 8038, 'envying': 8039, 'hide': 8040, 'vent;': 8041, \"true,'\": 8042, 'thought': 8043, \"witchcraft's\": 8044, 'of,': 8045, 'miserable': 8046, 'stripling': 8047, 'Whereof': 8048, 'government,': 8049, 'request:': 8050, 'well-spoken,': 8051, 'having': 8052, 'How!': 8053, 'most,': 8054, \"'Tribunes!'\": 8055, 'camest': 8056, 'toe.': 8057, 'incensed': 8058, 'head?': 8059, 'duteous': 8060, 'waiting-vassals': 8061, 'undo': 8062, \"'shall,'\": 8063, 'people,': 8064, 'writ': 8065, 'canopy!': 8066, 'contemplation.': 8067, 'mow': 8068, \"stol'n\": 8069, 'let': 8070, 'nobleness.': 8071, 'begins': 8072, 'murderer:': 8073, 'begging.': 8074, 'complainings;': 8075, 'land': 8076, \"Take't;\": 8077, 'heapt': 8078, 'purged': 8079, 'looks,': 8080, \"'It\": 8081, 'Yourself': 8082, 'itself': 8083, 'partake': 8084, 'condemned': 8085, 'cheeks.': 8086, 'dragon-like,': 8087, 'recure,': 8088, 'sir;': 8089, 'enemies;': 8090, 'Repair': 8091, 'Spoke': 8092, 'Chop': 8093, 'careful': 8094, 'determined': 8095, 'annals': 8096, 'herd': 8097, 'proved': 8098, 'Got': 8099, 'Fatal': 8100, 'then.': 8101, 'ho!': 8102, 'ape,': 8103, 'fearing': 8104, 'yourselves.': 8105, 'full.': 8106, 'memory.': 8107, 'affected': 8108, 'Art': 8109, 'kindly': 8110, 'go': 8111, 'BISHOP': 8112, 'Madam,': 8113, 'wounded,': 8114, 'priests': 8115, 'Catesby,': 8116, 'after': 8117, 'allegiance:': 8118, 'planted': 8119, 'fusty': 8120, 'honour.': 8121, 'Spies': 8122, 'But': 8123, 'child': 8124, 'tribunes!': 8125, 'late': 8126, 'but': 8127, 'warrant.': 8128, 'in': 8129, 'pardon.': 8130, 'laws': 8131, \"banish'd!\": 8132, 'uncertain,': 8133, 'bark': 8134, 'advance': 8135, \"o'er-bear.\": 8136, 'delivers': 8137, 'spleen': 8138, 'Lovel': 8139, 'will;': 8140, 'traitor': 8141, 'gentlewomen.': 8142, \"England's\": 8143, 'unlawful': 8144, 'infect': 8145, 'tribunes:': 8146, 'Let': 8147, 'respects': 8148, 'humble.': 8149, 'worse': 8150, 'Cats,': 8151, 'See': 8152, 'commons': 8153, 'three,': 8154, 'preparation': 8155, 'disturbing': 8156, 'act': 8157, 'loath': 8158, 'deed': 8159, 'past,': 8160, 'ten': 8161, 'honour,': 8162, 'tire': 8163, 'imitate': 8164, 'Confess': 8165, 'stake': 8166, 'rubbing': 8167, 'brotherhood?': 8168, 'tumbled': 8169, \"dismiss'd\": 8170, 'to--': 8171, 'frowning': 8172, 'purchasing.': 8173, 'palpable': 8174, 'horn': 8175, \"barr'st\": 8176, 'honest;': 8177, 'claim': 8178, 'listed': 8179, 'thorough': 8180, 'himself!': 8181, 'cared': 8182, 'general;': 8183, 'slug': 8184, 'cousins': 8185, 'sport:': 8186, 'report:': 8187, 'tend': 8188, 'sharing': 8189, 'traitors': 8190, 'sewing': 8191, 'bewail': 8192, 'victorious': 8193, 'faultless': 8194, 'endures': 8195, 'Spurn': 8196, 'stayed': 8197, 'chamberlain?': 8198, 'yet': 8199, 'Jupiter!': 8200, 'Mercury': 8201, 'service;': 8202, 'corruption': 8203, 'surcease': 8204, 'prosperity!': 8205, 'supplication': 8206, 'deeper': 8207, 'sackbuts,': 8208, 'war!': 8209, 'mates!': 8210, 'sit': 8211, 'blows': 8212, 'speech:': 8213, 'How,': 8214, 'north,': 8215, 'allies;': 8216, 'tribe,': 8217, 'companion,': 8218, \"do't:\": 8219, 'friends!': 8220, 'worse:': 8221, \"hurl'd\": 8222, 'gaoler': 8223, 'time?': 8224, 'examples': 8225, 'Do,': 8226, \"scatter'd\": 8227, 'destruction': 8228, 'months': 8229, 'cordial,': 8230, 'head.': 8231, 'mutinies': 8232, 'earth': 8233, 'as': 8234, \"'s!\": 8235, \"snatch'd\": 8236, 'What!': 8237, 'cruelty': 8238, 'men,': 8239, 'Commend': 8240, 'yielding,--this': 8241, 'dead-killing': 8242, 'horses,': 8243, 'wars,': 8244, 'one;': 8245, 'toward': 8246, 'ready.': 8247, 'labour': 8248, 'devil': 8249, 'waked,': 8250, 'unwise': 8251, 'assemble,': 8252, 'Bastards': 8253, 'seasons': 8254, 'had': 8255, 'Tyrrel,': 8256, 'leasing:': 8257, 'slain,': 8258, 'discontent': 8259, 'obdurate': 8260, 'charms?': 8261, 'prayers': 8262, 'on:': 8263, 'strawberries.': 8264, 'Buckingham!': 8265, 'seat,': 8266, 'inward': 8267, 'Ladders,': 8268, 'silk,': 8269, 'thunder.': 8270, 'knell,': 8271, 'Ladies,': 8272, 'fort,': 8273, 'saw': 8274, 'sir,--': 8275, 'Amen,': 8276, 'perforce': 8277, 'speak:': 8278, 'syllables': 8279, 'storehouse': 8280, 'barm': 8281, \"'fore\": 8282, 'Shall': 8283, 'pricking': 8284, 'Rivers': 8285, \"mock'd\": 8286, 'repair': 8287, 'Drown': 8288, 'preparation,': 8289, \"'O\": 8290, 'come;': 8291, 'vengeance!': 8292, 'defender': 8293, 'Lucy,': 8294, 'grace.': 8295, 'soldiers;': 8296, 'united': 8297, 'cast': 8298, 'This': 8299, \"botcher's\": 8300, 'Never': 8301, 'inclusive': 8302, 'Stay:': 8303, 'councils,': 8304, 'warrant': 8305, 'front;': 8306, 'promise-breaker.': 8307, 'dined,': 8308, 'dissolved:': 8309, 'than': 8310, \"Let's\": 8311, 'smart': 8312, 'see!': 8313, 'plainest': 8314, 'flatter--': 8315, 'ours,': 8316, 'women,': 8317, 'commit': 8318, 'be,': 8319, 'corse': 8320, 'brown,': 8321, 'Following': 8322, 'Murder': 8323, 'puts': 8324, 'while': 8325, 'woman,--': 8326, 'success,': 8327, 'clouds': 8328, 'off!': 8329, 'lapsing': 8330, 'Divide': 8331, 'wish:': 8332, 'swore,': 8333, 'Boy!': 8334, 'Our': 8335, 'side': 8336, 'Live': 8337, 'it,': 8338, 'unkindness?': 8339, 'after!': 8340, 'begnaw': 8341, 'cloudy': 8342, 'young,': 8343, 'to': 8344, 'Deliver': 8345, 'state.': 8346, 'treaty,': 8347, 'report;': 8348, 'dare': 8349, 'doth': 8350, 'includes': 8351, 'puling': 8352, 'luxury': 8353, 'Far': 8354, 'happy': 8355, 'clamour': 8356, 'Before-time': 8357, 'sea': 8358, 'broken': 8359, 'particular.': 8360, 'in,': 8361, \"will;'tis\": 8362, 'wit': 8363, 'Allow': 8364, 'forth.': 8365, 'Richard,': 8366, 'gentlemen;': 8367, 'further': 8368, 'York?': 8369, 'frown': 8370, 'wholesome,': 8371, 'osprey': 8372, 'encounters': 8373, 'deliver.': 8374, 'life': 8375, 'reverence': 8376, 'jewel.': 8377, 'troth': 8378, 'them!--': 8379, 'Richmond,': 8380, 'why,': 8381, 'folly': 8382, 'dog,': 8383, 'slain': 8384, 'Kept': 8385, 'Set': 8386, 'cowardly.': 8387, 'permit': 8388, \"obey'd.\": 8389, 'Till': 8390, 'redemption': 8391, 'stinking': 8392, \"Paul's\": 8393, 'reward.': 8394, 'fault!': 8395, 'strike?': 8396, \"Unrip'dst\": 8397, 'stoop': 8398, 'again:': 8399, 'companions?': 8400, 'down;': 8401, 'despair!': 8402, 'womanish.': 8403, 'protect': 8404, 'seems': 8405, 'shop': 8406, \"thigh,--there's\": 8407, 'God!': 8408, 'earned': 8409, 'maid': 8410, 'shames': 8411, 'beach': 8412, 'calved': 8413, 'he': 8414, 'physicians': 8415, 'brawl.': 8416, 'lordship': 8417, 'drum.': 8418, 'thing,': 8419, 'Norfolk.': 8420, \"that's\": 8421, 'eleven': 8422, 'catched': 8423, 'farewell:': 8424, 'services.': 8425, 'equal': 8426, 'Suspect': 8427, 'protector?': 8428, 'thyself:': 8429, 'mine': 8430, 'fashion': 8431, 'wot;': 8432, 'ancestor.': 8433, 'hither;': 8434, \"'True\": 8435, 'verity': 8436, 'pow,': 8437, 'Once,': 8438, 'Clambering': 8439, 'petitionary': 8440, \"hush'd\": 8441, 'Carry': 8442, 'wife.': 8443, 'deserve.': 8444, 'silence,': 8445, 'Content,': 8446, 'basest,': 8447, 'famously': 8448, 'strange.': 8449, 'fortune.': 8450, 'humility:': 8451, 'Blush': 8452, \"'Twixt\": 8453, 'morrow;': 8454, \"banish'd,\": 8455, 'feasts': 8456, 'officer.': 8457, 'consume': 8458, 'self:': 8459, 'Stanley': 8460, 'Towards': 8461, 'Tim': 8462, 'hedgehog?': 8463, 'gentle-sleeping': 8464, 'neck.': 8465, 'and,': 8466, 'chamberlain': 8467, 'strumpet--': 8468, 'traducement,': 8469, 'children,': 8470, 'relieved': 8471, 'Senators,': 8472, 'commanded': 8473, 'Abated': 8474, 'Kill,': 8475, 'sacrifice.': 8476, 'thereof:': 8477, 'heirs': 8478, 'sits': 8479, 'certain,': 8480, 'Right,': 8481, 'always': 8482, 'morning': 8483, 'Marcians,': 8484, \"fearful'st\": 8485, 'severity': 8486, 'gash': 8487, 'parent.': 8488, 'Warwick,': 8489, 'lest,': 8490, 'brake': 8491, 'steel,': 8492, 'subjects': 8493, 'Because,': 8494, 'provand': 8495, 'flesh,': 8496, 'Daughter,': 8497, 'God.': 8498, 'station;': 8499, 'a-doing.': 8500, 'bleared': 8501, 'hot,': 8502, 'honour;': 8503, 'arm,': 8504, 'turned': 8505, 'voices!': 8506, 'own!': 8507, 'mistrust': 8508, 'Say': 8509, \"lour'd\": 8510, 'marry': 8511, 'Darest': 8512, 'his,': 8513, 'unsuspected': 8514, 'falsehood,': 8515, 'fire-new': 8516, 'foot-cloth': 8517, 'Place;': 8518, 'already': 8519, 'denier,': 8520, 'rising.': 8521, 'hand;': 8522, 'garments?': 8523, 'cares': 8524, 'doing:': 8525, 'assembly.': 8526, 'hell,': 8527, 'Senator:': 8528, 'Cleave': 8529, 'prevented.': 8530, \"That's\": 8531, 'Dispute': 8532, 'Brutus,': 8533, 'sun,': 8534, 'safe': 8535, 'safe!': 8536, 'part,--': 8537, 'spilt.': 8538, \"smother'd\": 8539, 'ado.': 8540, 'moved': 8541, 'Better': 8542, 'determined,': 8543, 'thine,': 8544, 'virtuous,': 8545, 'RIVERS:': 8546, 'Vouchsafe': 8547, 'To,': 8548, 'lightly--though': 8549, 'league:': 8550, 'silver.': 8551, 'battle?': 8552, 'ease': 8553, 'press': 8554, 'nicely-gawded': 8555, 'left': 8556, 'taking': 8557, 'exclaim.': 8558, 'virginal': 8559, 'upon:': 8560, 'am': 8561, 'crowned': 8562, 'corn!': 8563, 'Dismiss': 8564, 'estate': 8565, 'rock,': 8566, 'amplified;': 8567, 'fright': 8568, 'fortunes': 8569, 'host.': 8570, 'arriving': 8571, 'rescued': 8572, 'trembling': 8573, 'Of': 8574, 'treason;': 8575, 'weep.': 8576, \"O'ercome\": 8577, 'stiff': 8578, 'account.': 8579, 'thyself,': 8580, 'outstrip': 8581, 'sound': 8582, 'gods!': 8583, 'claim,': 8584, 'brotherhood': 8585, 'merciless': 8586, 'intercession': 8587, 'resign': 8588, \"Phoebus'\": 8589, \"call'd\": 8590, 'life,': 8591, 'imprisonment.': 8592, 'poets': 8593, 'general.': 8594, 'cause.': 8595, 'armed': 8596, 'sights,': 8597, 'thee?--': 8598, 'Yet,': 8599, 'can;': 8600, 'blessing.': 8601, 'fasts:': 8602, 'soft!': 8603, \"enrich'd\": 8604, 'fast?': 8605, 'atone': 8606, 'required': 8607, 'wore': 8608, 'simply': 8609, 'gape': 8610, 'victory,': 8611, 'unclog': 8612, 'beasts': 8613, 'towards': 8614, 'senate-house:': 8615, 'evils,': 8616, 'walls.': 8617, 'this.': 8618, 'deepest': 8619, 'peace,': 8620, 'Tower?': 8621, 'possible': 8622, 'empty,': 8623, 'plots': 8624, 'matter,': 8625, 'will.': 8626, 'other': 8627, 'sea,': 8628, 'worm': 8629, 'errand': 8630, 'stream': 8631, 'malkin': 8632, 'messenger.': 8633, 'lately': 8634, 'gone;': 8635, 'mutinous;': 8636, 'Pray,': 8637, 'policy,': 8638, 'planet:': 8639, 'any,': 8640, 'instruction,': 8641, 'lived': 8642, 'wrong': 8643, 'bed;': 8644, 'hope?': 8645, 'poisonous': 8646, 'scarfs': 8647, 'advised': 8648, 'dearth,': 8649, 'hear,': 8650, 'another;': 8651, 'crooked': 8652, 'another': 8653, 'issued': 8654, 'gone': 8655, 'places': 8656, 'her.': 8657, 'kindly.': 8658, 'Jupiter': 8659, 'willingly;': 8660, 'vehement': 8661, \"uncle's\": 8662, 'instruct,': 8663, 'descant': 8664, 'Aufidius,': 8665, 'fellowship,': 8666, 'train,': 8667, 'falls': 8668, 'within': 8669, 'hold!': 8670, 'guest.': 8671, 'death': 8672, 'fortune!': 8673, 'Fillip': 8674, 'chafed,': 8675, 'cries': 8676, 'Retire': 8677, 'them.': 8678, 'opposite.': 8679, \"'gainst\": 8680, 'mercy.': 8681, 'king;': 8682, 'turn:': 8683, 'cheques': 8684, \"'Ay,'\": 8685, 'cat': 8686, 'present?': 8687, 'yield': 8688, \"crack'd\": 8689, 'franchises,': 8690, 'teaches': 8691, 'guardant': 8692, 'idea': 8693, \"stamp'd\": 8694, 'Time-pleasers,': 8695, 'malice;': 8696, 'ring.': 8697, 'willingly': 8698, 'ripe,': 8699, 'storm.': 8700, 'Deserves': 8701, \"he'll\": 8702, 'speech,': 8703, 'barren': 8704, 'also': 8705, 'yourselves,': 8706, 'fulfil': 8707, 'found': 8708, 'those': 8709, 'treason!': 8710, 'craves': 8711, 'morning:': 8712, 'fawning': 8713, 'teach': 8714, 'crust': 8715, 'quake': 8716, 'Requite': 8717, 'sop': 8718, 'evade': 8719, 'depopulate': 8720, 'Heard': 8721, 'despair': 8722, 'aery': 8723, 'easily': 8724, 'malice.': 8725, 'naught': 8726, 'worn,': 8727, 'piteous': 8728, 'harvest.': 8729, 'indeed?': 8730, \"saw't.\": 8731, 'uncle': 8732, \"Suffer't,\": 8733, 'current,': 8734, 'outrage:': 8735, 'pity.': 8736, 'successes,': 8737, 'met:': 8738, 'delight': 8739, 'insinuate': 8740, 'butterfly:': 8741, 'crave': 8742, 'Before': 8743, 'princes': 8744, 'many': 8745, 'Rest': 8746, 'infer': 8747, 'smile': 8748, 'Know,': 8749, 'feeding.': 8750, 'precious': 8751, 'Clarence;': 8752, 'leisurely,': 8753, 'choice,': 8754, 'ancient': 8755, 'memory,': 8756, 'exceeds': 8757, 'hark': 8758, 'instruction.': 8759, 'moths.': 8760, 'thereof': 8761, 'joyful': 8762, 'she!': 8763, 'Rome!': 8764, 'rain:': 8765, 'bewitchment': 8766, 'sure,': 8767, 'title': 8768, 'courage': 8769, \"weep'st\": 8770, 'Tellest': 8771, 'bowels': 8772, 'see.': 8773, 'Pomfret!': 8774, 'Cominius,': 8775, 'know.': 8776, 'chief,': 8777, 'Living': 8778, 'True,': 8779, 'gain;': 8780, 'method,': 8781, 'churchmen,': 8782, 'honour:': 8783, \"betroth'd\": 8784, 'hum': 8785, \"enemy's\": 8786, 'market-place': 8787, 'bleed': 8788, 'Young': 8789, 'adoreth': 8790, 'Whenever': 8791, 'Pomfret-castle;': 8792, 'gilt': 8793, \"woo'd,\": 8794, 'seize': 8795, 'requested': 8796, 'jest.': 8797, 'saying': 8798, 'parcel': 8799, 'commonalty.': 8800, 'Tyrrel?': 8801, 'thee.': 8802, 'thyself--': 8803, 'arrogance.': 8804, 'magician': 8805, 'counsel': 8806, 'poverty': 8807, 'index': 8808, 'us;': 8809, 'pleasure,': 8810, 'instruments,': 8811, 'two!': 8812, 'utterance.': 8813, 'dismal': 8814, 'First': 8815, 'whined': 8816, \"consul,'\": 8817, 'Ancus': 8818, 'therein,': 8819, \"army's\": 8820, 'prayers;': 8821, 'Burgundy;': 8822, 'alone!': 8823, 'sounded': 8824, 'Tush,': 8825, \"perceive's\": 8826, 'fury,': 8827, 'encompasseth': 8828, 'Valeria': 8829, \"o'erbear\": 8830, 'of:': 8831, 'selves!': 8832, 'wise': 8833, \"harlot's\": 8834, 'shalt': 8835, 'wakes!': 8836, 'charm,': 8837, 'destruction,': 8838, 'Wednesday': 8839, 'world.': 8840, 'twin,': 8841, 'unswept,': 8842, \"betray'd\": 8843, 'bulks,': 8844, \"imprison'd\": 8845, 'Pardon': 8846, 'rent': 8847, 'sir,': 8848, 'hurry.': 8849, 'calm.': 8850, 'taunted,': 8851, \"remember'd.\": 8852, 'womb!': 8853, 'well.': 8854, 'should': 8855, 'brother!': 8856, 'steep': 8857, 'slave;--': 8858, 'what?': 8859, 'house': 8860, 'cunning:': 8861, 'indeed.': 8862, 'asker?': 8863, 'father:': 8864, 'spirit.': 8865, 'sanctuary:': 8866, 'official': 8867, 'stalls,': 8868, 'bedward!': 8869, \"follow'd;\": 8870, \"Hector's\": 8871, 'withal,': 8872, 'Hector,': 8873, 'wrong-incensed': 8874, 'matrons': 8875, 'builds': 8876, 'battles': 8877, 'character,': 8878, 'Saint': 8879, \"'s:\": 8880, 'Tear-falling': 8881, 'Fouler': 8882, 'considerate': 8883, \"presently.'\": 8884, 'considering': 8885, 'Rivers!': 8886, \"lengthen'd\": 8887, 'please,': 8888, 'bench:': 8889, 'prating': 8890, 'yourself,': 8891, \"Alban's\": 8892, 'solace:': 8893, 'on.': 8894, 'wrongs': 8895, \"is't\": 8896, 'true?': 8897, 'mirrors': 8898, 'pretext': 8899, \"Numa's\": 8900, 'famish,': 8901, 'scripture,': 8902, 'As': 8903, \"o'er-peer.\": 8904, 'boon.': 8905, 'quench.': 8906, 'years.': 8907, 'length,': 8908, 'queens.': 8909, 'sure.': 8910, \"York's\": 8911, 'heralds': 8912, 'obstacles:': 8913, 'certainties.': 8914, 'nourish': 8915, 'excuse': 8916, 'Commit': 8917, 'importing': 8918, 'Fast': 8919, 'fatting': 8920, 'love!': 8921, \"deliver'd?\": 8922, 'are;': 8923, 'Withal': 8924, 'friendly.': 8925, 'sweeter': 8926, 'unprepared': 8927, 'Place,': 8928, 'rest?': 8929, 'Patrician:': 8930, \"conn'd\": 8931, 'enforced': 8932, 'eyes!': 8933, 'fire,': 8934, 'daws': 8935, 'wives;': 8936, 'If,': 8937, 'plenteous': 8938, 'named,--': 8939, \"ripen'd\": 8940, 'upon,': 8941, 'noble:': 8942, 'antique': 8943, 'guile!': 8944, 'I.': 8945, 'joys': 8946, 'angels': 8947, 'gods': 8948, 'dust.': 8949, 'members': 8950, 'Wondrous!': 8951, 'belike,': 8952, 'Margaret.': 8953, 'Thus,': 8954, 'tumbling': 8955, 'stones': 8956, 'Shouting': 8957, 'breaks': 8958, 'relieve': 8959, 'wishes': 8960, 'dissemble': 8961, 'some.': 8962, 'both.': 8963, \"interr'd\": 8964, 'Paul,': 8965, 'meed,': 8966, \"wars'\": 8967, 'friends.': 8968, 'These,': 8969, 'tremble?': 8970, 'survey': 8971, 'attended': 8972, 'town.': 8973, \"begg'd!\": 8974, 'wilful': 8975, \"Man-enter'd\": 8976, 'leads;': 8977, 'divines': 8978, 'something': 8979, 'advice': 8980, \"'Death.'\": 8981, 'mutinous': 8982, 'moon.': 8983, 'whisper,': 8984, 'satisfied,': 8985, 'belike': 8986, 'strifes': 8987, 'wound': 8988, 'reasons!': 8989, 'consented': 8990, 'seld-shown': 8991, 'kingly': 8992, 'stay': 8993, 'Volscians': 8994, 'anon.': 8995, 'lighted': 8996, 'Subscribed': 8997, 'less?': 8998, 'companionship': 8999, 'presence?': 9000, 'he.': 9001, 'elements,': 9002, \"it's\": 9003, \"bow'd\": 9004, 'cousin.': 9005, 'Redeemer': 9006, 'curse': 9007, 'doubt;': 9008, 'religious': 9009, 'reproof': 9010, \"he's\": 9011, 'government': 9012, 'loss;': 9013, 'nobles.': 9014, 'broiled': 9015, 'Now': 9016, 'spirit': 9017, 'among': 9018, 'omit': 9019, 'corrupting': 9020, 'fool!': 9021, 'sins,': 9022, 'humbly': 9023, 'Cast': 9024, 'approaches;': 9025, 'lovelier': 9026, 'limbs;': 9027, 'shepherds:': 9028, 'hatches:': 9029, 'calls': 9030, \"bewitch'd;\": 9031, \"perform'd\": 9032, 'had.': 9033, 'journeys': 9034, 'isle.': 9035, 'pass': 9036, 'note': 9037, 'state': 9038, 'account': 9039, 'Ever': 9040, 'beat': 9041, 'when': 9042, 'repay': 9043, 'then:': 9044, 'back?': 9045, 'senate,': 9046, 'news:': 9047, 'indeed,': 9048, 'shrouded': 9049, \"canker'd\": 9050, 'prophet!': 9051, 'away?': 9052, 'CLARENCE:': 9053, 'goaded': 9054, \"hugg'd\": 9055, 'triumphing': 9056, 'devils': 9057, 'framed,': 9058, 'cry,': 9059, 'bethink': 9060, 'spirit!': 9061, 'alike:': 9062, 'form.': 9063, 'Olympus': 9064, 'mercenary.': 9065, 'trees': 9066, 'trident,': 9067, 'stitchery;': 9068, 'Here,': 9069, 'lived.': 9070, 'own': 9071, 'mast,': 9072, 'received': 9073, 'unless': 9074, 'smoking': 9075, 'she?': 9076, 'feeble': 9077, 'writ:': 9078, 'convey': 9079, \"'shall'?\": 9080, 'waking,': 9081, 'smote?': 9082, 'whole': 9083, 'hereto': 9084, 'unfortunate': 9085, 'master.': 9086, 'ingrateful,': 9087, \"king's;\": 9088, 'parties,': 9089, 'Reports,': 9090, 'dinner': 9091, 'being': 9092, 'weakness,': 9093, 'Tower;': 9094, 'humorous': 9095, 'break': 9096, 'malignantly': 9097, 'Gloucester;': 9098, \"lesson'd\": 9099, \"know't.\": 9100, 'have,': 9101, 'pestilence': 9102, \"He'ld\": 9103, 'To-morrow': 9104, 'colder': 9105, 'hark!': 9106, \"with's\": 9107, 'unity.': 9108, 'distress.': 9109, 'bound,': 9110, 'have.': 9111, 'Coriolanus.': 9112, 'Some': 9113, 'part,': 9114, \"frank'd\": 9115, 'Princes': 9116, 'divines;': 9117, 'chain': 9118, \"controll'd\": 9119, 'innocent.': 9120, 'twelve': 9121, \"lord's\": 9122, 'Does': 9123, 'heavens,': 9124, 'divine': 9125, 'pity': 9126, 'ranges,': 9127, 'matter?': 9128, 'lordship.': 9129, 'heat,': 9130, 'served': 9131, 'dost': 9132, 'hailstone': 9133, 'birth-place': 9134, 'hies': 9135, 'Drawn': 9136, 'execution': 9137, 'dozen': 9138, 'season': 9139, 'ostentation,': 9140, 'Inestimable': 9141, 'gaze': 9142, 'hospitable': 9143, 'dreadful': 9144, 'guilty': 9145, 'lady;': 9146, 'meanest': 9147, 'counsels': 9148, \"'He\": 9149, 'supreme,': 9150, 'wrens': 9151, 'capers': 9152, 'consuls,': 9153, 'design.': 9154, 'gracious': 9155, 'elbow,': 9156, 'priest;': 9157, 'Whether': 9158, 'demand,': 9159, 'Holborn,': 9160, 'devilish': 9161, 'Loaden': 9162, 'bottom': 9163, 'shouts:': 9164, 'strut': 9165, 'world': 9166, 'purpose': 9167, 'attends': 9168, 'Antiates,': 9169, 'garland!': 9170, 'falter,': 9171, \"enmity's\": 9172, 'Edward?': 9173, 'Richard.': 9174, \"father.'\": 9175, 'lost': 9176, 'receive': 9177, 'favouring': 9178, 'valiant': 9179, \"'Deny\": 9180, 'devise,': 9181, 'hanged,': 9182, 'inferior': 9183, 'Fall': 9184, 'plucks': 9185, 'Have': 9186, 'Prince,': 9187, 'fitteth': 9188, 'glory!': 9189, 'spotted': 9190, \"sir'--Plague\": 9191, 'Honour': 9192, 'formerly.': 9193, \"fear'd,\": 9194, 'throng': 9195, 'Sorry': 9196, 'Sometime': 9197, 'sentence.': 9198, 'hereditary': 9199, 'befall': 9200, 'spend': 9201, 'hand?': 9202, 'evil.': 9203, 'plants': 9204, 'beseech': 9205, 'suspect': 9206, 'piping': 9207, 'mother,': 9208, 'Given': 9209, \"return'd,\": 9210, \"had'!\": 9211, 'renew': 9212, 'lord.': 9213, 'ignorance,': 9214, 'respect': 9215, 'patricians!': 9216, 'nails': 9217, 'minister': 9218, 'Doubt': 9219, 'bed,': 9220, 'speak': 9221, 'liege,': 9222, \"ungovern'd:\": 9223, 'exile,': 9224, 'news;': 9225, 'lord:': 9226, 'wrath,': 9227, 'promotions': 9228, 'throat:': 9229, 'learn,': 9230, 'afford': 9231, 'stirs:': 9232, 'Jesu': 9233, 'Behold': 9234, 'sorrows': 9235, 'Not': 9236, 'napes': 9237, 'drum,': 9238, 'dishonour': 9239, 'done': 9240, \"in't\": 9241, 'dances': 9242, 'flatterers,': 9243, 'nonage': 9244, 'late.': 9245, 'sage,': 9246, \"Stabb'd\": 9247, \"tackle's\": 9248, 'quiet;': 9249, 'forth:': 9250, 'especially': 9251, 'Beneath': 9252, 'woman,': 9253, 'Beating': 9254, 'thrive': 9255, 'look': 9256, 'butchered!': 9257, 'revenged': 9258, 'lady!': 9259, 'such': 9260, 'died': 9261, 'sole': 9262, 'Peace': 9263, 'fancy:': 9264, 'Happy': 9265, 'splinters:': 9266, 'Hath': 9267, 'came': 9268, 'about?': 9269, 'damnable.': 9270, 'begging': 9271, 'prisoners.': 9272, 'hire': 9273, 'odd': 9274, \"sugar'd\": 9275, \"unscann'd\": 9276, 'Gentleman:': 9277, 'enemy?': 9278, 'Castle;': 9279, 'remove': 9280, 'surfeits': 9281, \"she's\": 9282, 'Fortune,': 9283, 'Misconstrue': 9284, 'posterity.': 9285, 'silence': 9286, 'for,': 9287, 'varlet': 9288, 'expulsion': 9289, 'so?': 9290, 'Ithaca': 9291, 'target': 9292, 'gan': 9293, 'hills': 9294, 'Wales,': 9295, 'madam': 9296, 'confer': 9297, 'This,': 9298, 'match,': 9299, 'gifts;': 9300, 'bastardy': 9301, 'army': 9302, 'lads,': 9303, 'heart!': 9304, 'horse-drench.': 9305, \"What's\": 9306, 'aside': 9307, 'hanging,': 9308, 'blame.': 9309, 'France;': 9310, 'go,': 9311, 'yielded': 9312, 'private.': 9313, 'passing': 9314, 'world,': 9315, \"ho!'\": 9316, 'rod': 9317, 'flowers': 9318, 'groans': 9319, 'wounded;': 9320, 'lungs': 9321, 'comes,': 9322, 'self': 9323, 'southward.': 9324, \"venom'd\": 9325, 'enough!': 9326, 'crosses': 9327, 'tribunes.': 9328, 'hope.': 9329, 'directitude.': 9330, 'praises': 9331, 'honour!': 9332, 'expect.': 9333, 'Almost': 9334, 'ever!': 9335, 'limit': 9336, 'back': 9337, 'expect': 9338, 'gracious.': 9339, 'why?': 9340, 'foolish': 9341, 'outdone': 9342, 'captive': 9343, \"O'erborne\": 9344, 'now': 9345, 'rightly': 9346, 'prithee,': 9347, 'did;': 9348, 'slow': 9349, 'LORD': 9350, 'suit:': 9351, 'examine': 9352, 'bands:': 9353, 'grounded': 9354, 'wealsmen': 9355, 'woe': 9356, 'No!': 9357, \"fall'n\": 9358, 'Flower': 9359, 'high,': 9360, 'understood': 9361, 'complaining.': 9362, 'themes': 9363, 'hearts': 9364, 'rejourn': 9365, 'knows': 9366, 'isle': 9367, 'slaughter,': 9368, 'Provoked': 9369, 'town:': 9370, \"'Dear\": 9371, 'Dost': 9372, 'customary': 9373, 'nought': 9374, 'shepherd': 9375, 'colour': 9376, 'impatience': 9377, 'blest!': 9378, 'wizard': 9379, 'Unless': 9380, 'talk:': 9381, 'or': 9382, \"see't,\": 9383, 'meat': 9384, 'designs': 9385, 'impart:': 9386, 'navel': 9387, 'guard': 9388, 'writing': 9389, 'say': 9390, 'Myself': 9391, 'Corioli,': 9392, 'anon,': 9393, 'remembrances:': 9394, 'Regard': 9395, 'eternity': 9396, 'hoping': 9397, 'angel,': 9398, 'compound': 9399, 'pupil': 9400, 'trivial': 9401, 'looked': 9402, 'Stay,': 9403, \"Hastings'\": 9404, 'foes,': 9405, 'speedy': 9406, 'slaughter-house,': 9407, 'field': 9408, 'buy': 9409, 'orators,': 9410, 'Aufidius;': 9411, 'standers': 9412, 'begot;': 9413, 'Erroneous': 9414, 'drops:': 9415, 'reckless': 9416, 'Friar': 9417, \"He's\": 9418, 'successes': 9419, 'kitchen': 9420, 'aches': 9421, 'sleep,': 9422, 'brief?': 9423, 'tear': 9424, 'feeling': 9425, 'generosity,': 9426, 'course.': 9427, 'both!': 9428, 'home': 9429, 'venom,': 9430, 'madam?': 9431, 'crows!': 9432, 'violentest': 9433, 'quiet': 9434, 'lieve': 9435, 'Out': 9436, 'LOVEL:': 9437, 'tidings!': 9438, 'executed': 9439, 'speak.': 9440, 'famish?': 9441, 'conspectuities': 9442, 'merit,': 9443, 'alms!': 9444, 'good': 9445, 'less,': 9446, 'unjust,': 9447, 'them!': 9448, 'water': 9449, 'Mars;': 9450, 'pebbles': 9451, 'support': 9452, 'adversaries': 9453, 'supposed': 9454, 'proverbs,': 9455, 'instruments': 9456, 'Nay,': 9457, 'fawns,': 9458, \"Paul's.\": 9459, 'husbandry': 9460, 'imposition,': 9461, 'wherefore?': 9462, 'breath,': 9463, 'remnant': 9464, 'garments,': 9465, 'show;': 9466, 'Whiles': 9467, 'enter:': 9468, 'god,': 9469, 'unpleasing': 9470, 'known,': 9471, 'devoted': 9472, 'favours': 9473, \"smooth'd\": 9474, 'twenty': 9475, 'parts': 9476, 'Avaunt,': 9477, 'belongs.': 9478, 'is?': 9479, 'Rutland--': 9480, 'care,': 9481, \"'twould,\": 9482, \"'Faith,\": 9483, 'loins!': 9484, 'Warwick;': 9485, 'employ': 9486, \"wish'd\": 9487, 'most': 9488, 'voluptuously': 9489, 'envy': 9490, 'Amazonian': 9491, 'poorest': 9492, 'vouch,': 9493, 'life?': 9494, 'they--': 9495, 'synod': 9496, 'enmity;': 9497, 'stolen': 9498, 'rein,': 9499, \"possess'd.\": 9500, 'dews': 9501, \"'Clarence\": 9502, \"dogg'd\": 9503, 'currents': 9504, 'accept': 9505, 'converses': 9506, 'brings': 9507, 'infamy,': 9508, 'Insisting': 9509, 'sometime': 9510, \"seal'd\": 9511, 'suffrage:': 9512, 'do?': 9513, 'tune': 9514, 'murdered': 9515, 'little': 9516, 'swords!': 9517, 'greatness,': 9518, 'hitherward.': 9519, 'composition.': 9520, 'rend': 9521, 'directly,': 9522, 'another:': 9523, 'devout': 9524, 'pins': 9525, 'bruised': 9526, 'princes.': 9527, 'heart;': 9528, 'reputation.': 9529, 'Brother,': 9530, 'abroad': 9531, \"death's\": 9532, 'alas!': 9533, 'flattery': 9534, 'quick,': 9535, 'sword:': 9536, 'wall,': 9537, 'aidless': 9538, 'spectacles;': 9539, 'soldiers,': 9540, 'pities': 9541, 'foe;': 9542, 'defence,': 9543, \"what's\": 9544, 'he?': 9545, 'aim,': 9546, 'wrath': 9547, 'accents': 9548, 'accusations;': 9549, 'nurse!': 9550, 'half.': 9551, 'enough,': 9552, \"men's\": 9553, 'dangers;': 9554, 'readiest': 9555, 'sake:': 9556, 'thrive!': 9557, \"lurk'd,\": 9558, 'shent': 9559, 'lord;': 9560, 'truth:': 9561, 'angry?': 9562, 'calamity': 9563, 'ruled.': 9564, 'London': 9565, 'foremost:': 9566, 'near;': 9567, 'wis': 9568, 'secrets': 9569, 'obedience?': 9570, 'rudely': 9571, 'seldom': 9572, 'Indeed,': 9573, 'welcomes!': 9574, 'Lie': 9575, 'Tribunes,': 9576, 'loves.': 9577, 'Wear': 9578, 'breath': 9579, 'comeliness': 9580, 'dear,': 9581, 'old!': 9582, 'Clarence': 9583, 'nothing!': 9584, 'court': 9585, 'effect;': 9586, 'eye': 9587, 'ally': 9588, 'pause;': 9589, 'orator': 9590, 'war;': 9591, 'host,': 9592, 'revel': 9593, 'dies:': 9594, 'Cry': 9595, 'presume,': 9596, 'moan,': 9597, 'law,': 9598, 'fool.': 9599, 'Being': 9600, 'bones': 9601, 'convenient': 9602, 'requital': 9603, \"son!'\": 9604, 'remain.': 9605, 'forgot': 9606, 'grew': 9607, \"kings'\": 9608, 'thus:': 9609, 'Deny': 9610, 'silenced': 9611, 'paced': 9612, 'ask': 9613, 'device?': 9614, 'grant': 9615, 'morrows': 9616, 'shall.': 9617, 'revenge!': 9618, 'did.': 9619, 'wine.': 9620, 'friend;': 9621, 'noted': 9622, 'drown': 9623, 'Only': 9624, 'disposition,': 9625, \"'G'\": 9626, 'plot,': 9627, 'smoothing': 9628, 'Framed': 9629, 'visage': 9630, 'got,': 9631, 'sway': 9632, \"'Shall'!\": 9633, 'Jack': 9634, 'dread:': 9635, 'forty': 9636, 'you.': 9637, 'shamed': 9638, 'gives': 9639, 'spoil:': 9640, 'hie': 9641, 'thing;': 9642, 'eat,': 9643, 'a-doing:': 9644, 'joyless.': 9645, 'cares,': 9646, 'perforce.': 9647, 'fearful?': 9648, 'glass,': 9649, 'Woodville,': 9650, 'feels,': 9651, 'mockers,': 9652, 'undercrest': 9653, \"Cominius'\": 9654, 'bountiful': 9655, \"demand'st.\": 9656, 'reek': 9657, 'fittest': 9658, 'head;': 9659, 'AEdiles!': 9660, 'too': 9661, 'there!': 9662, 'choice': 9663, 'hold': 9664, 'accusations,': 9665, 'ditch,': 9666, 'send,': 9667, \"marr'd;\": 9668, 'doubled': 9669, 'major': 9670, 'Raised': 9671, 'patience:': 9672, 'been;': 9673, 'seat': 9674, 'over-measure.': 9675, 'grace:': 9676, 'husband': 9677, 'small--of': 9678, 'crept,': 9679, 'part': 9680, 'history': 9681, 'trumpeter.': 9682, 'brow-bound': 9683, 'sudden;': 9684, \"covert'st\": 9685, 'last!': 9686, 'voice:': 9687, 'seeks': 9688, 'intents,': 9689, 'delay': 9690, 'stuck': 9691, 'one,': 9692, 'immured': 9693, 'favourable': 9694, 'unhearts': 9695, 'saved': 9696, 'Anointed': 9697, 'stored.': 9698, 'Marcius.': 9699, 'herbs': 9700, 'stooping,--': 9701, 'wiped': 9702, 'packing': 9703, 'meet,': 9704, 'Lets': 9705, 'weapons.': 9706, 'well': 9707, 'louts': 9708, 'Deep,': 9709, 'rich': 9710, 'fellow': 9711, 'indifferently': 9712, 'punishment': 9713, 'thraldom': 9714, 'bid': 9715, 'court,': 9716, 'living': 9717, 'bear': 9718, 'accounted': 9719, 'Scars': 9720, 'breathing': 9721, 'sons,': 9722, 'ugly': 9723, \"auger's\": 9724, 'Servingman:': 9725, 'fellow,--': 9726, \"All's\": 9727, 'AEdile:': 9728, \"kill'd\": 9729, \"utter'd\": 9730, 'beastly,': 9731, 'senate:': 9732, 'leaden': 9733, 'slewest': 9734, 'returned,': 9735, 'legs:': 9736, 'issues.': 9737, 'Stood': 9738, 'much.': 9739, 'attainder': 9740, 'thwack': 9741, 'lip': 9742, 'son:': 9743, 'territories,': 9744, 'equals': 9745, 'godfathers:': 9746, 'lordship!': 9747, 'full': 9748, 'Romans,': 9749, 'been!': 9750, 'unthankfulness,': 9751, 'alike.': 9752, 'live!': 9753, 'famously,': 9754, 'Lartius,': 9755, 'action': 9756, 'attempt': 9757, 'soft': 9758, \"lessen'd\": 9759, \"dismay'd:\": 9760, 'famous': 9761, 'tearing': 9762, 'gallant-springing': 9763, \"Here's\": 9764, 'loss,': 9765, 'bale.': 9766, 'plebeii,': 9767, 'breasts': 9768, 'prepare': 9769, 'Catesby': 9770, 'Uncle,': 9771, 'plot:': 9772, 'none,': 9773, 'woman': 9774, 'submit': 9775, 'belly,': 9776, 'swords': 9777, 'grandam,': 9778, 'worships!': 9779, \"city,'\": 9780, 'cheeks': 9781, 'know,': 9782, 'sir.': 9783, 'enemy': 9784, 'deliver': 9785, 'ha,': 9786, 'slightness:': 9787, 'undone': 9788, 'York': 9789, 'canon.': 9790, 'levies,': 9791, 'charity.': 9792, 'saving': 9793, 'eyes:': 9794, 'censured': 9795, \"stall'd\": 9796, 'defence': 9797}\n"
          ]
        }
      ]
    },
    {
      "cell_type": "code",
      "source": [
        "# 실습: split the ngrams into a training and test set\n",
        "# Assuming an 80-20 split for train-test\n",
        "# split_idx = _\n",
        "split_idx = int(len(word_to_ix) * 0.8)\n",
        "\n",
        "# train_ngrams = all_ngrams[_]\n",
        "# test_ngrams = all_ngrams[_]\n",
        "train_ngrams = all_ngrams[:split_idx]\n",
        "test_ngrams = all_ngrams[split_idx:]\n",
        "\n",
        "print(f\"Training ngrams: {len(train_ngrams)}\")\n",
        "print(f\"Test ngrams: {len(test_ngrams)}\")"
      ],
      "metadata": {
        "id": "8J23XcHKBgjU",
        "colab": {
          "base_uri": "https://localhost:8080/"
        },
        "outputId": "dda49ffd-c9b4-492f-f16e-73dac64e5839"
      },
      "execution_count": 16,
      "outputs": [
        {
          "output_type": "stream",
          "name": "stdout",
          "text": [
            "Training ngrams: 7838\n",
            "Test ngrams: 40411\n"
          ]
        }
      ]
    },
    {
      "cell_type": "code",
      "source": [
        "# Training hyperparams\n",
        "train_epochs = 5\n",
        "learning_rate = 0.001\n",
        "BATCH_SIZE = 32"
      ],
      "metadata": {
        "id": "ZitDUdvxWJ2n"
      },
      "execution_count": 17,
      "outputs": []
    },
    {
      "cell_type": "code",
      "source": [
        "class NGramLanguageModeler(nn.Module):\n",
        "\n",
        "    def __init__(self, vocab_size, embedding_dim, context_size):\n",
        "        super(NGramLanguageModeler, self).__init__()\n",
        "        self.embeddings = nn.Embedding(vocab_size, embedding_dim)\n",
        "        self.linear1 = nn.Linear(context_size * embedding_dim, 128)\n",
        "        self.linear2 = nn.Linear(128, vocab_size)\n",
        "\n",
        "    def forward(self, inputs):\n",
        "        embeds = self.embeddings(inputs).view((1, -1))\n",
        "        out = F.relu(self.linear1(embeds))\n",
        "        out = self.linear2(out)\n",
        "        log_probs = F.log_softmax(out, dim=1)\n",
        "        return log_probs"
      ],
      "metadata": {
        "id": "CjfBnL1cegTj"
      },
      "execution_count": 18,
      "outputs": []
    },
    {
      "cell_type": "code",
      "source": [
        "# 실습: train loss computation\n",
        "losses = []\n",
        "loss_function = nn.NLLLoss()\n",
        "model = NGramLanguageModeler(len(vocab), EMBEDDING_DIM, CONTEXT_SIZE)\n",
        "model = model.cuda()\n",
        "model.train()\n",
        "#optimizer = optim.SGD(model.parameters(), lr=0.001)\n",
        "optimizer = optim.Adam(model.parameters(), lr=learning_rate)\n",
        "\n",
        "for epoch in tqdm.tqdm(range(train_epochs)):\n",
        "    total_loss = 0\n",
        "    batch_loss = 0  # To accumulate loss over instances\n",
        "\n",
        "    for i, (context, target) in enumerate(tqdm.tqdm(train_ngrams, position=0, leave=True)):\n",
        "        context_idxs = torch.tensor([word_to_ix[w] for w in context], dtype=torch.long).cuda()\n",
        "        target_idx = torch.tensor([word_to_ix[target]], dtype=torch.long).cuda()\n",
        "\n",
        "        # Forward pass\n",
        "        log_probs = model(context_idxs)\n",
        "\n",
        "        # Compute loss\n",
        "        loss = loss_function(log_probs, target_idx)\n",
        "\n",
        "        # Accumulate loss\n",
        "        batch_loss += loss.item()\n",
        "\n",
        "        # Backward pass (compute gradients)\n",
        "        loss.backward()\n",
        "\n",
        "        # Update parameters every BATCH_SIZE instances\n",
        "        if (i+1) % BATCH_SIZE == 0 or i == len(train_ngrams)-1:\n",
        "            optimizer.step()  # Apply the gradients\n",
        "            model.zero_grad()  # Zero the gradients\n",
        "\n",
        "            # total_loss += _  # Update the total loss\n",
        "            # batch_loss = _  # Reset the batch loss\n",
        "            # total_loss += batch_loss.item()\n",
        "            total_loss += batch_loss\n",
        "            batch_loss = 0\n",
        "\n",
        "    # Log the total loss for this epoch\n",
        "    losses.append(total_loss)\n",
        "    print(f\"\\nEpoch {epoch+1}/{train_epochs}, Loss: {total_loss:.4f}\")"
      ],
      "metadata": {
        "id": "vWo0b5smFEAl",
        "colab": {
          "base_uri": "https://localhost:8080/"
        },
        "outputId": "eb2cba3a-62eb-48b8-f6e6-c5ec845aa582"
      },
      "execution_count": 19,
      "outputs": [
        {
          "output_type": "stream",
          "name": "stderr",
          "text": [
            "100%|██████████| 7838/7838 [00:07<00:00, 1046.35it/s]\n",
            " 20%|██        | 1/5 [00:07<00:29,  7.50s/it]"
          ]
        },
        {
          "output_type": "stream",
          "name": "stdout",
          "text": [
            "\n",
            "Epoch 1/5, Loss: 62649.4442\n"
          ]
        },
        {
          "output_type": "stream",
          "name": "stderr",
          "text": [
            "100%|██████████| 7838/7838 [00:06<00:00, 1189.34it/s]\n",
            " 40%|████      | 2/5 [00:14<00:20,  6.97s/it]"
          ]
        },
        {
          "output_type": "stream",
          "name": "stdout",
          "text": [
            "\n",
            "Epoch 2/5, Loss: 48521.2794\n"
          ]
        },
        {
          "output_type": "stream",
          "name": "stderr",
          "text": [
            "100%|██████████| 7838/7838 [00:07<00:00, 1111.88it/s]\n",
            " 60%|██████    | 3/5 [00:21<00:14,  7.01s/it]"
          ]
        },
        {
          "output_type": "stream",
          "name": "stdout",
          "text": [
            "\n",
            "Epoch 3/5, Loss: 42930.9786\n"
          ]
        },
        {
          "output_type": "stream",
          "name": "stderr",
          "text": [
            "100%|██████████| 7838/7838 [00:06<00:00, 1165.51it/s]\n",
            " 80%|████████  | 4/5 [00:27<00:06,  6.90s/it]"
          ]
        },
        {
          "output_type": "stream",
          "name": "stdout",
          "text": [
            "\n",
            "Epoch 4/5, Loss: 37040.9418\n"
          ]
        },
        {
          "output_type": "stream",
          "name": "stderr",
          "text": [
            "100%|██████████| 7838/7838 [00:06<00:00, 1120.76it/s]\n",
            "100%|██████████| 5/5 [00:34<00:00,  6.98s/it]"
          ]
        },
        {
          "output_type": "stream",
          "name": "stdout",
          "text": [
            "\n",
            "Epoch 5/5, Loss: 30670.9231\n"
          ]
        },
        {
          "output_type": "stream",
          "name": "stderr",
          "text": [
            "\n"
          ]
        }
      ]
    },
    {
      "cell_type": "markdown",
      "source": [
        "### 1.3 Testing trigram model"
      ],
      "metadata": {
        "id": "9ZZxjLRiA_kS"
      }
    },
    {
      "cell_type": "code",
      "source": [
        "def predict(context, k=3):\n",
        "    model.eval()\n",
        "    device = torch.device(\"cuda\" if torch.cuda.is_available() else \"cpu\")\n",
        "    context_idxs = torch.tensor([word_to_ix[w] for w in context], dtype=torch.long).to(device)\n",
        "    log_probs = model(context_idxs)\n",
        "    top_k = torch.topk(log_probs, k)[1].view(-1)\n",
        "    ix_to_word = {ix: word for word, ix in word_to_ix.items()}\n",
        "\n",
        "    return [ix_to_word[ix.item()] for ix in top_k]\n"
      ],
      "metadata": {
        "id": "OoJewH6OLSIK"
      },
      "execution_count": 20,
      "outputs": []
    },
    {
      "cell_type": "code",
      "source": [
        "def display_predictions(ngram, predictions):\n",
        "    context = \" \".join(ngram[0])\n",
        "    label = ngram[1]\n",
        "    print(f\"\\nText: {context} | Label: {label}\")\n",
        "    for i, prediction in enumerate(predictions):\n",
        "        print(f\"  Prediction #{i+1}: {prediction}\")\n",
        "\n"
      ],
      "metadata": {
        "id": "skSGG6ZJVhjX"
      },
      "execution_count": 21,
      "outputs": []
    },
    {
      "cell_type": "code",
      "source": [
        "# Prediction on Train ngrams\n",
        "for ngram in train_ngrams[:10]:\n",
        "    predictions = predict(ngram[0], k=3)\n",
        "    display_predictions(ngram, predictions)"
      ],
      "metadata": {
        "id": "MTqQUtn9VlYS",
        "colab": {
          "base_uri": "https://localhost:8080/"
        },
        "outputId": "ab157810-7d7c-491e-a97a-a76626cfc100"
      },
      "execution_count": 22,
      "outputs": [
        {
          "output_type": "stream",
          "name": "stdout",
          "text": [
            "\n",
            "Text: First Citizen: | Label: Before\n",
            "  Prediction #1: Ye're\n",
            "  Prediction #2: He's\n",
            "  Prediction #3: Well,\n",
            "\n",
            "Text: Citizen: Before | Label: we\n",
            "  Prediction #1: the\n",
            "  Prediction #2: you\n",
            "  Prediction #3: Menenius\n",
            "\n",
            "Text: Before we | Label: proceed\n",
            "  Prediction #1: proceed\n",
            "  Prediction #2: the\n",
            "  Prediction #3: have\n",
            "\n",
            "Text: we proceed | Label: any\n",
            "  Prediction #1: rakes:\n",
            "  Prediction #2: I\n",
            "  Prediction #3: the\n",
            "\n",
            "Text: proceed any | Label: further,\n",
            "  Prediction #1: further,\n",
            "  Prediction #2: I\n",
            "  Prediction #3: the\n",
            "\n",
            "Text: any further, | Label: hear\n",
            "  Prediction #1: I\n",
            "  Prediction #2: inventory\n",
            "  Prediction #3: the\n",
            "\n",
            "Text: further, hear | Label: me\n",
            "  Prediction #1: the\n",
            "  Prediction #2: Against\n",
            "  Prediction #3: if\n",
            "\n",
            "Text: hear me | Label: speak.\n",
            "  Prediction #1: speak.\n",
            "  Prediction #2: drum,\n",
            "  Prediction #3: Though\n",
            "\n",
            "Text: me speak. | Label: All:\n",
            "  Prediction #1: MENENIUS:\n",
            "  Prediction #2: the\n",
            "  Prediction #3: of\n",
            "\n",
            "Text: speak. All: | Label: Speak,\n",
            "  Prediction #1: Speak,\n",
            "  Prediction #2: accused\n",
            "  Prediction #3: a\n"
          ]
        }
      ]
    },
    {
      "cell_type": "code",
      "source": [
        "# Prediction on Test ngrams\n",
        "for ngram in test_ngrams[:10]:\n",
        "    predictions = predict(ngram[0], k=3)\n",
        "    display_predictions(ngram, predictions)"
      ],
      "metadata": {
        "id": "OlK76P_HMKDE",
        "colab": {
          "base_uri": "https://localhost:8080/"
        },
        "outputId": "c8235023-e170-41ab-9153-c5ee52eae8ab"
      },
      "execution_count": 23,
      "outputs": [
        {
          "output_type": "stream",
          "name": "stdout",
          "text": [
            "\n",
            "Text: COMINIUS: Ever | Label: right.\n",
            "  Prediction #1: an\n",
            "  Prediction #2: in\n",
            "  Prediction #3: to\n",
            "\n",
            "Text: Ever right. | Label: CORIOLANUS:\n",
            "  Prediction #1: in\n",
            "  Prediction #2: the\n",
            "  Prediction #3: MENENIUS:\n",
            "\n",
            "Text: right. CORIOLANUS: | Label: Menenius\n",
            "  Prediction #1: in\n",
            "  Prediction #2: I\n",
            "  Prediction #3: the\n",
            "\n",
            "Text: CORIOLANUS: Menenius | Label: ever,\n",
            "  Prediction #1: the\n",
            "  Prediction #2: is\n",
            "  Prediction #3: MENENIUS:\n",
            "\n",
            "Text: Menenius ever, | Label: ever.\n",
            "  Prediction #1: rob\n",
            "  Prediction #2: the\n",
            "  Prediction #3: you\n",
            "\n",
            "Text: ever, ever. | Label: Herald:\n",
            "  Prediction #1: and\n",
            "  Prediction #2: your\n",
            "  Prediction #3: the\n",
            "\n",
            "Text: ever. Herald: | Label: Give\n",
            "  Prediction #1: fit\n",
            "  Prediction #2: the\n",
            "  Prediction #3: I\n",
            "\n",
            "Text: Herald: Give | Label: way\n",
            "  Prediction #1: love.\n",
            "  Prediction #2: the\n",
            "  Prediction #3: arms\n",
            "\n",
            "Text: Give way | Label: there,\n",
            "  Prediction #1: MENENIUS:\n",
            "  Prediction #2: the\n",
            "  Prediction #3: come,\n",
            "\n",
            "Text: way there, | Label: and\n",
            "  Prediction #1: not,\n",
            "  Prediction #2: MENENIUS:\n",
            "  Prediction #3: in\n"
          ]
        }
      ]
    },
    {
      "cell_type": "code",
      "source": [
        "def user_predict(words, k=3):\n",
        "    \"\"\"\n",
        "    Function to predict the next word(s) given a user-defined input of words.\n",
        "\n",
        "    Parameters:\n",
        "    - words (list of str): User-defined input words.\n",
        "    - k (int): Number of top predictions to return.\n",
        "\n",
        "    Returns:\n",
        "    - predictions (list of str): Predicted word(s).\n",
        "    \"\"\"\n",
        "    if len(words) != CONTEXT_SIZE:\n",
        "        raise ValueError(f\"Expected {CONTEXT_SIZE} words for context, got {len(words)}\")\n",
        "\n",
        "    predictions = predict(words, k=k)\n",
        "\n",
        "    return predictions\n"
      ],
      "metadata": {
        "id": "hYGVgmpiR7lF"
      },
      "execution_count": 24,
      "outputs": []
    },
    {
      "cell_type": "code",
      "source": [
        "user_input = [\"My\", \"dear\"]\n",
        "predictions = user_predict(user_input, k=3)\n",
        "\n",
        "print(f\"Context: {' '.join(user_input)}\")\n",
        "print(\"Predicted next words:\")\n",
        "for i, word in enumerate(predictions):\n",
        "    print(f\"  #{i+1}: {word}\")\n"
      ],
      "metadata": {
        "colab": {
          "base_uri": "https://localhost:8080/"
        },
        "id": "jsWA1Ir6V7aA",
        "outputId": "9a03f807-4539-4193-b19b-2f033e16b2da"
      },
      "execution_count": 25,
      "outputs": [
        {
          "output_type": "stream",
          "name": "stdout",
          "text": [
            "Context: My dear\n",
            "Predicted next words:\n",
            "  #1: the\n",
            "  #2: of\n",
            "  #3: MENENIUS:\n"
          ]
        }
      ]
    },
    {
      "cell_type": "code",
      "source": [
        "# 실습: fill the blank (???)\n",
        "def generate_text(start_words, n, model, word_to_ix, ix_to_word):\n",
        "    \"\"\"\n",
        "    Generate a sequence of n words based on the start_words.\n",
        "\n",
        "    Parameters:\n",
        "    - start_words (list): The starting words to use as context.\n",
        "    - n (int): The number of words to generate.\n",
        "    - model (nn.Module): The trained language model.\n",
        "    - word_to_ix (dict): A dictionary mapping words to indices.\n",
        "    - ix_to_word (dict): A dictionary mapping indices to words.\n",
        "\n",
        "    Returns:\n",
        "    - (list): A list of words generated by the model.\n",
        "    \"\"\"\n",
        "    model.eval()  # Set the model to evaluation mode\n",
        "    device = torch.device(\"cuda\" if torch.cuda.is_available() else \"cpu\")\n",
        "    model.to(device)\n",
        "\n",
        "    generated_words = start_words\n",
        "    context = start_words\n",
        "\n",
        "    for _ in range(n):\n",
        "        # Convert words to indices\n",
        "        context_idxs = ???\n",
        "\n",
        "        # Get predictions from model\n",
        "        with torch.no_grad():\n",
        "            log_probs = model(context_idxs)\n",
        "\n",
        "        # Get the most likely word index\n",
        "        _, predicted_idx = torch.max(log_probs, 1)\n",
        "\n",
        "        # Convert index to word\n",
        "        predicted_word = ix_to_word[predicted_idx.item()]\n",
        "\n",
        "        # Add predicted word to the generated words and update context\n",
        "        generated_words.append(predicted_word)\n",
        "        context = generated_words[-2:]\n",
        "\n",
        "    return generated_words\n"
      ],
      "metadata": {
        "id": "Ftbx-IYZYLtz"
      },
      "execution_count": null,
      "outputs": []
    },
    {
      "cell_type": "code",
      "source": [
        "# Example usage:\n",
        "start_words = [\"The\", \"quick\"]\n",
        "n = 10  # Number of words to generate\n",
        "\n",
        "ix_to_word = {ix: word for word, ix in word_to_ix.items()}\n",
        "\n",
        "generated_words = generate_text(start_words, n, model, word_to_ix, ix_to_word)\n",
        "\n",
        "print(\" \".join(generated_words))"
      ],
      "metadata": {
        "colab": {
          "base_uri": "https://localhost:8080/"
        },
        "id": "Z1HcKutgT4vQ",
        "outputId": "8838199e-c8bb-4338-fade-c40cf72757f1"
      },
      "execution_count": null,
      "outputs": [
        {
          "output_type": "stream",
          "name": "stdout",
          "text": [
            "The quick of my sight! bisson and have been my son; the\n"
          ]
        }
      ]
    },
    {
      "cell_type": "markdown",
      "source": [
        "### 2 Loading pretrained embedding"
      ],
      "metadata": {
        "id": "LHR1pUA7Ak8M"
      }
    },
    {
      "cell_type": "code",
      "source": [
        "import gensim.downloader as api\n",
        "glove_model = api.load(\"glove-twitter-25\")\n",
        "EMBEDDING_DIM = 25\n",
        "#glove_model.most_similar(positive=['fruit', 'flower'], topn=1)"
      ],
      "metadata": {
        "id": "fSgC5VhkWfJ5",
        "colab": {
          "base_uri": "https://localhost:8080/"
        },
        "outputId": "847432dc-10e9-4b5b-a259-115bb7b558a2"
      },
      "execution_count": 26,
      "outputs": [
        {
          "output_type": "stream",
          "name": "stdout",
          "text": [
            "[==================================================] 100.0% 104.8/104.8MB downloaded\n"
          ]
        }
      ]
    },
    {
      "cell_type": "code",
      "source": [
        "glove_model['flower'].shape"
      ],
      "metadata": {
        "id": "Xq7GFT-zcIG8",
        "colab": {
          "base_uri": "https://localhost:8080/"
        },
        "outputId": "9f797ea4-07c0-4e9d-ad99-fc161594b28a"
      },
      "execution_count": 28,
      "outputs": [
        {
          "output_type": "execute_result",
          "data": {
            "text/plain": [
              "(25,)"
            ]
          },
          "metadata": {},
          "execution_count": 28
        }
      ]
    },
    {
      "cell_type": "code",
      "source": [
        "glove_model['flower']"
      ],
      "metadata": {
        "colab": {
          "base_uri": "https://localhost:8080/"
        },
        "id": "Mu8Ls0gXUZet",
        "outputId": "8294b5d4-2f04-40d3-e694-9509dbae3360"
      },
      "execution_count": 29,
      "outputs": [
        {
          "output_type": "execute_result",
          "data": {
            "text/plain": [
              "array([-1.5308  , -1.1939  ,  0.58712 ,  0.51104 , -0.069961,  0.239   ,\n",
              "        0.94258 , -0.35138 ,  0.68519 , -0.40802 ,  1.0201  ,  0.51157 ,\n",
              "       -2.632   , -0.21915 , -1.5487  , -0.21886 ,  0.76466 , -0.26767 ,\n",
              "        0.20703 ,  1.3776  , -1.0291  , -0.17614 , -0.010165,  0.33209 ,\n",
              "       -0.14012 ], dtype=float32)"
            ]
          },
          "metadata": {},
          "execution_count": 29
        }
      ]
    },
    {
      "cell_type": "code",
      "source": [
        "CONTEXT_SIZE = 2\n",
        "MODEL_DIM = 1024"
      ],
      "metadata": {
        "id": "NDAV_uvGZcJA"
      },
      "execution_count": 30,
      "outputs": []
    },
    {
      "cell_type": "code",
      "source": [
        "# Lets create the ngram function\n",
        "def sent2ngram(sentence, context_size):\n",
        "  ngrams = [\n",
        "    (\n",
        "        [sentence[i - context_size + j] for j in range(context_size)],\n",
        "        sentence[i]\n",
        "    )\n",
        "    for i in range(context_size, len(text_data))\n",
        "]\n",
        "  return ngrams"
      ],
      "metadata": {
        "id": "E71Wdi9LkegU"
      },
      "execution_count": 31,
      "outputs": []
    },
    {
      "cell_type": "code",
      "source": [
        "import nltk\n",
        "nltk.download('punkt')\n",
        "nltk.word_tokenize(shakespeare[0])"
      ],
      "metadata": {
        "id": "VAyxBKf_5oyo",
        "colab": {
          "base_uri": "https://localhost:8080/"
        },
        "outputId": "cc1fb76b-c57a-4fa4-a623-ac43b89dcd6d"
      },
      "execution_count": 32,
      "outputs": [
        {
          "output_type": "stream",
          "name": "stderr",
          "text": [
            "[nltk_data] Downloading package punkt to /root/nltk_data...\n",
            "[nltk_data]   Unzipping tokenizers/punkt.zip.\n"
          ]
        },
        {
          "output_type": "execute_result",
          "data": {
            "text/plain": [
              "['First', 'Citizen', ':']"
            ]
          },
          "metadata": {},
          "execution_count": 32
        }
      ]
    },
    {
      "cell_type": "code",
      "source": [
        "\n",
        "\n",
        "class NGramLanguageModeler(nn.Module):\n",
        "\n",
        "    def __init__(self, vocab_size, embedding_dim, context_size):\n",
        "        super(NGramLanguageModeler, self).__init__()\n",
        "        self.embeddings = nn.Embedding(vocab_size, embedding_dim)\n",
        "        self.linear1 = nn.Linear(context_size * embedding_dim, MODEL_DIM)\n",
        "        self.linear2 = nn.Linear(MODEL_DIM, vocab_size)\n",
        "\n",
        "    def forward(self, inputs):\n",
        "        embeds = self.embeddings(inputs).view((1, -1))\n",
        "        out = F.relu(self.linear1(embeds))\n",
        "        out = self.linear2(out)\n",
        "        log_probs = F.log_softmax(out, dim=1)\n",
        "        return log_probs"
      ],
      "metadata": {
        "id": "vu6xHj4r2kTm"
      },
      "execution_count": 33,
      "outputs": []
    },
    {
      "cell_type": "code",
      "source": [
        "def init_embeddings(model, glove_model, vocab):\n",
        "  n = 0\n",
        "  for word in vocab:\n",
        "    #print(word)\n",
        "    if word in glove_model:\n",
        "      n += 1\n",
        "      model.embeddings.weight.data[word_to_ix[word]] = torch.cuda.FloatTensor(glove_model[word])\n",
        "      #print(word)\n",
        "  print(f\"{n} embeddings initialized, out of {len(vocab)} vocab\")\n"
      ],
      "metadata": {
        "id": "petXHy2xiVIq"
      },
      "execution_count": 34,
      "outputs": []
    },
    {
      "cell_type": "code",
      "source": [
        "# Training hyperparams\n",
        "train_epochs = 5\n",
        "learning_rate = 0.001\n",
        "BATCH_SIZE = 128\n",
        "EMBEDDING_DIM = 25"
      ],
      "metadata": {
        "id": "k-Tx7a5DZiin"
      },
      "execution_count": 35,
      "outputs": []
    },
    {
      "cell_type": "code",
      "source": [
        "\n",
        "losses = []\n",
        "loss_function = nn.NLLLoss()\n",
        "model = NGramLanguageModeler(len(vocab), EMBEDDING_DIM, CONTEXT_SIZE)\n",
        "model = model.cuda()\n",
        "init_embeddings(model, glove_model, vocab) # Use the glove embeddings!\n",
        "model.train()\n",
        "#optimizer = optim.SGD(model.parameters(), lr=0.001)\n",
        "optimizer = optim.Adam(model.parameters(), lr=learning_rate)\n",
        "\n",
        "for epoch in tqdm.tqdm(range(train_epochs)):\n",
        "    total_loss = 0\n",
        "    batch_loss = 0  # To accumulate loss over instances\n",
        "\n",
        "    for i, (context, target) in enumerate(tqdm.tqdm(train_ngrams, position=0, leave=True)):\n",
        "        context_idxs = torch.tensor([word_to_ix[w] for w in context], dtype=torch.long).cuda()\n",
        "        target_idx = torch.tensor([word_to_ix[target]], dtype=torch.long).cuda()\n",
        "\n",
        "        # Forward pass\n",
        "        log_probs = model(context_idxs)\n",
        "\n",
        "        # Compute loss\n",
        "        loss = loss_function(log_probs, target_idx)\n",
        "\n",
        "        # Accumulate loss\n",
        "        batch_loss += loss.item()\n",
        "\n",
        "        # Backward pass (compute gradients)\n",
        "        loss.backward()\n",
        "\n",
        "        # Update parameters every BATCH_SIZE instances\n",
        "        if (i+1) % BATCH_SIZE == 0 or i == len(train_ngrams)-1:\n",
        "            optimizer.step()  # Apply the gradients\n",
        "            model.zero_grad()  # Zero the gradients\n",
        "\n",
        "            total_loss += batch_loss  # Update the total loss\n",
        "            batch_loss = 0  # Reset the batch loss\n",
        "\n",
        "    # Log the total loss for this epoch\n",
        "    losses.append(total_loss)\n",
        "    print(f\"\\nEpoch {epoch+1}/{train_epochs}, Loss: {total_loss:.4f}\")\n"
      ],
      "metadata": {
        "id": "7j74-YOKk5id",
        "colab": {
          "base_uri": "https://localhost:8080/"
        },
        "outputId": "aeddd22c-b873-48df-d603-326c8f9775cf"
      },
      "execution_count": 36,
      "outputs": [
        {
          "output_type": "stream",
          "name": "stderr",
          "text": [
            "<ipython-input-34-6c6f2dc05ac0>:7: UserWarning: The given NumPy array is not writable, and PyTorch does not support non-writable tensors. This means writing to this tensor will result in undefined behavior. You may want to copy the array to protect its data or make it writable before converting it to a tensor. This type of warning will be suppressed for the rest of this program. (Triggered internally at ../torch/csrc/utils/tensor_numpy.cpp:206.)\n",
            "  model.embeddings.weight.data[word_to_ix[word]] = torch.cuda.FloatTensor(glove_model[word])\n"
          ]
        },
        {
          "output_type": "stream",
          "name": "stdout",
          "text": [
            "3502 embeddings initialized, out of 9798 vocab\n"
          ]
        },
        {
          "output_type": "stream",
          "name": "stderr",
          "text": [
            "100%|██████████| 7838/7838 [00:12<00:00, 627.29it/s]\n",
            " 20%|██        | 1/5 [00:12<00:50, 12.50s/it]"
          ]
        },
        {
          "output_type": "stream",
          "name": "stdout",
          "text": [
            "\n",
            "Epoch 1/5, Loss: 62374.0460\n"
          ]
        },
        {
          "output_type": "stream",
          "name": "stderr",
          "text": [
            "100%|██████████| 7838/7838 [00:12<00:00, 623.48it/s]\n",
            " 40%|████      | 2/5 [00:25<00:37, 12.55s/it]"
          ]
        },
        {
          "output_type": "stream",
          "name": "stdout",
          "text": [
            "\n",
            "Epoch 2/5, Loss: 45370.7662\n"
          ]
        },
        {
          "output_type": "stream",
          "name": "stderr",
          "text": [
            "100%|██████████| 7838/7838 [00:12<00:00, 622.97it/s]\n",
            " 60%|██████    | 3/5 [00:37<00:25, 12.57s/it]"
          ]
        },
        {
          "output_type": "stream",
          "name": "stdout",
          "text": [
            "\n",
            "Epoch 3/5, Loss: 34179.0472\n"
          ]
        },
        {
          "output_type": "stream",
          "name": "stderr",
          "text": [
            "100%|██████████| 7838/7838 [00:14<00:00, 553.71it/s]\n",
            " 80%|████████  | 4/5 [00:51<00:13, 13.20s/it]"
          ]
        },
        {
          "output_type": "stream",
          "name": "stdout",
          "text": [
            "\n",
            "Epoch 4/5, Loss: 23940.9514\n"
          ]
        },
        {
          "output_type": "stream",
          "name": "stderr",
          "text": [
            "100%|██████████| 7838/7838 [00:12<00:00, 628.16it/s]\n",
            "100%|██████████| 5/5 [01:04<00:00, 12.87s/it]"
          ]
        },
        {
          "output_type": "stream",
          "name": "stdout",
          "text": [
            "\n",
            "Epoch 5/5, Loss: 18669.2519\n"
          ]
        },
        {
          "output_type": "stream",
          "name": "stderr",
          "text": [
            "\n"
          ]
        }
      ]
    },
    {
      "cell_type": "code",
      "source": [
        "# Prediction on Train ngrams\n",
        "for ngram in train_ngrams[:10]:\n",
        "    predictions = predict(ngram[0], k=3)\n",
        "    display_predictions(ngram, predictions)"
      ],
      "metadata": {
        "id": "w8JG6Dkknkig",
        "colab": {
          "base_uri": "https://localhost:8080/"
        },
        "outputId": "a9582770-c9aa-48a4-a0ad-b92cfa3285c9"
      },
      "execution_count": 37,
      "outputs": [
        {
          "output_type": "stream",
          "name": "stdout",
          "text": [
            "\n",
            "Text: First Citizen: | Label: Before\n",
            "  Prediction #1: We\n",
            "  Prediction #2: Ye're\n",
            "  Prediction #3: Well,\n",
            "\n",
            "Text: Citizen: Before | Label: we\n",
            "  Prediction #1: the\n",
            "  Prediction #2: for\n",
            "  Prediction #3: one\n",
            "\n",
            "Text: Before we | Label: proceed\n",
            "  Prediction #1: proceed\n",
            "  Prediction #2: the\n",
            "  Prediction #3: are\n",
            "\n",
            "Text: we proceed | Label: any\n",
            "  Prediction #1: any\n",
            "  Prediction #2: in\n",
            "  Prediction #3: for\n",
            "\n",
            "Text: proceed any | Label: further,\n",
            "  Prediction #1: further,\n",
            "  Prediction #2: the\n",
            "  Prediction #3: thing.\n",
            "\n",
            "Text: any further, | Label: hear\n",
            "  Prediction #1: hear\n",
            "  Prediction #2: and\n",
            "  Prediction #3: in\n",
            "\n",
            "Text: further, hear | Label: me\n",
            "  Prediction #1: me\n",
            "  Prediction #2: you\n",
            "  Prediction #3: the\n",
            "\n",
            "Text: hear me | Label: speak.\n",
            "  Prediction #1: speak.\n",
            "  Prediction #2: smear'd;\n",
            "  Prediction #3: clip\n",
            "\n",
            "Text: me speak. | Label: All:\n",
            "  Prediction #1: All:\n",
            "  Prediction #2: for\n",
            "  Prediction #3: me.\n",
            "\n",
            "Text: speak. All: | Label: Speak,\n",
            "  Prediction #1: Speak,\n",
            "  Prediction #2: in\n",
            "  Prediction #3: for\n"
          ]
        }
      ]
    },
    {
      "cell_type": "code",
      "source": [
        "# Prediction on Test ngrams\n",
        "for ngram in test_ngrams[:10]:\n",
        "    predictions = predict(ngram[0], k=3)\n",
        "    display_predictions(ngram, predictions)"
      ],
      "metadata": {
        "colab": {
          "base_uri": "https://localhost:8080/"
        },
        "id": "XEW1HLcwaBM-",
        "outputId": "761f6fea-76ad-4dcf-c4c8-f4b8776e79f2"
      },
      "execution_count": 38,
      "outputs": [
        {
          "output_type": "stream",
          "name": "stdout",
          "text": [
            "\n",
            "Text: COMINIUS: Ever | Label: right.\n",
            "  Prediction #1: not\n",
            "  Prediction #2: the\n",
            "  Prediction #3: I\n",
            "\n",
            "Text: Ever right. | Label: CORIOLANUS:\n",
            "  Prediction #1: I\n",
            "  Prediction #2: MENENIUS:\n",
            "  Prediction #3: The\n",
            "\n",
            "Text: right. CORIOLANUS: | Label: Menenius\n",
            "  Prediction #1: By\n",
            "  Prediction #2: the\n",
            "  Prediction #3: The\n",
            "\n",
            "Text: CORIOLANUS: Menenius | Label: ever,\n",
            "  Prediction #1: Agrippa;\n",
            "  Prediction #2: I\n",
            "  Prediction #3: a\n",
            "\n",
            "Text: Menenius ever, | Label: ever.\n",
            "  Prediction #1: you\n",
            "  Prediction #2: is\n",
            "  Prediction #3: I\n",
            "\n",
            "Text: ever, ever. | Label: Herald:\n",
            "  Prediction #1: I\n",
            "  Prediction #2: in\n",
            "  Prediction #3: to\n",
            "\n",
            "Text: ever. Herald: | Label: Give\n",
            "  Prediction #1: the\n",
            "  Prediction #2: We\n",
            "  Prediction #3: or\n",
            "\n",
            "Text: Herald: Give | Label: way\n",
            "  Prediction #1: MENENIUS:\n",
            "  Prediction #2: to\n",
            "  Prediction #3: I\n",
            "\n",
            "Text: Give way | Label: there,\n",
            "  Prediction #1: the\n",
            "  Prediction #2: you\n",
            "  Prediction #3: a\n",
            "\n",
            "Text: way there, | Label: and\n",
            "  Prediction #1: You,\n",
            "  Prediction #2: the\n",
            "  Prediction #3: VOLUMNIA:\n"
          ]
        }
      ]
    },
    {
      "cell_type": "code",
      "source": [
        "user_input = [\"My\", \"dear\"]\n",
        "predictions = user_predict(user_input, k=3)\n",
        "\n",
        "print(f\"Context: {' '.join(user_input)}\")\n",
        "print(\"Predicted next words:\")\n",
        "for i, word in enumerate(predictions):\n",
        "    print(f\"  #{i+1}: {word}\")\n"
      ],
      "metadata": {
        "colab": {
          "base_uri": "https://localhost:8080/"
        },
        "id": "w6U2wpBnaF3v",
        "outputId": "1fde4281-4c91-47dc-91b0-415192b8572d"
      },
      "execution_count": 39,
      "outputs": [
        {
          "output_type": "stream",
          "name": "stdout",
          "text": [
            "Context: My dear\n",
            "Predicted next words:\n",
            "  #1: the\n",
            "  #2: you\n",
            "  #3: my\n"
          ]
        }
      ]
    },
    {
      "cell_type": "code",
      "source": [
        "# Example usage:\n",
        "start_words = [\"The\", \"quick\"]\n",
        "n = 10  # Number of words to generate\n",
        "\n",
        "ix_to_word = {ix: word for word, ix in word_to_ix.items()}\n",
        "\n",
        "generated_words = generate_text(start_words, n, model, word_to_ix, ix_to_word)\n",
        "\n",
        "print(\" \".join(generated_words))"
      ],
      "metadata": {
        "colab": {
          "base_uri": "https://localhost:8080/",
          "height": 258
        },
        "id": "IeIikFPraOLt",
        "outputId": "be221350-b603-43eb-b1b5-9b29cb90b7d1"
      },
      "execution_count": 40,
      "outputs": [
        {
          "output_type": "error",
          "ename": "NameError",
          "evalue": "ignored",
          "traceback": [
            "\u001b[0;31m---------------------------------------------------------------------------\u001b[0m",
            "\u001b[0;31mNameError\u001b[0m                                 Traceback (most recent call last)",
            "\u001b[0;32m<ipython-input-40-681897430129>\u001b[0m in \u001b[0;36m<cell line: 7>\u001b[0;34m()\u001b[0m\n\u001b[1;32m      5\u001b[0m \u001b[0mix_to_word\u001b[0m \u001b[0;34m=\u001b[0m \u001b[0;34m{\u001b[0m\u001b[0mix\u001b[0m\u001b[0;34m:\u001b[0m \u001b[0mword\u001b[0m \u001b[0;32mfor\u001b[0m \u001b[0mword\u001b[0m\u001b[0;34m,\u001b[0m \u001b[0mix\u001b[0m \u001b[0;32min\u001b[0m \u001b[0mword_to_ix\u001b[0m\u001b[0;34m.\u001b[0m\u001b[0mitems\u001b[0m\u001b[0;34m(\u001b[0m\u001b[0;34m)\u001b[0m\u001b[0;34m}\u001b[0m\u001b[0;34m\u001b[0m\u001b[0;34m\u001b[0m\u001b[0m\n\u001b[1;32m      6\u001b[0m \u001b[0;34m\u001b[0m\u001b[0m\n\u001b[0;32m----> 7\u001b[0;31m \u001b[0mgenerated_words\u001b[0m \u001b[0;34m=\u001b[0m \u001b[0mgenerate_text\u001b[0m\u001b[0;34m(\u001b[0m\u001b[0mstart_words\u001b[0m\u001b[0;34m,\u001b[0m \u001b[0mn\u001b[0m\u001b[0;34m,\u001b[0m \u001b[0mmodel\u001b[0m\u001b[0;34m,\u001b[0m \u001b[0mword_to_ix\u001b[0m\u001b[0;34m,\u001b[0m \u001b[0mix_to_word\u001b[0m\u001b[0;34m)\u001b[0m\u001b[0;34m\u001b[0m\u001b[0;34m\u001b[0m\u001b[0m\n\u001b[0m\u001b[1;32m      8\u001b[0m \u001b[0;34m\u001b[0m\u001b[0m\n\u001b[1;32m      9\u001b[0m \u001b[0mprint\u001b[0m\u001b[0;34m(\u001b[0m\u001b[0;34m\" \"\u001b[0m\u001b[0;34m.\u001b[0m\u001b[0mjoin\u001b[0m\u001b[0;34m(\u001b[0m\u001b[0mgenerated_words\u001b[0m\u001b[0;34m)\u001b[0m\u001b[0;34m)\u001b[0m\u001b[0;34m\u001b[0m\u001b[0;34m\u001b[0m\u001b[0m\n",
            "\u001b[0;31mNameError\u001b[0m: name 'generate_text' is not defined"
          ]
        }
      ]
    },
    {
      "cell_type": "markdown",
      "source": [
        "### 3 Visualizing word embeddings"
      ],
      "metadata": {
        "id": "22WrSW9hBt49"
      }
    },
    {
      "cell_type": "code",
      "source": [
        "import numpy as np\n",
        "\n",
        "# Get the interactive Tools for Matplotlib\n",
        "%matplotlib notebook\n",
        "%matplotlib inline\n",
        "import matplotlib.pyplot as plt\n",
        "plt.style.use('ggplot')\n",
        "from sklearn.decomposition import PCA\n",
        "\n",
        "from gensim.test.utils import datapath, get_tmpfile\n",
        "from gensim.models import KeyedVectors\n",
        "from gensim.scripts.glove2word2vec import glove2word2vec"
      ],
      "metadata": {
        "id": "D457L-KKpqbz"
      },
      "execution_count": 41,
      "outputs": []
    },
    {
      "cell_type": "code",
      "source": [
        "import gensim.downloader as api\n",
        "# https://github.com/RaRe-Technologies/gensim-data\n",
        "glove_model = api.load(\"glove-wiki-gigaword-300\")"
      ],
      "metadata": {
        "id": "q6JP2FOsrdP4",
        "colab": {
          "base_uri": "https://localhost:8080/"
        },
        "outputId": "76104bfa-1fe0-4247-a977-d9ab26d7f36f"
      },
      "execution_count": 42,
      "outputs": [
        {
          "output_type": "stream",
          "name": "stdout",
          "text": [
            "[==================================================] 100.0% 376.1/376.1MB downloaded\n"
          ]
        }
      ]
    },
    {
      "cell_type": "code",
      "source": [
        "def analogy(x1, x2, y1):\n",
        "    \"\"\"\n",
        "    The most_similar function finds the top-N most similar keys.\n",
        "    Positive keys contribute positively towards the similarity, negative keys negatively.\n",
        "\n",
        "    This method computes cosine similarity between a simple mean of the projection weight vectors of the given keys and the vectors for each key in the model.\n",
        "    The method corresponds to the word-analogy and distance scripts in the original word2vec implementation.\n",
        "    \"\"\"\n",
        "    result = glove_model.most_similar(positive=[y1, x2], negative=[x1])\n",
        "    return result[0][0]"
      ],
      "metadata": {
        "id": "z4O69BtkpwA3"
      },
      "execution_count": 43,
      "outputs": []
    },
    {
      "cell_type": "code",
      "source": [
        "analogy('japan', 'japanese', 'korea')"
      ],
      "metadata": {
        "id": "zathjeYOp1B4",
        "colab": {
          "base_uri": "https://localhost:8080/",
          "height": 35
        },
        "outputId": "daaf6cc5-011c-4a41-dbf8-a3b0938f28cb"
      },
      "execution_count": 44,
      "outputs": [
        {
          "output_type": "execute_result",
          "data": {
            "text/plain": [
              "'korean'"
            ],
            "application/vnd.google.colaboratory.intrinsic+json": {
              "type": "string"
            }
          },
          "metadata": {},
          "execution_count": 44
        }
      ]
    },
    {
      "cell_type": "markdown",
      "source": [
        "$\\varphi(\\text{japan})-\\varphi(\\text{japanese})=\\varphi(\\text{korea})-\\varphi(x)$ \\\\\n",
        "$\\varphi(x)=\\varphi(\\text{japanese})-\\varphi(\\text{japan})+\\varphi(\\text{korea})$ \\\\\n",
        "Choose $x$ such that the embedding of $x$ is close to $\\varphi(\\text{japanese})-\\varphi(\\text{japan})+\\varphi(\\text{korea})$."
      ],
      "metadata": {
        "id": "KMfuPQX0CruA"
      }
    },
    {
      "cell_type": "code",
      "source": [
        "analogy('king', 'man', 'queen')"
      ],
      "metadata": {
        "id": "3Cw3O3mIcL4N",
        "colab": {
          "base_uri": "https://localhost:8080/",
          "height": 35
        },
        "outputId": "f0fe67dd-0218-4507-e393-a348f745b2af"
      },
      "execution_count": 45,
      "outputs": [
        {
          "output_type": "execute_result",
          "data": {
            "text/plain": [
              "'woman'"
            ],
            "application/vnd.google.colaboratory.intrinsic+json": {
              "type": "string"
            }
          },
          "metadata": {},
          "execution_count": 45
        }
      ]
    },
    {
      "cell_type": "code",
      "source": [
        "analogy('paltry', 'significant', 'banal')"
      ],
      "metadata": {
        "id": "DR3ewmj5cxkD",
        "colab": {
          "base_uri": "https://localhost:8080/",
          "height": 35
        },
        "outputId": "499d6c2d-aa2f-43d4-e335-3ae1efee2b48"
      },
      "execution_count": 46,
      "outputs": [
        {
          "output_type": "execute_result",
          "data": {
            "text/plain": [
              "'important'"
            ],
            "application/vnd.google.colaboratory.intrinsic+json": {
              "type": "string"
            }
          },
          "metadata": {},
          "execution_count": 46
        }
      ]
    },
    {
      "cell_type": "code",
      "source": [
        "analogy('opulent', 'wealth', 'powerful')"
      ],
      "metadata": {
        "id": "oervOCe6dAJd",
        "colab": {
          "base_uri": "https://localhost:8080/",
          "height": 35
        },
        "outputId": "93821269-58e8-4390-e89b-07f78ae65c3e"
      },
      "execution_count": 47,
      "outputs": [
        {
          "output_type": "execute_result",
          "data": {
            "text/plain": [
              "'strong'"
            ],
            "application/vnd.google.colaboratory.intrinsic+json": {
              "type": "string"
            }
          },
          "metadata": {},
          "execution_count": 47
        }
      ]
    },
    {
      "cell_type": "code",
      "source": [
        "analogy('regatta', 'oarsman', 'marathon') # failure cases"
      ],
      "metadata": {
        "id": "4Bq_SmK-dsZ4",
        "colab": {
          "base_uri": "https://localhost:8080/",
          "height": 35
        },
        "outputId": "c3a4a38a-71ba-4e2a-cc62-0e4eaec4a4e5"
      },
      "execution_count": 48,
      "outputs": [
        {
          "output_type": "execute_result",
          "data": {
            "text/plain": [
              "'swimmer'"
            ],
            "application/vnd.google.colaboratory.intrinsic+json": {
              "type": "string"
            }
          },
          "metadata": {},
          "execution_count": 48
        }
      ]
    },
    {
      "cell_type": "code",
      "source": [
        "analogy('diamond', 'baseball', 'court') # failure cases - we want baseball diamond and squash court. word vectors are limited in dealing with multiple semantics"
      ],
      "metadata": {
        "id": "5GaJoyQpd3Ev",
        "colab": {
          "base_uri": "https://localhost:8080/",
          "height": 35
        },
        "outputId": "884d0456-9c13-4997-c5e9-36deb3695b92"
      },
      "execution_count": 49,
      "outputs": [
        {
          "output_type": "execute_result",
          "data": {
            "text/plain": [
              "'appeals'"
            ],
            "application/vnd.google.colaboratory.intrinsic+json": {
              "type": "string"
            }
          },
          "metadata": {},
          "execution_count": 49
        }
      ]
    },
    {
      "cell_type": "code",
      "source": [
        "analogy('one', 'ten', 'two',) # semantic vectors often have imprecise representation of numbers"
      ],
      "metadata": {
        "id": "9UT7ZmoReYG2",
        "colab": {
          "base_uri": "https://localhost:8080/",
          "height": 35
        },
        "outputId": "3a97ebd5-aa9f-4ab3-da48-5d0ce8e19291"
      },
      "execution_count": 50,
      "outputs": [
        {
          "output_type": "execute_result",
          "data": {
            "text/plain": [
              "'eleven'"
            ],
            "application/vnd.google.colaboratory.intrinsic+json": {
              "type": "string"
            }
          },
          "metadata": {},
          "execution_count": 50
        }
      ]
    },
    {
      "cell_type": "code",
      "source": [
        "def display_pca_scatterplot(model, words=None, sample=0):\n",
        "    if words == None:\n",
        "        if sample > 0:\n",
        "            words = np.random.choice(list(model.key_to_index.keys()), sample)\n",
        "        else:\n",
        "            words = [ word for word in model.key_to_index.keys() ]\n",
        "\n",
        "    word_vectors = np.array([model[w] for w in words])\n",
        "\n",
        "    twodim = PCA().fit_transform(word_vectors)[:,:2]\n",
        "\n",
        "    plt.figure(figsize=(6,6))\n",
        "    plt.scatter(twodim[:,0], twodim[:,1], edgecolors='k', c='r')\n",
        "    for word, (x,y) in zip(words, twodim):\n",
        "        plt.text(x+0.05, y+0.05, word)\n",
        "\n",
        "    plt.show()"
      ],
      "metadata": {
        "id": "tZP37_wAp7JB"
      },
      "execution_count": 51,
      "outputs": []
    },
    {
      "cell_type": "code",
      "source": [
        "display_pca_scatterplot(glove_model,\n",
        "                        ['coffee', 'tea', 'beer', 'wine', 'brandy', 'rum', 'champagne', 'water',\n",
        "                         'spaghetti', 'borscht', 'hamburger', 'pizza', 'falafel', 'sushi', 'meatballs',\n",
        "                         'dog', 'horse', 'cat', 'monkey', 'parrot', 'koala', 'lizard',\n",
        "                         'frog', 'toad', 'monkey', 'ape', 'kangaroo', 'wombat', 'wolf',\n",
        "                         'france', 'germany', 'hungary', 'luxembourg', 'australia', 'fiji', 'china',\n",
        "                         'homework', 'assignment', 'problem', 'exam', 'test', 'class',\n",
        "                         'school', 'college', 'university', 'institute'])"
      ],
      "metadata": {
        "id": "kpw44Sssp9AS",
        "colab": {
          "base_uri": "https://localhost:8080/",
          "height": 522
        },
        "outputId": "932b2792-5504-4a9b-8803-921b54d98c2c"
      },
      "execution_count": 52,
      "outputs": [
        {
          "output_type": "display_data",
          "data": {
            "text/plain": [
              "<Figure size 600x600 with 1 Axes>"
            ],
            "image/png": "[encoded data removed]"
          },
          "metadata": {}
        }
      ]
    },
    {
      "cell_type": "code",
      "source": [
        "display_pca_scatterplot(glove_model,\n",
        "                        ['woman', 'queen', 'man', 'king', 'girl', 'boy','prince', 'princess']             )"
      ],
      "metadata": {
        "id": "7129vBQQe6zT",
        "colab": {
          "base_uri": "https://localhost:8080/",
          "height": 522
        },
        "outputId": "170190fb-3104-4445-8e0d-e26741cbcefb"
      },
      "execution_count": 53,
      "outputs": [
        {
          "output_type": "display_data",
          "data": {
            "text/plain": [
              "<Figure size 600x600 with 1 Axes>"
            ],
            "image/png": "[encoded data removed]"
          },
          "metadata": {}
        }
      ]
    },
    {
      "cell_type": "code",
      "source": [
        "display_pca_scatterplot(glove_model, sample=20)"
      ],
      "metadata": {
        "id": "Ms9tw4aOp_Sl",
        "colab": {
          "base_uri": "https://localhost:8080/",
          "height": 522
        },
        "outputId": "b6edd913-20e9-41dd-f9f2-ed9fc55d7ce4"
      },
      "execution_count": 54,
      "outputs": [
        {
          "output_type": "display_data",
          "data": {
            "text/plain": [
              "<Figure size 600x600 with 1 Axes>"
            ],
            "image/png": "[encoded data removed]"
          },
          "metadata": {}
        }
      ]
    },
    {
      "cell_type": "code",
      "source": [],
      "metadata": {
        "id": "a_ZqOWNVWEHs"
      },
      "execution_count": null,
      "outputs": []
    }
  ]
}